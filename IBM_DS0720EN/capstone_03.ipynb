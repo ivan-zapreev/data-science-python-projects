{
 "cells": [
  {
   "cell_type": "markdown",
   "metadata": {},
   "source": [
    "# What Is the Relationship between Housing Characteristics and Complaints?\n",
    "\n",
    "The goal of this exercise is to find the answer to the Question 3 of the problem statement: \n",
    "\n",
    "> Does the Complaint Type that you identified in response to Question 1 have an obvious relationship with any particular characteristic or characteristic of the Houses?\n",
    "\n",
    "In this exercise, we shall use the 311 dataset in combination with the PLUTO data set. The latter shall be used for the most problematic borough that was identified as a part of answering the Question 2. \n",
    "Remember that, the answer to Question 1 (What Is the Top Complaint Type?) was: \n",
    "\n",
    "> The most often reported complaint is 'HEAT/HOT WATER'\n",
    "\n",
    "The answe to Question 2 (What Areas Should the Agency Focus On?) was:\n",
    "\n",
    "> The borough with the most 'HEAT/HOT WATER' complaints is 'BRONX'\n",
    "\n",
    "Therefore, in the remainder we shall analyze whether the 'HEAT/HOT WATER' comlaints reported in 'BRONX' have obvious relationship with any particular house characteristics.\n",
    "\n",
    "# The data sets\n",
    "The 311 dataset is already well known to us as it was used to answer Questions 1 & 2, therefore it does not require any special introduction. \n",
    "\n",
    "The PLUTO data set is new to us and it aggregates condominium unit tax lot informationto the billing lot.\n",
    "The initially recommended (by the course advisers) PLUTO data set fields to consider are:\n",
    "\n",
    "|    Field   |                  Description                     |\n",
    "|------------|--------------------------------------------------|\n",
    "| Address    | An address of the tax lot |\n",
    "| BldgArea   | The total gross area in square feet |\n",
    "| BldgDepth  | The building’s depth, measured in feet |\n",
    "| BuiltFAR   | The build floor area ration |\n",
    "| CommFAR    | The maximum allowable commercial floor area ratio |\n",
    "| FacilFAR   | The maximum allowable community facility floor area ratio |\n",
    "| Lot        | The one to four-digit tax lot number |\n",
    "| LotArea    | Total area of the tax lot, in square feet |\n",
    "| LotDepth   | The tax lot's depth measured in feet |\n",
    "| NumBldgs   | The number of buildings on the tax lot |\n",
    "| NumFloors  | The number of full and partialstories starting from the ground floor, for the tallest building on the tax lot |\n",
    "| OfficeArea | An estimate of theexterior dimensions of the portion of the structure(s) allocated for office use |\n",
    "| ResArea    | An estimate of the exterior dimensions of the portion of the structure(s) allocated for residential use |\n",
    "| ResidFAR   | The maximum allowable residential floor area ratio |\n",
    "| RetailArea | An estimate of the exterior dimensions of the portion of the structure(s) allocated for retail use |\n",
    "| YearBuilt  | The year construction of the building was completed |\n",
    "| YearAlter1 | Is the year of the building's most recent alteration |\n",
    "| ZipCode    | A ZIP code that is valid for one of the addresses assigned to the tax lot |\n",
    "| XCoord     | The X coordinate of the XY coordinate pair which depicts the approximate location of the lot |\n",
    "| YCoord     | The Y coordinate of the XY coordinate pair which depicts the approximate location of the lot |\n",
    "\n",
    "Consider reading the [PLUTO Data Dictionary](https://www1.nyc.gov/assets/planning/download/pdf/data-maps/open-data/pluto_datadictionary.pdf?r=19v2) for more details. The data set archive consists of several CSV files, each devoted to a single borough:\n",
    "\n",
    "|   CSV file  |      Borough       |\n",
    "|-------------|--------------------|\n",
    "| QN_18v1.csv | QUEENS |\n",
    "| BK_18v1.csv | BROOKLYN |\n",
    "| SI_18v1.csv | STATEN ISLAND |\n",
    "| BX_18v1.csv | BRONX |\n",
    "| MN_18v1.csv | MANHATTAN |\n",
    "\n",
    "Since we are interested in borough *'BRONX'* we shall use the data from the corresponding *'BX_18v1.csv'* file.\n",
    "\n",
    "\n",
    "# Load the data\n"
   ]
  },
  {
   "cell_type": "markdown",
   "metadata": {},
   "source": [
    "Loading of the data can be done both from the IBM cloud storage and the locally present CSV files. The latter is decided upon the presence of the proper secure field values of the credentials:"
   ]
  },
  {
   "cell_type": "code",
   "execution_count": 1,
   "metadata": {},
   "outputs": [],
   "source": [
    "import os\n",
    "import re\n",
    "import ibm_boto3\n",
    "import numpy as np\n",
    "import pandas as pd\n",
    "import seaborn as sns\n",
    "import matplotlib.pyplot as plt\n",
    "\n",
    "from botocore.client import Config\n",
    "from sklearn.preprocessing import LabelEncoder\n",
    "from sklearn.preprocessing import StandardScaler\n",
    "from sklearn.feature_selection import SelectKBest\n",
    "from sklearn.feature_selection import mutual_info_classif\n",
    "from sklearn.ensemble import ExtraTreesClassifier\n",
    "from sklearn.tree import DecisionTreeClassifier"
   ]
  },
  {
   "cell_type": "code",
   "execution_count": 2,
   "metadata": {},
   "outputs": [],
   "source": [
    "# @hidden_cell\n",
    "SECURITY_DUMMY = '----------------'\n",
    "erm2_nwe9_creds = {\n",
    "    'IAM_SERVICE_ID'    : SECURITY_DUMMY,\n",
    "    'IBM_API_KEY_ID'    : SECURITY_DUMMY,\n",
    "    'ENDPOINT'          : 'https://s3.eu-geo.objectstorage.service.networklayer.com',\n",
    "    'IBM_AUTH_ENDPOINT' : 'https://iam.eu-gb.bluemix.net/oidc/token',\n",
    "    'BUCKET'            : SECURITY_DUMMY,\n",
    "    'FILE'              : 'erm2_nwe9.csv'\n",
    "}\n",
    "bx_18v1_creds = {\n",
    "    'IAM_SERVICE_ID'    : SECURITY_DUMMY,\n",
    "    'IBM_API_KEY_ID'    : SECURITY_DUMMY,\n",
    "    'ENDPOINT'          : 'https://s3.eu-geo.objectstorage.service.networklayer.com',\n",
    "    'IBM_AUTH_ENDPOINT' : 'https://iam.eu-gb.bluemix.net/oidc/token',\n",
    "    'BUCKET'            : SECURITY_DUMMY,\n",
    "    'FILE'              : 'BX_18v1.csv'\n",
    "}"
   ]
  },
  {
   "cell_type": "code",
   "execution_count": 3,
   "metadata": {},
   "outputs": [],
   "source": [
    "# Allows to get the data source for the credentials from the IBM cloud or local csv file \n",
    "def get_data_source(credentials) :\n",
    "    '''Creates a data source from the IBM cloud or local csv file according to the credentials'''\n",
    "    # Here we check if the credentials are present, if not try \n",
    "    # load the local file if they are then read from the cloud.\n",
    "    if credentials.get('IAM_SERVICE_ID') == SECURITY_DUMMY :\n",
    "        # This is the alternative to get the code run locally with a local csv file\n",
    "        body = 'data' + os.path.sep + credentials.get('FILE')\n",
    "    else :\n",
    "        client = ibm_boto3.client(\n",
    "            service_name = 's3',\n",
    "            ibm_api_key_id = credentials.get('IBM_API_KEY_ID'),\n",
    "            ibm_auth_endpoint = credentials.get('IBM_AUTH_ENDPOINT'),\n",
    "            config = Config(signature_version='oauth'),\n",
    "            endpoint_url = credentials.get('ENDPOINT'))\n",
    "\n",
    "        body = client.get_object(\n",
    "            Bucket = credentials.get('BUCKET'),\n",
    "            Key = credentials.get('FILE'))['Body']\n",
    "\n",
    "        # add missing __iter__ method, so pandas accepts body as file-like object\n",
    "        def __iter__(self): return 0\n",
    "        if not hasattr(body, \"__iter__\"): body.__iter__ = types.MethodType( __iter__, body )\n",
    "\n",
    "    return body"
   ]
  },
  {
   "cell_type": "markdown",
   "metadata": {},
   "source": [
    "Further, we shall subsequently load the 311 and PLUTO data sets. Along the way, we will select the necessary columns and check on (, and correct if needed,) the column data types."
   ]
  },
  {
   "cell_type": "markdown",
   "metadata": {},
   "source": [
    "## The 311 data set\n",
    "Here we first load the 311 data set:"
   ]
  },
  {
   "cell_type": "code",
   "execution_count": 4,
   "metadata": {},
   "outputs": [],
   "source": [
    "# Get the data source for the credentials\n",
    "dhp_ds = get_data_source(erm2_nwe9_creds)\n",
    "\n",
    "# Read the CSV file\n",
    "dhp_df = pd.read_csv(dhp_ds, parse_dates = ['created_date', 'closed_date'])"
   ]
  },
  {
   "cell_type": "markdown",
   "metadata": {},
   "source": [
    "Next, we select the data related to the comlaints reported in 'BRONX'."
   ]
  },
  {
   "cell_type": "code",
   "execution_count": 5,
   "metadata": {},
   "outputs": [
    {
     "name": "stdout",
     "output_type": "stream",
     "text": [
      "Number of all complaints: 6034470\n",
      "Number of 'HEAT/HOT WATER' complaints in 'BRONX': 1623174\n"
     ]
    }
   ],
   "source": [
    "print('Number of all complaints:', dhp_df.shape[0])\n",
    "dhp_df = dhp_df[(dhp_df['borough'] == 'BRONX')]\n",
    "print('Number of \\'HEAT/HOT WATER\\' complaints in \\'BRONX\\':', dhp_df.shape[0])"
   ]
  },
  {
   "cell_type": "markdown",
   "metadata": {},
   "source": [
    "Next, let us realize that the 311 data set will only be used to select the lots from the PLUTO data set. The complaints we have are now all from 'BRONX'. We will be interested in analyzing common house properties of the 'HEAT/HOT WATER' complaints. Yet, we may need information of the house properties of other complaints as well. Therefore, the selection of the concrete complain type will be done in the analysis phase. For now, let us keep the following relevant data frame columns: the complaint type, the property zip code and address. We shall also rename the columns for coherency and matching those of PLUTO."
   ]
  },
  {
   "cell_type": "code",
   "execution_count": 6,
   "metadata": {},
   "outputs": [
    {
     "data": {
      "text/html": [
       "<div>\n",
       "<style scoped>\n",
       "    .dataframe tbody tr th:only-of-type {\n",
       "        vertical-align: middle;\n",
       "    }\n",
       "\n",
       "    .dataframe tbody tr th {\n",
       "        vertical-align: top;\n",
       "    }\n",
       "\n",
       "    .dataframe thead th {\n",
       "        text-align: right;\n",
       "    }\n",
       "</style>\n",
       "<table border=\"1\" class=\"dataframe\">\n",
       "  <thead>\n",
       "    <tr style=\"text-align: right;\">\n",
       "      <th></th>\n",
       "      <th>Type</th>\n",
       "      <th>Address</th>\n",
       "      <th>ZipCode</th>\n",
       "    </tr>\n",
       "  </thead>\n",
       "  <tbody>\n",
       "    <tr>\n",
       "      <th>0</th>\n",
       "      <td>HEAT/HOT WATER</td>\n",
       "      <td>511 EAST  148 STREET</td>\n",
       "      <td>10455.0</td>\n",
       "    </tr>\n",
       "    <tr>\n",
       "      <th>5</th>\n",
       "      <td>PLUMBING</td>\n",
       "      <td>2718 MORRIS AVENUE</td>\n",
       "      <td>10468.0</td>\n",
       "    </tr>\n",
       "    <tr>\n",
       "      <th>7</th>\n",
       "      <td>HEAT/HOT WATER</td>\n",
       "      <td>1275 EDWARD L GRANT HIGHWAY</td>\n",
       "      <td>10452.0</td>\n",
       "    </tr>\n",
       "    <tr>\n",
       "      <th>12</th>\n",
       "      <td>HEAT/HOT WATER</td>\n",
       "      <td>152 EAST  171 STREET</td>\n",
       "      <td>10452.0</td>\n",
       "    </tr>\n",
       "    <tr>\n",
       "      <th>16</th>\n",
       "      <td>HEAT/HOT WATER</td>\n",
       "      <td>2523 UNIVERSITY AVENUE</td>\n",
       "      <td>10468.0</td>\n",
       "    </tr>\n",
       "  </tbody>\n",
       "</table>\n",
       "</div>"
      ],
      "text/plain": [
       "              Type                      Address  ZipCode\n",
       "0   HEAT/HOT WATER         511 EAST  148 STREET  10455.0\n",
       "5         PLUMBING           2718 MORRIS AVENUE  10468.0\n",
       "7   HEAT/HOT WATER  1275 EDWARD L GRANT HIGHWAY  10452.0\n",
       "12  HEAT/HOT WATER         152 EAST  171 STREET  10452.0\n",
       "16  HEAT/HOT WATER       2523 UNIVERSITY AVENUE  10468.0"
      ]
     },
     "execution_count": 6,
     "metadata": {},
     "output_type": "execute_result"
    }
   ],
   "source": [
    "dhp_df = dhp_df[['complaint_type', 'incident_address', 'incident_zip']]\n",
    "dhp_df = dhp_df.rename({'complaint_type':'Type', 'incident_address':'Address', 'incident_zip':'ZipCode'}, axis=1)\n",
    "dhp_df.head()"
   ]
  },
  {
   "cell_type": "markdown",
   "metadata": {},
   "source": [
    "Finally let us check on the column types:"
   ]
  },
  {
   "cell_type": "code",
   "execution_count": 7,
   "metadata": {},
   "outputs": [
    {
     "data": {
      "text/plain": [
       "Type        object\n",
       "Address     object\n",
       "ZipCode    float64\n",
       "dtype: object"
      ]
     },
     "execution_count": 7,
     "metadata": {},
     "output_type": "execute_result"
    }
   ],
   "source": [
    "dhp_df.dtypes"
   ]
  },
  {
   "cell_type": "markdown",
   "metadata": {},
   "source": [
    "The types are in order as the address and complaint type are strings and the zip code is a float.\n",
    "\n",
    "## The PLUTO data set\n",
    "Here we first load the PLUTO data set:"
   ]
  },
  {
   "cell_type": "code",
   "execution_count": 8,
   "metadata": {},
   "outputs": [],
   "source": [
    "# Get the data source for the credentials\n",
    "bx_ds = get_data_source(bx_18v1_creds)\n",
    "\n",
    "# Read the CSV file\n",
    "bx_df = pd.read_csv(bx_ds, low_memory = False)"
   ]
  },
  {
   "cell_type": "markdown",
   "metadata": {},
   "source": [
    "Next, we select the recommended fields:"
   ]
  },
  {
   "cell_type": "code",
   "execution_count": 9,
   "metadata": {},
   "outputs": [],
   "source": [
    "bx_df = bx_df[['Address', 'BldgArea', 'BldgDepth', 'BuiltFAR',\n",
    "              'CommFAR', 'FacilFAR', 'Lot', 'LotArea', 'LotDepth',\n",
    "              'NumBldgs', 'NumFloors', 'OfficeArea', 'ResArea',\n",
    "              'ResidFAR', 'RetailArea', 'YearBuilt', 'YearAlter1',\n",
    "              'ZipCode', 'YCoord', 'XCoord']]"
   ]
  },
  {
   "cell_type": "markdown",
   "metadata": {},
   "source": [
    "Further list the types of the columns to check if they are all in order:"
   ]
  },
  {
   "cell_type": "code",
   "execution_count": 10,
   "metadata": {},
   "outputs": [
    {
     "data": {
      "text/plain": [
       "Address        object\n",
       "BldgArea        int64\n",
       "BldgDepth     float64\n",
       "BuiltFAR      float64\n",
       "CommFAR       float64\n",
       "FacilFAR      float64\n",
       "Lot             int64\n",
       "LotArea         int64\n",
       "LotDepth      float64\n",
       "NumBldgs        int64\n",
       "NumFloors     float64\n",
       "OfficeArea      int64\n",
       "ResArea         int64\n",
       "ResidFAR      float64\n",
       "RetailArea      int64\n",
       "YearBuilt       int64\n",
       "YearAlter1      int64\n",
       "ZipCode       float64\n",
       "YCoord        float64\n",
       "XCoord        float64\n",
       "dtype: object"
      ]
     },
     "execution_count": 10,
     "metadata": {},
     "output_type": "execute_result"
    }
   ],
   "source": [
    "bx_df.dtypes"
   ]
  },
  {
   "cell_type": "markdown",
   "metadata": {},
   "source": [
    "All the data frame columns have proper numeric types, except for the Address one which is a string.\n",
    "\n",
    "# Data Exploration and Cleaning\n",
    "In this section we shall do the initial data exploration of the 311 and PLUTO data sets. As a part of this exploration we will do data cleaning in order to prepare the data sets to subsequent analysis.\n",
    "\n",
    "## The 311 data set\n",
    "\n",
    "We can now describe the 311 data set to get some insights in the remaining data:"
   ]
  },
  {
   "cell_type": "code",
   "execution_count": 11,
   "metadata": {},
   "outputs": [
    {
     "data": {
      "text/html": [
       "<div>\n",
       "<style scoped>\n",
       "    .dataframe tbody tr th:only-of-type {\n",
       "        vertical-align: middle;\n",
       "    }\n",
       "\n",
       "    .dataframe tbody tr th {\n",
       "        vertical-align: top;\n",
       "    }\n",
       "\n",
       "    .dataframe thead th {\n",
       "        text-align: right;\n",
       "    }\n",
       "</style>\n",
       "<table border=\"1\" class=\"dataframe\">\n",
       "  <thead>\n",
       "    <tr style=\"text-align: right;\">\n",
       "      <th></th>\n",
       "      <th>Type</th>\n",
       "      <th>Address</th>\n",
       "      <th>ZipCode</th>\n",
       "    </tr>\n",
       "  </thead>\n",
       "  <tbody>\n",
       "    <tr>\n",
       "      <th>count</th>\n",
       "      <td>1623174</td>\n",
       "      <td>1623173</td>\n",
       "      <td>1.615055e+06</td>\n",
       "    </tr>\n",
       "    <tr>\n",
       "      <th>unique</th>\n",
       "      <td>23</td>\n",
       "      <td>28460</td>\n",
       "      <td>NaN</td>\n",
       "    </tr>\n",
       "    <tr>\n",
       "      <th>top</th>\n",
       "      <td>HEAT/HOT WATER</td>\n",
       "      <td>1025 BOYNTON AVENUE</td>\n",
       "      <td>NaN</td>\n",
       "    </tr>\n",
       "    <tr>\n",
       "      <th>freq</th>\n",
       "      <td>609783</td>\n",
       "      <td>9737</td>\n",
       "      <td>NaN</td>\n",
       "    </tr>\n",
       "    <tr>\n",
       "      <th>mean</th>\n",
       "      <td>NaN</td>\n",
       "      <td>NaN</td>\n",
       "      <td>1.046052e+04</td>\n",
       "    </tr>\n",
       "    <tr>\n",
       "      <th>std</th>\n",
       "      <td>NaN</td>\n",
       "      <td>NaN</td>\n",
       "      <td>6.533349e+00</td>\n",
       "    </tr>\n",
       "    <tr>\n",
       "      <th>min</th>\n",
       "      <td>NaN</td>\n",
       "      <td>NaN</td>\n",
       "      <td>1.045100e+04</td>\n",
       "    </tr>\n",
       "    <tr>\n",
       "      <th>25%</th>\n",
       "      <td>NaN</td>\n",
       "      <td>NaN</td>\n",
       "      <td>1.045600e+04</td>\n",
       "    </tr>\n",
       "    <tr>\n",
       "      <th>50%</th>\n",
       "      <td>NaN</td>\n",
       "      <td>NaN</td>\n",
       "      <td>1.045900e+04</td>\n",
       "    </tr>\n",
       "    <tr>\n",
       "      <th>75%</th>\n",
       "      <td>NaN</td>\n",
       "      <td>NaN</td>\n",
       "      <td>1.046700e+04</td>\n",
       "    </tr>\n",
       "    <tr>\n",
       "      <th>max</th>\n",
       "      <td>NaN</td>\n",
       "      <td>NaN</td>\n",
       "      <td>1.080300e+04</td>\n",
       "    </tr>\n",
       "  </tbody>\n",
       "</table>\n",
       "</div>"
      ],
      "text/plain": [
       "                  Type              Address       ZipCode\n",
       "count          1623174              1623173  1.615055e+06\n",
       "unique              23                28460           NaN\n",
       "top     HEAT/HOT WATER  1025 BOYNTON AVENUE           NaN\n",
       "freq            609783                 9737           NaN\n",
       "mean               NaN                  NaN  1.046052e+04\n",
       "std                NaN                  NaN  6.533349e+00\n",
       "min                NaN                  NaN  1.045100e+04\n",
       "25%                NaN                  NaN  1.045600e+04\n",
       "50%                NaN                  NaN  1.045900e+04\n",
       "75%                NaN                  NaN  1.046700e+04\n",
       "max                NaN                  NaN  1.080300e+04"
      ]
     },
     "execution_count": 11,
     "metadata": {},
     "output_type": "execute_result"
    }
   ],
   "source": [
    "dhp_df.describe(include='all')"
   ]
  },
  {
   "cell_type": "markdown",
   "metadata": {},
   "source": [
    "There is no much to see here as the provided statistics is mostly not informative. Given the total number of 'BRONX' complaints is:"
   ]
  },
  {
   "cell_type": "code",
   "execution_count": 12,
   "metadata": {},
   "outputs": [
    {
     "name": "stdout",
     "output_type": "stream",
     "text": [
      "The total number of complaints in 'BRONX' is: 1623174\n"
     ]
    }
   ],
   "source": [
    "print('The total number of complaints in \\'BRONX\\' is:', dhp_df.shape[0])"
   ]
  },
  {
   "cell_type": "markdown",
   "metadata": {},
   "source": [
    "For the address, we can only tell that there are `1623173` non Na/NaN values, among which `28460` are unique and that the top complaints address is `1025 BOYNTON AVENUE` with `9737` comlaints over all the years. For the zip codes the amount of useful information is even less, we can just see that the number of non Na/NaN zip codes is: `1615055`.\n",
    "\n",
    "Let us now explicitly check for the present Na/NaN values:"
   ]
  },
  {
   "cell_type": "code",
   "execution_count": 13,
   "metadata": {},
   "outputs": [
    {
     "name": "stdout",
     "output_type": "stream",
     "text": [
      "The number of missing comlaint types is: 0 \n",
      "The number of missing addresses is: 1 \n",
      "The number of missing zip codes is: 8119\n"
     ]
    }
   ],
   "source": [
    "missing = dhp_df.isna()\n",
    "print('The number of missing comlaint types is:', missing.Type.sum(),\n",
    "      '\\nThe number of missing addresses is:', missing.Address.sum(),\n",
    "      '\\nThe number of missing zip codes is:', missing.ZipCode.sum())"
   ]
  },
  {
   "cell_type": "markdown",
   "metadata": {},
   "source": [
    "As one can see there are missing values which we can not easily restore, so let us drop the corresponding rows:"
   ]
  },
  {
   "cell_type": "code",
   "execution_count": 14,
   "metadata": {},
   "outputs": [
    {
     "name": "stdout",
     "output_type": "stream",
     "text": [
      "The number of complaints including Na/NaN values: 1623174\n",
      "The number of clean complaints: 1615055\n"
     ]
    }
   ],
   "source": [
    "print('The number of complaints including Na/NaN values:', dhp_df.shape[0])\n",
    "dhp_df.dropna(inplace = True)\n",
    "print('The number of clean complaints:', dhp_df.shape[0])"
   ]
  },
  {
   "cell_type": "markdown",
   "metadata": {},
   "source": [
    "As one can see, the amount of dropped data is marginal, i.e. it just about `100 - (1615055 * 100 /1623174) =  0.50`%.\n",
    "\n",
    "## The PLUTO data set\n",
    "We can now describe the PLUTO data set to get some insights in the selected data:"
   ]
  },
  {
   "cell_type": "code",
   "execution_count": 15,
   "metadata": {},
   "outputs": [
    {
     "data": {
      "text/html": [
       "<div>\n",
       "<style scoped>\n",
       "    .dataframe tbody tr th:only-of-type {\n",
       "        vertical-align: middle;\n",
       "    }\n",
       "\n",
       "    .dataframe tbody tr th {\n",
       "        vertical-align: top;\n",
       "    }\n",
       "\n",
       "    .dataframe thead th {\n",
       "        text-align: right;\n",
       "    }\n",
       "</style>\n",
       "<table border=\"1\" class=\"dataframe\">\n",
       "  <thead>\n",
       "    <tr style=\"text-align: right;\">\n",
       "      <th></th>\n",
       "      <th>Address</th>\n",
       "      <th>BldgArea</th>\n",
       "      <th>BldgDepth</th>\n",
       "      <th>BuiltFAR</th>\n",
       "      <th>CommFAR</th>\n",
       "      <th>FacilFAR</th>\n",
       "      <th>Lot</th>\n",
       "      <th>LotArea</th>\n",
       "      <th>LotDepth</th>\n",
       "      <th>NumBldgs</th>\n",
       "      <th>NumFloors</th>\n",
       "      <th>OfficeArea</th>\n",
       "      <th>ResArea</th>\n",
       "      <th>ResidFAR</th>\n",
       "      <th>RetailArea</th>\n",
       "      <th>YearBuilt</th>\n",
       "      <th>YearAlter1</th>\n",
       "      <th>ZipCode</th>\n",
       "      <th>YCoord</th>\n",
       "      <th>XCoord</th>\n",
       "    </tr>\n",
       "  </thead>\n",
       "  <tbody>\n",
       "    <tr>\n",
       "      <th>count</th>\n",
       "      <td>89785</td>\n",
       "      <td>8.985400e+04</td>\n",
       "      <td>89854.000000</td>\n",
       "      <td>89854.000000</td>\n",
       "      <td>89854.000000</td>\n",
       "      <td>89854.000000</td>\n",
       "      <td>89854.000000</td>\n",
       "      <td>8.985400e+04</td>\n",
       "      <td>89854.000000</td>\n",
       "      <td>89854.000000</td>\n",
       "      <td>89854.000000</td>\n",
       "      <td>8.985400e+04</td>\n",
       "      <td>8.985400e+04</td>\n",
       "      <td>89854.000000</td>\n",
       "      <td>89854.000000</td>\n",
       "      <td>89854.000000</td>\n",
       "      <td>89854.000000</td>\n",
       "      <td>89525.000000</td>\n",
       "      <td>86595.000000</td>\n",
       "      <td>8.659500e+04</td>\n",
       "    </tr>\n",
       "    <tr>\n",
       "      <th>unique</th>\n",
       "      <td>87017</td>\n",
       "      <td>NaN</td>\n",
       "      <td>NaN</td>\n",
       "      <td>NaN</td>\n",
       "      <td>NaN</td>\n",
       "      <td>NaN</td>\n",
       "      <td>NaN</td>\n",
       "      <td>NaN</td>\n",
       "      <td>NaN</td>\n",
       "      <td>NaN</td>\n",
       "      <td>NaN</td>\n",
       "      <td>NaN</td>\n",
       "      <td>NaN</td>\n",
       "      <td>NaN</td>\n",
       "      <td>NaN</td>\n",
       "      <td>NaN</td>\n",
       "      <td>NaN</td>\n",
       "      <td>NaN</td>\n",
       "      <td>NaN</td>\n",
       "      <td>NaN</td>\n",
       "    </tr>\n",
       "    <tr>\n",
       "      <th>top</th>\n",
       "      <td>SHORE DRIVE</td>\n",
       "      <td>NaN</td>\n",
       "      <td>NaN</td>\n",
       "      <td>NaN</td>\n",
       "      <td>NaN</td>\n",
       "      <td>NaN</td>\n",
       "      <td>NaN</td>\n",
       "      <td>NaN</td>\n",
       "      <td>NaN</td>\n",
       "      <td>NaN</td>\n",
       "      <td>NaN</td>\n",
       "      <td>NaN</td>\n",
       "      <td>NaN</td>\n",
       "      <td>NaN</td>\n",
       "      <td>NaN</td>\n",
       "      <td>NaN</td>\n",
       "      <td>NaN</td>\n",
       "      <td>NaN</td>\n",
       "      <td>NaN</td>\n",
       "      <td>NaN</td>\n",
       "    </tr>\n",
       "    <tr>\n",
       "      <th>freq</th>\n",
       "      <td>42</td>\n",
       "      <td>NaN</td>\n",
       "      <td>NaN</td>\n",
       "      <td>NaN</td>\n",
       "      <td>NaN</td>\n",
       "      <td>NaN</td>\n",
       "      <td>NaN</td>\n",
       "      <td>NaN</td>\n",
       "      <td>NaN</td>\n",
       "      <td>NaN</td>\n",
       "      <td>NaN</td>\n",
       "      <td>NaN</td>\n",
       "      <td>NaN</td>\n",
       "      <td>NaN</td>\n",
       "      <td>NaN</td>\n",
       "      <td>NaN</td>\n",
       "      <td>NaN</td>\n",
       "      <td>NaN</td>\n",
       "      <td>NaN</td>\n",
       "      <td>NaN</td>\n",
       "    </tr>\n",
       "    <tr>\n",
       "      <th>mean</th>\n",
       "      <td>NaN</td>\n",
       "      <td>8.113609e+03</td>\n",
       "      <td>48.229342</td>\n",
       "      <td>1.107134</td>\n",
       "      <td>0.130644</td>\n",
       "      <td>2.853723</td>\n",
       "      <td>111.493601</td>\n",
       "      <td>1.023904e+04</td>\n",
       "      <td>105.978085</td>\n",
       "      <td>1.184778</td>\n",
       "      <td>2.273265</td>\n",
       "      <td>5.057144e+02</td>\n",
       "      <td>5.720876e+03</td>\n",
       "      <td>1.674844</td>\n",
       "      <td>349.916910</td>\n",
       "      <td>1805.695150</td>\n",
       "      <td>176.591782</td>\n",
       "      <td>10464.280726</td>\n",
       "      <td>249975.676667</td>\n",
       "      <td>1.021686e+06</td>\n",
       "    </tr>\n",
       "    <tr>\n",
       "      <th>std</th>\n",
       "      <td>NaN</td>\n",
       "      <td>6.520439e+04</td>\n",
       "      <td>31.333564</td>\n",
       "      <td>1.799155</td>\n",
       "      <td>0.574606</td>\n",
       "      <td>1.605805</td>\n",
       "      <td>467.387099</td>\n",
       "      <td>3.058252e+05</td>\n",
       "      <td>73.946506</td>\n",
       "      <td>1.929445</td>\n",
       "      <td>1.492908</td>\n",
       "      <td>1.196641e+04</td>\n",
       "      <td>5.660190e+04</td>\n",
       "      <td>1.309456</td>\n",
       "      <td>4911.023897</td>\n",
       "      <td>499.485278</td>\n",
       "      <td>567.142346</td>\n",
       "      <td>7.292127</td>\n",
       "      <td>9778.614120</td>\n",
       "      <td>8.599340e+03</td>\n",
       "    </tr>\n",
       "    <tr>\n",
       "      <th>min</th>\n",
       "      <td>NaN</td>\n",
       "      <td>0.000000e+00</td>\n",
       "      <td>0.000000</td>\n",
       "      <td>0.000000</td>\n",
       "      <td>0.000000</td>\n",
       "      <td>0.000000</td>\n",
       "      <td>1.000000</td>\n",
       "      <td>0.000000e+00</td>\n",
       "      <td>0.000000</td>\n",
       "      <td>0.000000</td>\n",
       "      <td>0.000000</td>\n",
       "      <td>0.000000e+00</td>\n",
       "      <td>0.000000e+00</td>\n",
       "      <td>0.000000</td>\n",
       "      <td>0.000000</td>\n",
       "      <td>0.000000</td>\n",
       "      <td>0.000000</td>\n",
       "      <td>10451.000000</td>\n",
       "      <td>227527.000000</td>\n",
       "      <td>1.002677e+06</td>\n",
       "    </tr>\n",
       "    <tr>\n",
       "      <th>25%</th>\n",
       "      <td>NaN</td>\n",
       "      <td>1.598000e+03</td>\n",
       "      <td>35.000000</td>\n",
       "      <td>0.550000</td>\n",
       "      <td>0.000000</td>\n",
       "      <td>2.000000</td>\n",
       "      <td>20.000000</td>\n",
       "      <td>2.188000e+03</td>\n",
       "      <td>95.000000</td>\n",
       "      <td>1.000000</td>\n",
       "      <td>2.000000</td>\n",
       "      <td>0.000000e+00</td>\n",
       "      <td>1.152000e+03</td>\n",
       "      <td>0.900000</td>\n",
       "      <td>0.000000</td>\n",
       "      <td>1920.000000</td>\n",
       "      <td>0.000000</td>\n",
       "      <td>10460.000000</td>\n",
       "      <td>241918.000000</td>\n",
       "      <td>1.014310e+06</td>\n",
       "    </tr>\n",
       "    <tr>\n",
       "      <th>50%</th>\n",
       "      <td>NaN</td>\n",
       "      <td>2.226000e+03</td>\n",
       "      <td>44.670000</td>\n",
       "      <td>0.860000</td>\n",
       "      <td>0.000000</td>\n",
       "      <td>2.000000</td>\n",
       "      <td>41.000000</td>\n",
       "      <td>2.508000e+03</td>\n",
       "      <td>100.000000</td>\n",
       "      <td>1.000000</td>\n",
       "      <td>2.000000</td>\n",
       "      <td>0.000000e+00</td>\n",
       "      <td>1.760000e+03</td>\n",
       "      <td>1.100000</td>\n",
       "      <td>0.000000</td>\n",
       "      <td>1931.000000</td>\n",
       "      <td>0.000000</td>\n",
       "      <td>10465.000000</td>\n",
       "      <td>248586.000000</td>\n",
       "      <td>1.023321e+06</td>\n",
       "    </tr>\n",
       "    <tr>\n",
       "      <th>75%</th>\n",
       "      <td>NaN</td>\n",
       "      <td>3.288000e+03</td>\n",
       "      <td>55.000000</td>\n",
       "      <td>1.250000</td>\n",
       "      <td>0.000000</td>\n",
       "      <td>4.800000</td>\n",
       "      <td>73.000000</td>\n",
       "      <td>4.250000e+03</td>\n",
       "      <td>102.420000</td>\n",
       "      <td>1.000000</td>\n",
       "      <td>3.000000</td>\n",
       "      <td>0.000000e+00</td>\n",
       "      <td>2.616000e+03</td>\n",
       "      <td>2.430000</td>\n",
       "      <td>0.000000</td>\n",
       "      <td>1960.000000</td>\n",
       "      <td>0.000000</td>\n",
       "      <td>10469.000000</td>\n",
       "      <td>258036.500000</td>\n",
       "      <td>1.027126e+06</td>\n",
       "    </tr>\n",
       "    <tr>\n",
       "      <th>max</th>\n",
       "      <td>NaN</td>\n",
       "      <td>1.354011e+07</td>\n",
       "      <td>1300.000000</td>\n",
       "      <td>259.800000</td>\n",
       "      <td>9.000000</td>\n",
       "      <td>10.000000</td>\n",
       "      <td>9978.000000</td>\n",
       "      <td>7.425000e+07</td>\n",
       "      <td>8000.000000</td>\n",
       "      <td>251.000000</td>\n",
       "      <td>44.000000</td>\n",
       "      <td>1.311800e+06</td>\n",
       "      <td>1.321140e+07</td>\n",
       "      <td>10.000000</td>\n",
       "      <td>598908.000000</td>\n",
       "      <td>2017.000000</td>\n",
       "      <td>2017.000000</td>\n",
       "      <td>11370.000000</td>\n",
       "      <td>272275.000000</td>\n",
       "      <td>1.047777e+06</td>\n",
       "    </tr>\n",
       "  </tbody>\n",
       "</table>\n",
       "</div>"
      ],
      "text/plain": [
       "            Address      BldgArea     BldgDepth      BuiltFAR       CommFAR  \\\n",
       "count         89785  8.985400e+04  89854.000000  89854.000000  89854.000000   \n",
       "unique        87017           NaN           NaN           NaN           NaN   \n",
       "top     SHORE DRIVE           NaN           NaN           NaN           NaN   \n",
       "freq             42           NaN           NaN           NaN           NaN   \n",
       "mean            NaN  8.113609e+03     48.229342      1.107134      0.130644   \n",
       "std             NaN  6.520439e+04     31.333564      1.799155      0.574606   \n",
       "min             NaN  0.000000e+00      0.000000      0.000000      0.000000   \n",
       "25%             NaN  1.598000e+03     35.000000      0.550000      0.000000   \n",
       "50%             NaN  2.226000e+03     44.670000      0.860000      0.000000   \n",
       "75%             NaN  3.288000e+03     55.000000      1.250000      0.000000   \n",
       "max             NaN  1.354011e+07   1300.000000    259.800000      9.000000   \n",
       "\n",
       "            FacilFAR           Lot       LotArea      LotDepth      NumBldgs  \\\n",
       "count   89854.000000  89854.000000  8.985400e+04  89854.000000  89854.000000   \n",
       "unique           NaN           NaN           NaN           NaN           NaN   \n",
       "top              NaN           NaN           NaN           NaN           NaN   \n",
       "freq             NaN           NaN           NaN           NaN           NaN   \n",
       "mean        2.853723    111.493601  1.023904e+04    105.978085      1.184778   \n",
       "std         1.605805    467.387099  3.058252e+05     73.946506      1.929445   \n",
       "min         0.000000      1.000000  0.000000e+00      0.000000      0.000000   \n",
       "25%         2.000000     20.000000  2.188000e+03     95.000000      1.000000   \n",
       "50%         2.000000     41.000000  2.508000e+03    100.000000      1.000000   \n",
       "75%         4.800000     73.000000  4.250000e+03    102.420000      1.000000   \n",
       "max        10.000000   9978.000000  7.425000e+07   8000.000000    251.000000   \n",
       "\n",
       "           NumFloors    OfficeArea       ResArea      ResidFAR     RetailArea  \\\n",
       "count   89854.000000  8.985400e+04  8.985400e+04  89854.000000   89854.000000   \n",
       "unique           NaN           NaN           NaN           NaN            NaN   \n",
       "top              NaN           NaN           NaN           NaN            NaN   \n",
       "freq             NaN           NaN           NaN           NaN            NaN   \n",
       "mean        2.273265  5.057144e+02  5.720876e+03      1.674844     349.916910   \n",
       "std         1.492908  1.196641e+04  5.660190e+04      1.309456    4911.023897   \n",
       "min         0.000000  0.000000e+00  0.000000e+00      0.000000       0.000000   \n",
       "25%         2.000000  0.000000e+00  1.152000e+03      0.900000       0.000000   \n",
       "50%         2.000000  0.000000e+00  1.760000e+03      1.100000       0.000000   \n",
       "75%         3.000000  0.000000e+00  2.616000e+03      2.430000       0.000000   \n",
       "max        44.000000  1.311800e+06  1.321140e+07     10.000000  598908.000000   \n",
       "\n",
       "           YearBuilt    YearAlter1       ZipCode         YCoord        XCoord  \n",
       "count   89854.000000  89854.000000  89525.000000   86595.000000  8.659500e+04  \n",
       "unique           NaN           NaN           NaN            NaN           NaN  \n",
       "top              NaN           NaN           NaN            NaN           NaN  \n",
       "freq             NaN           NaN           NaN            NaN           NaN  \n",
       "mean     1805.695150    176.591782  10464.280726  249975.676667  1.021686e+06  \n",
       "std       499.485278    567.142346      7.292127    9778.614120  8.599340e+03  \n",
       "min         0.000000      0.000000  10451.000000  227527.000000  1.002677e+06  \n",
       "25%      1920.000000      0.000000  10460.000000  241918.000000  1.014310e+06  \n",
       "50%      1931.000000      0.000000  10465.000000  248586.000000  1.023321e+06  \n",
       "75%      1960.000000      0.000000  10469.000000  258036.500000  1.027126e+06  \n",
       "max      2017.000000   2017.000000  11370.000000  272275.000000  1.047777e+06  "
      ]
     },
     "metadata": {},
     "output_type": "display_data"
    }
   ],
   "source": [
    "bx_desc = bx_df.describe(include='all')\n",
    "display(bx_desc)"
   ]
  },
  {
   "cell_type": "markdown",
   "metadata": {},
   "source": [
    "If we take a look at the counts row we can see that the numbers varry:\n",
    "* *'Address'* has `89785`\n",
    "* *'BldgArea'* to *'YearAlter1'* have `89854`\n",
    "* *'ZipCode'* has `89525`\n",
    "* *'YCoord'* and *'XCoord'* have `86595`"
   ]
  },
  {
   "cell_type": "code",
   "execution_count": 16,
   "metadata": {},
   "outputs": [
    {
     "data": {
      "text/plain": [
       "Address       89785\n",
       "BldgArea      89854\n",
       "BldgDepth     89854\n",
       "BuiltFAR      89854\n",
       "CommFAR       89854\n",
       "FacilFAR      89854\n",
       "Lot           89854\n",
       "LotArea       89854\n",
       "LotDepth      89854\n",
       "NumBldgs      89854\n",
       "NumFloors     89854\n",
       "OfficeArea    89854\n",
       "ResArea       89854\n",
       "ResidFAR      89854\n",
       "RetailArea    89854\n",
       "YearBuilt     89854\n",
       "YearAlter1    89854\n",
       "ZipCode       89525\n",
       "YCoord        86595\n",
       "XCoord        86595\n",
       "Name: count, dtype: object"
      ]
     },
     "execution_count": 16,
     "metadata": {},
     "output_type": "execute_result"
    }
   ],
   "source": [
    "bx_df.describe(include='all').loc['count']"
   ]
  },
  {
   "cell_type": "markdown",
   "metadata": {},
   "source": [
    "The total number of rows in the data set is:"
   ]
  },
  {
   "cell_type": "code",
   "execution_count": 17,
   "metadata": {},
   "outputs": [
    {
     "name": "stdout",
     "output_type": "stream",
     "text": [
      "The number of tax lots: 89854\n"
     ]
    }
   ],
   "source": [
    "print('The number of tax lots:', bx_df.shape[0])"
   ]
  },
  {
   "cell_type": "markdown",
   "metadata": {},
   "source": [
    "So let us analyze the number of the Na/NaN values, only display columns with positive Na/NaN counts:"
   ]
  },
  {
   "cell_type": "code",
   "execution_count": 18,
   "metadata": {},
   "outputs": [
    {
     "data": {
      "text/plain": [
       "Address      69\n",
       "ZipCode     329\n",
       "YCoord     3259\n",
       "XCoord     3259\n",
       "dtype: int64"
      ]
     },
     "metadata": {},
     "output_type": "display_data"
    },
    {
     "name": "stdout",
     "output_type": "stream",
     "text": [
      "The total number of Na/NaN values is 6916\n"
     ]
    }
   ],
   "source": [
    "missing_counts = bx_df.isna().apply(sum, axis = 0)\n",
    "display(missing_counts[missing_counts > 0])\n",
    "print('The total number of Na/NaN values is', np.sum(missing_counts))"
   ]
  },
  {
   "cell_type": "markdown",
   "metadata": {},
   "source": [
    " Assuming the missing values can not be easily restored let us remove the corresponding rows:"
   ]
  },
  {
   "cell_type": "code",
   "execution_count": 19,
   "metadata": {},
   "outputs": [
    {
     "name": "stdout",
     "output_type": "stream",
     "text": [
      "The remaining number of rows with Na/NaN values is 0\n",
      "The remaining number of rows in PLUTO is 86591\n"
     ]
    }
   ],
   "source": [
    "bx_df.dropna(inplace = True)\n",
    "missing_counts = bx_df.isna().apply(sum, axis = 0)\n",
    "print('The remaining number of rows with Na/NaN values is', np.sum(missing_counts))\n",
    "print('The remaining number of rows in PLUTO is', bx_df.shape[0])"
   ]
  },
  {
   "cell_type": "markdown",
   "metadata": {},
   "source": [
    "As one can see, the amount of dropped data is sufficiently small, i.e. it just about `100 - (86591 * 100 /89854) =  3.63`%. Let us now describe the data set again:"
   ]
  },
  {
   "cell_type": "code",
   "execution_count": 20,
   "metadata": {},
   "outputs": [
    {
     "data": {
      "text/html": [
       "<div>\n",
       "<style scoped>\n",
       "    .dataframe tbody tr th:only-of-type {\n",
       "        vertical-align: middle;\n",
       "    }\n",
       "\n",
       "    .dataframe tbody tr th {\n",
       "        vertical-align: top;\n",
       "    }\n",
       "\n",
       "    .dataframe thead th {\n",
       "        text-align: right;\n",
       "    }\n",
       "</style>\n",
       "<table border=\"1\" class=\"dataframe\">\n",
       "  <thead>\n",
       "    <tr style=\"text-align: right;\">\n",
       "      <th></th>\n",
       "      <th>Address</th>\n",
       "      <th>BldgArea</th>\n",
       "      <th>BldgDepth</th>\n",
       "      <th>BuiltFAR</th>\n",
       "      <th>CommFAR</th>\n",
       "      <th>FacilFAR</th>\n",
       "      <th>Lot</th>\n",
       "      <th>LotArea</th>\n",
       "      <th>LotDepth</th>\n",
       "      <th>NumBldgs</th>\n",
       "      <th>NumFloors</th>\n",
       "      <th>OfficeArea</th>\n",
       "      <th>ResArea</th>\n",
       "      <th>ResidFAR</th>\n",
       "      <th>RetailArea</th>\n",
       "      <th>YearBuilt</th>\n",
       "      <th>YearAlter1</th>\n",
       "      <th>ZipCode</th>\n",
       "      <th>YCoord</th>\n",
       "      <th>XCoord</th>\n",
       "    </tr>\n",
       "  </thead>\n",
       "  <tbody>\n",
       "    <tr>\n",
       "      <th>count</th>\n",
       "      <td>86591</td>\n",
       "      <td>8.659100e+04</td>\n",
       "      <td>86591.000000</td>\n",
       "      <td>86591.000000</td>\n",
       "      <td>86591.000000</td>\n",
       "      <td>86591.000000</td>\n",
       "      <td>86591.000000</td>\n",
       "      <td>8.659100e+04</td>\n",
       "      <td>86591.000000</td>\n",
       "      <td>86591.000000</td>\n",
       "      <td>86591.000000</td>\n",
       "      <td>8.659100e+04</td>\n",
       "      <td>8.659100e+04</td>\n",
       "      <td>86591.000000</td>\n",
       "      <td>86591.000000</td>\n",
       "      <td>86591.000000</td>\n",
       "      <td>86591.000000</td>\n",
       "      <td>86591.000000</td>\n",
       "      <td>86591.000000</td>\n",
       "      <td>8.659100e+04</td>\n",
       "    </tr>\n",
       "    <tr>\n",
       "      <th>unique</th>\n",
       "      <td>85962</td>\n",
       "      <td>NaN</td>\n",
       "      <td>NaN</td>\n",
       "      <td>NaN</td>\n",
       "      <td>NaN</td>\n",
       "      <td>NaN</td>\n",
       "      <td>NaN</td>\n",
       "      <td>NaN</td>\n",
       "      <td>NaN</td>\n",
       "      <td>NaN</td>\n",
       "      <td>NaN</td>\n",
       "      <td>NaN</td>\n",
       "      <td>NaN</td>\n",
       "      <td>NaN</td>\n",
       "      <td>NaN</td>\n",
       "      <td>NaN</td>\n",
       "      <td>NaN</td>\n",
       "      <td>NaN</td>\n",
       "      <td>NaN</td>\n",
       "      <td>NaN</td>\n",
       "    </tr>\n",
       "    <tr>\n",
       "      <th>top</th>\n",
       "      <td>WEST 246 STREET</td>\n",
       "      <td>NaN</td>\n",
       "      <td>NaN</td>\n",
       "      <td>NaN</td>\n",
       "      <td>NaN</td>\n",
       "      <td>NaN</td>\n",
       "      <td>NaN</td>\n",
       "      <td>NaN</td>\n",
       "      <td>NaN</td>\n",
       "      <td>NaN</td>\n",
       "      <td>NaN</td>\n",
       "      <td>NaN</td>\n",
       "      <td>NaN</td>\n",
       "      <td>NaN</td>\n",
       "      <td>NaN</td>\n",
       "      <td>NaN</td>\n",
       "      <td>NaN</td>\n",
       "      <td>NaN</td>\n",
       "      <td>NaN</td>\n",
       "      <td>NaN</td>\n",
       "    </tr>\n",
       "    <tr>\n",
       "      <th>freq</th>\n",
       "      <td>23</td>\n",
       "      <td>NaN</td>\n",
       "      <td>NaN</td>\n",
       "      <td>NaN</td>\n",
       "      <td>NaN</td>\n",
       "      <td>NaN</td>\n",
       "      <td>NaN</td>\n",
       "      <td>NaN</td>\n",
       "      <td>NaN</td>\n",
       "      <td>NaN</td>\n",
       "      <td>NaN</td>\n",
       "      <td>NaN</td>\n",
       "      <td>NaN</td>\n",
       "      <td>NaN</td>\n",
       "      <td>NaN</td>\n",
       "      <td>NaN</td>\n",
       "      <td>NaN</td>\n",
       "      <td>NaN</td>\n",
       "      <td>NaN</td>\n",
       "      <td>NaN</td>\n",
       "    </tr>\n",
       "    <tr>\n",
       "      <th>mean</th>\n",
       "      <td>NaN</td>\n",
       "      <td>8.341031e+03</td>\n",
       "      <td>49.855709</td>\n",
       "      <td>1.143734</td>\n",
       "      <td>0.123250</td>\n",
       "      <td>2.870513</td>\n",
       "      <td>105.260893</td>\n",
       "      <td>9.479385e+03</td>\n",
       "      <td>104.972907</td>\n",
       "      <td>1.224896</td>\n",
       "      <td>2.350154</td>\n",
       "      <td>5.227774e+02</td>\n",
       "      <td>5.891092e+03</td>\n",
       "      <td>1.690055</td>\n",
       "      <td>362.536234</td>\n",
       "      <td>1865.568177</td>\n",
       "      <td>182.272673</td>\n",
       "      <td>10464.266333</td>\n",
       "      <td>249976.088242</td>\n",
       "      <td>1.021686e+06</td>\n",
       "    </tr>\n",
       "    <tr>\n",
       "      <th>std</th>\n",
       "      <td>NaN</td>\n",
       "      <td>6.625799e+04</td>\n",
       "      <td>30.325272</td>\n",
       "      <td>1.810324</td>\n",
       "      <td>0.561512</td>\n",
       "      <td>1.597633</td>\n",
       "      <td>426.684680</td>\n",
       "      <td>2.992482e+05</td>\n",
       "      <td>63.283144</td>\n",
       "      <td>1.947582</td>\n",
       "      <td>1.441622</td>\n",
       "      <td>1.218634e+04</td>\n",
       "      <td>5.752111e+04</td>\n",
       "      <td>1.304745</td>\n",
       "      <td>5001.922740</td>\n",
       "      <td>382.054716</td>\n",
       "      <td>575.285484</td>\n",
       "      <td>6.642540</td>\n",
       "      <td>9778.381084</td>\n",
       "      <td>8.598740e+03</td>\n",
       "    </tr>\n",
       "    <tr>\n",
       "      <th>min</th>\n",
       "      <td>NaN</td>\n",
       "      <td>0.000000e+00</td>\n",
       "      <td>0.000000</td>\n",
       "      <td>0.000000</td>\n",
       "      <td>0.000000</td>\n",
       "      <td>0.000000</td>\n",
       "      <td>1.000000</td>\n",
       "      <td>0.000000e+00</td>\n",
       "      <td>0.000000</td>\n",
       "      <td>0.000000</td>\n",
       "      <td>0.000000</td>\n",
       "      <td>0.000000e+00</td>\n",
       "      <td>0.000000e+00</td>\n",
       "      <td>0.000000</td>\n",
       "      <td>0.000000</td>\n",
       "      <td>0.000000</td>\n",
       "      <td>0.000000</td>\n",
       "      <td>10451.000000</td>\n",
       "      <td>227527.000000</td>\n",
       "      <td>1.002677e+06</td>\n",
       "    </tr>\n",
       "    <tr>\n",
       "      <th>25%</th>\n",
       "      <td>NaN</td>\n",
       "      <td>1.665000e+03</td>\n",
       "      <td>35.000000</td>\n",
       "      <td>0.590000</td>\n",
       "      <td>0.000000</td>\n",
       "      <td>2.000000</td>\n",
       "      <td>20.000000</td>\n",
       "      <td>2.200000e+03</td>\n",
       "      <td>95.000000</td>\n",
       "      <td>1.000000</td>\n",
       "      <td>2.000000</td>\n",
       "      <td>0.000000e+00</td>\n",
       "      <td>1.215000e+03</td>\n",
       "      <td>0.900000</td>\n",
       "      <td>0.000000</td>\n",
       "      <td>1920.000000</td>\n",
       "      <td>0.000000</td>\n",
       "      <td>10460.000000</td>\n",
       "      <td>241918.000000</td>\n",
       "      <td>1.014311e+06</td>\n",
       "    </tr>\n",
       "    <tr>\n",
       "      <th>50%</th>\n",
       "      <td>NaN</td>\n",
       "      <td>2.280000e+03</td>\n",
       "      <td>45.000000</td>\n",
       "      <td>0.880000</td>\n",
       "      <td>0.000000</td>\n",
       "      <td>2.000000</td>\n",
       "      <td>41.000000</td>\n",
       "      <td>2.512000e+03</td>\n",
       "      <td>100.000000</td>\n",
       "      <td>1.000000</td>\n",
       "      <td>2.000000</td>\n",
       "      <td>0.000000e+00</td>\n",
       "      <td>1.816000e+03</td>\n",
       "      <td>1.100000</td>\n",
       "      <td>0.000000</td>\n",
       "      <td>1931.000000</td>\n",
       "      <td>0.000000</td>\n",
       "      <td>10465.000000</td>\n",
       "      <td>248586.000000</td>\n",
       "      <td>1.023321e+06</td>\n",
       "    </tr>\n",
       "    <tr>\n",
       "      <th>75%</th>\n",
       "      <td>NaN</td>\n",
       "      <td>3.321000e+03</td>\n",
       "      <td>56.000000</td>\n",
       "      <td>1.270000</td>\n",
       "      <td>0.000000</td>\n",
       "      <td>4.800000</td>\n",
       "      <td>72.000000</td>\n",
       "      <td>4.200000e+03</td>\n",
       "      <td>102.070000</td>\n",
       "      <td>1.000000</td>\n",
       "      <td>3.000000</td>\n",
       "      <td>0.000000e+00</td>\n",
       "      <td>2.650000e+03</td>\n",
       "      <td>2.430000</td>\n",
       "      <td>0.000000</td>\n",
       "      <td>1960.000000</td>\n",
       "      <td>0.000000</td>\n",
       "      <td>10469.000000</td>\n",
       "      <td>258037.000000</td>\n",
       "      <td>1.027126e+06</td>\n",
       "    </tr>\n",
       "    <tr>\n",
       "      <th>max</th>\n",
       "      <td>NaN</td>\n",
       "      <td>1.354011e+07</td>\n",
       "      <td>1300.000000</td>\n",
       "      <td>259.800000</td>\n",
       "      <td>9.000000</td>\n",
       "      <td>10.000000</td>\n",
       "      <td>7505.000000</td>\n",
       "      <td>7.425000e+07</td>\n",
       "      <td>8000.000000</td>\n",
       "      <td>251.000000</td>\n",
       "      <td>44.000000</td>\n",
       "      <td>1.311800e+06</td>\n",
       "      <td>1.321140e+07</td>\n",
       "      <td>10.000000</td>\n",
       "      <td>598908.000000</td>\n",
       "      <td>2017.000000</td>\n",
       "      <td>2017.000000</td>\n",
       "      <td>11370.000000</td>\n",
       "      <td>272275.000000</td>\n",
       "      <td>1.047777e+06</td>\n",
       "    </tr>\n",
       "  </tbody>\n",
       "</table>\n",
       "</div>"
      ],
      "text/plain": [
       "                Address      BldgArea     BldgDepth      BuiltFAR  \\\n",
       "count             86591  8.659100e+04  86591.000000  86591.000000   \n",
       "unique            85962           NaN           NaN           NaN   \n",
       "top     WEST 246 STREET           NaN           NaN           NaN   \n",
       "freq                 23           NaN           NaN           NaN   \n",
       "mean                NaN  8.341031e+03     49.855709      1.143734   \n",
       "std                 NaN  6.625799e+04     30.325272      1.810324   \n",
       "min                 NaN  0.000000e+00      0.000000      0.000000   \n",
       "25%                 NaN  1.665000e+03     35.000000      0.590000   \n",
       "50%                 NaN  2.280000e+03     45.000000      0.880000   \n",
       "75%                 NaN  3.321000e+03     56.000000      1.270000   \n",
       "max                 NaN  1.354011e+07   1300.000000    259.800000   \n",
       "\n",
       "             CommFAR      FacilFAR           Lot       LotArea      LotDepth  \\\n",
       "count   86591.000000  86591.000000  86591.000000  8.659100e+04  86591.000000   \n",
       "unique           NaN           NaN           NaN           NaN           NaN   \n",
       "top              NaN           NaN           NaN           NaN           NaN   \n",
       "freq             NaN           NaN           NaN           NaN           NaN   \n",
       "mean        0.123250      2.870513    105.260893  9.479385e+03    104.972907   \n",
       "std         0.561512      1.597633    426.684680  2.992482e+05     63.283144   \n",
       "min         0.000000      0.000000      1.000000  0.000000e+00      0.000000   \n",
       "25%         0.000000      2.000000     20.000000  2.200000e+03     95.000000   \n",
       "50%         0.000000      2.000000     41.000000  2.512000e+03    100.000000   \n",
       "75%         0.000000      4.800000     72.000000  4.200000e+03    102.070000   \n",
       "max         9.000000     10.000000   7505.000000  7.425000e+07   8000.000000   \n",
       "\n",
       "            NumBldgs     NumFloors    OfficeArea       ResArea      ResidFAR  \\\n",
       "count   86591.000000  86591.000000  8.659100e+04  8.659100e+04  86591.000000   \n",
       "unique           NaN           NaN           NaN           NaN           NaN   \n",
       "top              NaN           NaN           NaN           NaN           NaN   \n",
       "freq             NaN           NaN           NaN           NaN           NaN   \n",
       "mean        1.224896      2.350154  5.227774e+02  5.891092e+03      1.690055   \n",
       "std         1.947582      1.441622  1.218634e+04  5.752111e+04      1.304745   \n",
       "min         0.000000      0.000000  0.000000e+00  0.000000e+00      0.000000   \n",
       "25%         1.000000      2.000000  0.000000e+00  1.215000e+03      0.900000   \n",
       "50%         1.000000      2.000000  0.000000e+00  1.816000e+03      1.100000   \n",
       "75%         1.000000      3.000000  0.000000e+00  2.650000e+03      2.430000   \n",
       "max       251.000000     44.000000  1.311800e+06  1.321140e+07     10.000000   \n",
       "\n",
       "           RetailArea     YearBuilt    YearAlter1       ZipCode  \\\n",
       "count    86591.000000  86591.000000  86591.000000  86591.000000   \n",
       "unique            NaN           NaN           NaN           NaN   \n",
       "top               NaN           NaN           NaN           NaN   \n",
       "freq              NaN           NaN           NaN           NaN   \n",
       "mean       362.536234   1865.568177    182.272673  10464.266333   \n",
       "std       5001.922740    382.054716    575.285484      6.642540   \n",
       "min          0.000000      0.000000      0.000000  10451.000000   \n",
       "25%          0.000000   1920.000000      0.000000  10460.000000   \n",
       "50%          0.000000   1931.000000      0.000000  10465.000000   \n",
       "75%          0.000000   1960.000000      0.000000  10469.000000   \n",
       "max     598908.000000   2017.000000   2017.000000  11370.000000   \n",
       "\n",
       "               YCoord        XCoord  \n",
       "count    86591.000000  8.659100e+04  \n",
       "unique            NaN           NaN  \n",
       "top               NaN           NaN  \n",
       "freq              NaN           NaN  \n",
       "mean    249976.088242  1.021686e+06  \n",
       "std       9778.381084  8.598740e+03  \n",
       "min     227527.000000  1.002677e+06  \n",
       "25%     241918.000000  1.014311e+06  \n",
       "50%     248586.000000  1.023321e+06  \n",
       "75%     258037.000000  1.027126e+06  \n",
       "max     272275.000000  1.047777e+06  "
      ]
     },
     "execution_count": 20,
     "metadata": {},
     "output_type": "execute_result"
    }
   ],
   "source": [
    "bx_df.describe(include='all')"
   ]
  },
  {
   "cell_type": "markdown",
   "metadata": {},
   "source": [
    "There is now one other thing to notice, namely:\n",
    "\n",
    "> The 'WEST 246 STREET' Address frequency within the PLUTO data set is indicated to be 23 \n",
    "\n",
    "If we now list all the addresses with their larger than 1 frequencies, we get:"
   ]
  },
  {
   "cell_type": "code",
   "execution_count": 21,
   "metadata": {},
   "outputs": [
    {
     "data": {
      "text/plain": [
       "WEST 246 STREET              23\n",
       "SHORE DRIVE                  20\n",
       "595 WEST 239 STREET          13\n",
       "SEDGWICK AVENUE              12\n",
       "3 AVENUE                     11\n",
       "                             ..\n",
       "WEST FORDHAM ROAD             2\n",
       "DEWITT PLACE                  2\n",
       "140A VAN CORTLANDT PARK S     2\n",
       "CROTONA PARK EAST             2\n",
       "FORDHAM STREET                2\n",
       "Name: Address, Length: 277, dtype: int64"
      ]
     },
     "execution_count": 21,
     "metadata": {},
     "output_type": "execute_result"
    }
   ],
   "source": [
    "address_cnts = bx_df.Address.value_counts()\n",
    "address_cnts[address_cnts > 1]"
   ]
  },
  {
   "cell_type": "markdown",
   "metadata": {},
   "source": [
    "Which consists of 227 addresses and some of them, e.g. the 'SHORE DRIVE' do not have house numbers. This seems confusing as we would expect the address to start with the house number and then to be followed by the street name. Moreover, for the tax lots we would expect to see a single address present in the data set only once.\n",
    "\n",
    "Let us now read-up on the PLUTO data set description of the *'Address'* column:\n",
    "\n",
    "> Tax lots may be assigned a single house number on a street, a range of house numbers on a street, or addresses on multiple streets. ADDRESS contains the address in PTS, using the low number when there is a range of house numbers. Some tax lots, such as vacant lots or parks, have only a street name and no house number.\n",
    "\n",
    "> A complete list of the addresses assigned to a tax lot is available through Geosupport or by downloading the Property Address Directory(PAD) BYTESof the BIGAPPLETM. \n",
    "\n",
    "As one can read from the quotes above:\n",
    "\n",
    "1. The vacant lots and or parks do not have house numbers assigned.\n",
    "2. The address contains the low number when there is a range of house numbers.\n",
    "3. The lot can also be assigned to addresses on multiple streets.\n",
    "\n",
    "These facts may obscure the analysis because:\n",
    "\n",
    "* Bullet 1 means that if the property was not vakant somewhere between `2014` and `2018` but was vacant by the time the PLUTO data set was created, then the complaints over the proparty that has now become vacant will not be matched with the proper tax lots.\n",
    "* Bullet 2 means that, without using an additional PAD data set we can not get the complete list of the lot house numbers. This shall result in some 311 complaints not being able to match with a tax lot.\n",
    "* Bullet 3 means that it is perhaps possible that there are addresses containing lists of house and street numbers. Those whill also not be matchable with the 311 complaints.\n",
    "\n",
    "We shall adress the issues outlied above in the subsequent section where we shall join the 311 and PLUTO data sets.\n",
    "\n",
    "For now, let us notice that in the last listing, even some of the complete addresses, e.g. '1023 KELLY STREET', are present multiple times. Below we try to get all of such entries:"
   ]
  },
  {
   "cell_type": "code",
   "execution_count": 22,
   "metadata": {},
   "outputs": [
    {
     "data": {
      "text/html": [
       "<div>\n",
       "<style scoped>\n",
       "    .dataframe tbody tr th:only-of-type {\n",
       "        vertical-align: middle;\n",
       "    }\n",
       "\n",
       "    .dataframe tbody tr th {\n",
       "        vertical-align: top;\n",
       "    }\n",
       "\n",
       "    .dataframe thead th {\n",
       "        text-align: right;\n",
       "    }\n",
       "</style>\n",
       "<table border=\"1\" class=\"dataframe\">\n",
       "  <thead>\n",
       "    <tr style=\"text-align: right;\">\n",
       "      <th></th>\n",
       "      <th>Address</th>\n",
       "      <th>BldgArea</th>\n",
       "      <th>BldgDepth</th>\n",
       "      <th>BuiltFAR</th>\n",
       "      <th>CommFAR</th>\n",
       "      <th>FacilFAR</th>\n",
       "      <th>Lot</th>\n",
       "      <th>LotArea</th>\n",
       "      <th>LotDepth</th>\n",
       "      <th>NumBldgs</th>\n",
       "      <th>...</th>\n",
       "      <th>OfficeArea</th>\n",
       "      <th>ResArea</th>\n",
       "      <th>ResidFAR</th>\n",
       "      <th>RetailArea</th>\n",
       "      <th>YearBuilt</th>\n",
       "      <th>YearAlter1</th>\n",
       "      <th>ZipCode</th>\n",
       "      <th>YCoord</th>\n",
       "      <th>XCoord</th>\n",
       "      <th>count</th>\n",
       "    </tr>\n",
       "  </thead>\n",
       "  <tbody>\n",
       "    <tr>\n",
       "      <th>84510</th>\n",
       "      <td>595 WEST 239 STREET</td>\n",
       "      <td>0</td>\n",
       "      <td>0.0</td>\n",
       "      <td>0.00</td>\n",
       "      <td>0.0</td>\n",
       "      <td>2.0</td>\n",
       "      <td>110</td>\n",
       "      <td>23750</td>\n",
       "      <td>190.67</td>\n",
       "      <td>0</td>\n",
       "      <td>...</td>\n",
       "      <td>0</td>\n",
       "      <td>0</td>\n",
       "      <td>0.9</td>\n",
       "      <td>0</td>\n",
       "      <td>0</td>\n",
       "      <td>0</td>\n",
       "      <td>10463.0</td>\n",
       "      <td>263487.0</td>\n",
       "      <td>1008989.0</td>\n",
       "      <td>13</td>\n",
       "    </tr>\n",
       "    <tr>\n",
       "      <th>84511</th>\n",
       "      <td>595 WEST 239 STREET</td>\n",
       "      <td>1600</td>\n",
       "      <td>40.0</td>\n",
       "      <td>0.48</td>\n",
       "      <td>0.0</td>\n",
       "      <td>2.0</td>\n",
       "      <td>116</td>\n",
       "      <td>3330</td>\n",
       "      <td>91.33</td>\n",
       "      <td>1</td>\n",
       "      <td>...</td>\n",
       "      <td>0</td>\n",
       "      <td>1600</td>\n",
       "      <td>0.9</td>\n",
       "      <td>0</td>\n",
       "      <td>1992</td>\n",
       "      <td>0</td>\n",
       "      <td>10463.0</td>\n",
       "      <td>263428.0</td>\n",
       "      <td>1009218.0</td>\n",
       "      <td>13</td>\n",
       "    </tr>\n",
       "    <tr>\n",
       "      <th>84512</th>\n",
       "      <td>595 WEST 239 STREET</td>\n",
       "      <td>1600</td>\n",
       "      <td>40.0</td>\n",
       "      <td>0.85</td>\n",
       "      <td>0.0</td>\n",
       "      <td>2.0</td>\n",
       "      <td>117</td>\n",
       "      <td>1890</td>\n",
       "      <td>76.35</td>\n",
       "      <td>1</td>\n",
       "      <td>...</td>\n",
       "      <td>0</td>\n",
       "      <td>1600</td>\n",
       "      <td>0.9</td>\n",
       "      <td>0</td>\n",
       "      <td>1992</td>\n",
       "      <td>0</td>\n",
       "      <td>10463.0</td>\n",
       "      <td>263418.0</td>\n",
       "      <td>1009188.0</td>\n",
       "      <td>13</td>\n",
       "    </tr>\n",
       "    <tr>\n",
       "      <th>84513</th>\n",
       "      <td>595 WEST 239 STREET</td>\n",
       "      <td>1600</td>\n",
       "      <td>40.0</td>\n",
       "      <td>0.85</td>\n",
       "      <td>0.0</td>\n",
       "      <td>2.0</td>\n",
       "      <td>118</td>\n",
       "      <td>1890</td>\n",
       "      <td>70.88</td>\n",
       "      <td>1</td>\n",
       "      <td>...</td>\n",
       "      <td>0</td>\n",
       "      <td>1600</td>\n",
       "      <td>0.9</td>\n",
       "      <td>0</td>\n",
       "      <td>1991</td>\n",
       "      <td>0</td>\n",
       "      <td>10463.0</td>\n",
       "      <td>263424.0</td>\n",
       "      <td>1009167.0</td>\n",
       "      <td>13</td>\n",
       "    </tr>\n",
       "    <tr>\n",
       "      <th>84514</th>\n",
       "      <td>595 WEST 239 STREET</td>\n",
       "      <td>1600</td>\n",
       "      <td>40.0</td>\n",
       "      <td>0.85</td>\n",
       "      <td>0.0</td>\n",
       "      <td>2.0</td>\n",
       "      <td>119</td>\n",
       "      <td>1890</td>\n",
       "      <td>76.35</td>\n",
       "      <td>1</td>\n",
       "      <td>...</td>\n",
       "      <td>0</td>\n",
       "      <td>1600</td>\n",
       "      <td>0.9</td>\n",
       "      <td>0</td>\n",
       "      <td>1991</td>\n",
       "      <td>0</td>\n",
       "      <td>10463.0</td>\n",
       "      <td>263426.0</td>\n",
       "      <td>1009146.0</td>\n",
       "      <td>13</td>\n",
       "    </tr>\n",
       "  </tbody>\n",
       "</table>\n",
       "<p>5 rows × 21 columns</p>\n",
       "</div>"
      ],
      "text/plain": [
       "                   Address  BldgArea  BldgDepth  BuiltFAR  CommFAR  FacilFAR  \\\n",
       "84510  595 WEST 239 STREET         0        0.0      0.00      0.0       2.0   \n",
       "84511  595 WEST 239 STREET      1600       40.0      0.48      0.0       2.0   \n",
       "84512  595 WEST 239 STREET      1600       40.0      0.85      0.0       2.0   \n",
       "84513  595 WEST 239 STREET      1600       40.0      0.85      0.0       2.0   \n",
       "84514  595 WEST 239 STREET      1600       40.0      0.85      0.0       2.0   \n",
       "\n",
       "       Lot  LotArea  LotDepth  NumBldgs  ...  OfficeArea  ResArea  ResidFAR  \\\n",
       "84510  110    23750    190.67         0  ...           0        0       0.9   \n",
       "84511  116     3330     91.33         1  ...           0     1600       0.9   \n",
       "84512  117     1890     76.35         1  ...           0     1600       0.9   \n",
       "84513  118     1890     70.88         1  ...           0     1600       0.9   \n",
       "84514  119     1890     76.35         1  ...           0     1600       0.9   \n",
       "\n",
       "       RetailArea  YearBuilt  YearAlter1  ZipCode    YCoord     XCoord  count  \n",
       "84510           0          0           0  10463.0  263487.0  1008989.0     13  \n",
       "84511           0       1992           0  10463.0  263428.0  1009218.0     13  \n",
       "84512           0       1992           0  10463.0  263418.0  1009188.0     13  \n",
       "84513           0       1991           0  10463.0  263424.0  1009167.0     13  \n",
       "84514           0       1991           0  10463.0  263426.0  1009146.0     13  \n",
       "\n",
       "[5 rows x 21 columns]"
      ]
     },
     "metadata": {},
     "output_type": "display_data"
    },
    {
     "name": "stdout",
     "output_type": "stream",
     "text": [
      "The total number of street address duplicates is: 135\n"
     ]
    }
   ],
   "source": [
    "# Create the pattern for selecting a proper address with one house\n",
    "# number followed by a white space and then an alpha numeric street\n",
    "# name which can contain multiple words separated by white spaces\n",
    "regex_pat = re.compile(r'^\\d+(\\s+\\w+)+')\n",
    "\n",
    "# Then we match the addresses with the regular expression above\n",
    "mult_occur = bx_df[bx_df.Address.str.match(regex_pat)]\n",
    "\n",
    "# We group by such a complete address and count the number of entries\n",
    "occur_cnt = mult_occur.groupby('Address').size().to_frame()\n",
    "occur_cnt.reset_index(level=0, inplace = True)\n",
    "occur_cnt.rename(columns={0:'count'}, inplace = True)\n",
    "\n",
    "# We add the counts to the table with mulriple occurances, sort \n",
    "# by count, and select those adresses that occur at least twice\n",
    "dupl_result = pd.merge(mult_occur, occur_cnt)\n",
    "dupl_result.sort_values(by = ['count', 'Address'], axis=0, inplace = True, ascending = False)\n",
    "dupl_result = dupl_result[dupl_result['count'] > 1]\n",
    "display(dupl_result.head(5))\n",
    "print('The total number of street address duplicates is:', dupl_result.shape[0])"
   ]
  },
  {
   "cell_type": "markdown",
   "metadata": {},
   "source": [
    "As we see there are 135 PLUTO entries that have duplicate street addresses. Let us analyze one of them.\n",
    "\n",
    "Consider the top occuring '595 WEST 239 STREET' address, let us look at its 'Lot' and 'ZipCode' columns summary:"
   ]
  },
  {
   "cell_type": "code",
   "execution_count": 23,
   "metadata": {},
   "outputs": [
    {
     "data": {
      "text/html": [
       "<div>\n",
       "<style scoped>\n",
       "    .dataframe tbody tr th:only-of-type {\n",
       "        vertical-align: middle;\n",
       "    }\n",
       "\n",
       "    .dataframe tbody tr th {\n",
       "        vertical-align: top;\n",
       "    }\n",
       "\n",
       "    .dataframe thead th {\n",
       "        text-align: right;\n",
       "    }\n",
       "</style>\n",
       "<table border=\"1\" class=\"dataframe\">\n",
       "  <thead>\n",
       "    <tr style=\"text-align: right;\">\n",
       "      <th></th>\n",
       "      <th>Lot</th>\n",
       "      <th>ZipCode</th>\n",
       "    </tr>\n",
       "  </thead>\n",
       "  <tbody>\n",
       "    <tr>\n",
       "      <th>count</th>\n",
       "      <td>13.000000</td>\n",
       "      <td>13.0</td>\n",
       "    </tr>\n",
       "    <tr>\n",
       "      <th>mean</th>\n",
       "      <td>120.615385</td>\n",
       "      <td>10463.0</td>\n",
       "    </tr>\n",
       "    <tr>\n",
       "      <th>std</th>\n",
       "      <td>4.699973</td>\n",
       "      <td>0.0</td>\n",
       "    </tr>\n",
       "    <tr>\n",
       "      <th>min</th>\n",
       "      <td>110.000000</td>\n",
       "      <td>10463.0</td>\n",
       "    </tr>\n",
       "    <tr>\n",
       "      <th>25%</th>\n",
       "      <td>118.000000</td>\n",
       "      <td>10463.0</td>\n",
       "    </tr>\n",
       "    <tr>\n",
       "      <th>50%</th>\n",
       "      <td>121.000000</td>\n",
       "      <td>10463.0</td>\n",
       "    </tr>\n",
       "    <tr>\n",
       "      <th>75%</th>\n",
       "      <td>124.000000</td>\n",
       "      <td>10463.0</td>\n",
       "    </tr>\n",
       "    <tr>\n",
       "      <th>max</th>\n",
       "      <td>127.000000</td>\n",
       "      <td>10463.0</td>\n",
       "    </tr>\n",
       "  </tbody>\n",
       "</table>\n",
       "</div>"
      ],
      "text/plain": [
       "              Lot  ZipCode\n",
       "count   13.000000     13.0\n",
       "mean   120.615385  10463.0\n",
       "std      4.699973      0.0\n",
       "min    110.000000  10463.0\n",
       "25%    118.000000  10463.0\n",
       "50%    121.000000  10463.0\n",
       "75%    124.000000  10463.0\n",
       "max    127.000000  10463.0"
      ]
     },
     "execution_count": 23,
     "metadata": {},
     "output_type": "execute_result"
    }
   ],
   "source": [
    "bx_df.loc[bx_df.Address == '595 WEST 239 STREET', ['Lot','ZipCode']].describe()"
   ]
  },
  {
   "cell_type": "markdown",
   "metadata": {},
   "source": [
    "As one can see all the entries have the same zip code `10463.0`. Some of the lot identifiers are different and some are duplicated:"
   ]
  },
  {
   "cell_type": "code",
   "execution_count": 24,
   "metadata": {},
   "outputs": [
    {
     "data": {
      "text/plain": [
       "Text(0.5, 1.0, \"The frequency of lot identifier values for the '595 WEST 239 STREET' address in PLUTO\")"
      ]
     },
     "execution_count": 24,
     "metadata": {},
     "output_type": "execute_result"
    },
    {
     "data": {
      "image/png": "[encoded data removed]",
      "text/plain": [
       "<Figure size 720x576 with 1 Axes>"
      ]
     },
     "metadata": {
      "needs_background": "light"
     },
     "output_type": "display_data"
    }
   ],
   "source": [
    "bx_df[bx_df.Address == '595 WEST 239 STREET'].Lot.plot(kind = 'hist', figsize = (10,8))\n",
    "plt.xlabel('Lot identifier')\n",
    "plt.title('The frequency of lot identifier values for the \\'595 WEST 239 STREET\\' address in PLUTO')"
   ]
  },
  {
   "cell_type": "markdown",
   "metadata": {},
   "source": [
    "It is at the moment hard to judge the reason for the lot duplications and it requires a more thorough investigation. To solve this last problem for now we suggest simply removing all the 'Address' and 'ZipCode' pairs that have duplicate entries in the PLUTO data set."
   ]
  },
  {
   "cell_type": "code",
   "execution_count": 25,
   "metadata": {},
   "outputs": [
    {
     "name": "stdout",
     "output_type": "stream",
     "text": [
      "The number of PLUTO entries before removing duplicates:  86591\n",
      "The number of PLUTO entries after removing duplicates:  85788\n"
     ]
    }
   ],
   "source": [
    "print('The number of PLUTO entries before removing duplicates: ', bx_df.shape[0])\n",
    "\n",
    "# First count the distinct ZipCode-Address groups\n",
    "occur_cnt = bx_df.groupby(['ZipCode','Address']).size().to_frame()\n",
    "occur_cnt.reset_index(level=0, inplace = True)\n",
    "occur_cnt.reset_index(level=0, inplace = True)\n",
    "\n",
    "# Rename the counts column\n",
    "occur_cnt.rename(columns={0:'Count'}, inplace = True)\n",
    "\n",
    "# Join the data into the original table\n",
    "bx_df_tmp = pd.merge(bx_df, occur_cnt, left_on=['ZipCode','Address'], right_on=['ZipCode','Address'])\n",
    "\n",
    "# Only keep the Address - ZipCode pairs that occur once\n",
    "rows_index = bx_df_tmp[bx_df_tmp['Count'] > 1].index\n",
    "bx_df = bx_df_tmp.drop(rows_index, axis = 0)\n",
    "\n",
    "# Drop the counts columns is it will not be needed and remove the temporary object\n",
    "bx_df = bx_df.drop('Count', axis = 1)\n",
    "bx_df_tmp = []\n",
    "\n",
    "print('The number of PLUTO entries after removing duplicates: ', bx_df.shape[0])"
   ]
  },
  {
   "cell_type": "markdown",
   "metadata": {},
   "source": [
    "Notice that the number of removed rows is marginal, i.e. is about `100 - (85788 * 100)/86591 = 0.92`%\n",
    "\n",
    "# Combining 311 and PLUTO data sets\n",
    "\n",
    "In this section we shall join the cleaned 311 and PLUTO data sets to form a single data frame, we shall do it by performing an inner joint on the 311 and PLUTO data frames. The goint will be done by *'Address'* and *'ZipCode'* columns. This way we will only get the complaints that are marched with the PLUTO tax lot. This approach solves the three yet unresolved issues with the PLUTO data set mentioned in the previous section by ignoring the complaints that could not be matched with the tax lots because of the missing house numbers."
   ]
  },
  {
   "cell_type": "code",
   "execution_count": 26,
   "metadata": {},
   "outputs": [
    {
     "name": "stdout",
     "output_type": "stream",
     "text": [
      "The number of selected complaints from the 311 data set: 1615055\n",
      "The resulting number of rows 1284430\n"
     ]
    }
   ],
   "source": [
    "print('The number of selected complaints from the 311 data set:', dhp_df.shape[0])\n",
    "dhp_bx_df = pd.merge(bx_df, dhp_df, how='inner', left_on=['ZipCode','Address'], right_on=['ZipCode','Address'])\n",
    "print('The resulting number of rows', dhp_bx_df.shape[0])"
   ]
  },
  {
   "cell_type": "markdown",
   "metadata": {},
   "source": [
    "As one can see the inner joint has reduced our data quite significantly, i.e. by about `100 - (1284430 * 100) / 1615055 = 20.47`%. However, this is the price we have to pay unless we do a more thorough pre-porocessing of the PLUTO data set. Let us now see if there are any Na/NaN values present in the resulting joint data frame:"
   ]
  },
  {
   "cell_type": "code",
   "execution_count": 27,
   "metadata": {},
   "outputs": [
    {
     "data": {
      "text/html": [
       "<div>\n",
       "<style scoped>\n",
       "    .dataframe tbody tr th:only-of-type {\n",
       "        vertical-align: middle;\n",
       "    }\n",
       "\n",
       "    .dataframe tbody tr th {\n",
       "        vertical-align: top;\n",
       "    }\n",
       "\n",
       "    .dataframe thead th {\n",
       "        text-align: right;\n",
       "    }\n",
       "</style>\n",
       "<table border=\"1\" class=\"dataframe\">\n",
       "  <thead>\n",
       "    <tr style=\"text-align: right;\">\n",
       "      <th></th>\n",
       "      <th>Address</th>\n",
       "      <th>BldgArea</th>\n",
       "      <th>BldgDepth</th>\n",
       "      <th>BuiltFAR</th>\n",
       "      <th>CommFAR</th>\n",
       "      <th>FacilFAR</th>\n",
       "      <th>Lot</th>\n",
       "      <th>LotArea</th>\n",
       "      <th>LotDepth</th>\n",
       "      <th>NumBldgs</th>\n",
       "      <th>...</th>\n",
       "      <th>OfficeArea</th>\n",
       "      <th>ResArea</th>\n",
       "      <th>ResidFAR</th>\n",
       "      <th>RetailArea</th>\n",
       "      <th>YearBuilt</th>\n",
       "      <th>YearAlter1</th>\n",
       "      <th>ZipCode</th>\n",
       "      <th>YCoord</th>\n",
       "      <th>XCoord</th>\n",
       "      <th>Type</th>\n",
       "    </tr>\n",
       "  </thead>\n",
       "  <tbody>\n",
       "    <tr>\n",
       "      <th>count</th>\n",
       "      <td>1284430</td>\n",
       "      <td>1284430</td>\n",
       "      <td>1284430</td>\n",
       "      <td>1284430</td>\n",
       "      <td>1284430</td>\n",
       "      <td>1284430</td>\n",
       "      <td>1284430</td>\n",
       "      <td>1284430</td>\n",
       "      <td>1284430</td>\n",
       "      <td>1284430</td>\n",
       "      <td>...</td>\n",
       "      <td>1284430</td>\n",
       "      <td>1284430</td>\n",
       "      <td>1284430</td>\n",
       "      <td>1284430</td>\n",
       "      <td>1284430</td>\n",
       "      <td>1284430</td>\n",
       "      <td>1284430</td>\n",
       "      <td>1284430</td>\n",
       "      <td>1284430</td>\n",
       "      <td>1284430</td>\n",
       "    </tr>\n",
       "    <tr>\n",
       "      <th>unique</th>\n",
       "      <td>1</td>\n",
       "      <td>1</td>\n",
       "      <td>1</td>\n",
       "      <td>1</td>\n",
       "      <td>1</td>\n",
       "      <td>1</td>\n",
       "      <td>1</td>\n",
       "      <td>1</td>\n",
       "      <td>1</td>\n",
       "      <td>1</td>\n",
       "      <td>...</td>\n",
       "      <td>1</td>\n",
       "      <td>1</td>\n",
       "      <td>1</td>\n",
       "      <td>1</td>\n",
       "      <td>1</td>\n",
       "      <td>1</td>\n",
       "      <td>1</td>\n",
       "      <td>1</td>\n",
       "      <td>1</td>\n",
       "      <td>1</td>\n",
       "    </tr>\n",
       "    <tr>\n",
       "      <th>top</th>\n",
       "      <td>False</td>\n",
       "      <td>False</td>\n",
       "      <td>False</td>\n",
       "      <td>False</td>\n",
       "      <td>False</td>\n",
       "      <td>False</td>\n",
       "      <td>False</td>\n",
       "      <td>False</td>\n",
       "      <td>False</td>\n",
       "      <td>False</td>\n",
       "      <td>...</td>\n",
       "      <td>False</td>\n",
       "      <td>False</td>\n",
       "      <td>False</td>\n",
       "      <td>False</td>\n",
       "      <td>False</td>\n",
       "      <td>False</td>\n",
       "      <td>False</td>\n",
       "      <td>False</td>\n",
       "      <td>False</td>\n",
       "      <td>False</td>\n",
       "    </tr>\n",
       "    <tr>\n",
       "      <th>freq</th>\n",
       "      <td>1284430</td>\n",
       "      <td>1284430</td>\n",
       "      <td>1284430</td>\n",
       "      <td>1284430</td>\n",
       "      <td>1284430</td>\n",
       "      <td>1284430</td>\n",
       "      <td>1284430</td>\n",
       "      <td>1284430</td>\n",
       "      <td>1284430</td>\n",
       "      <td>1284430</td>\n",
       "      <td>...</td>\n",
       "      <td>1284430</td>\n",
       "      <td>1284430</td>\n",
       "      <td>1284430</td>\n",
       "      <td>1284430</td>\n",
       "      <td>1284430</td>\n",
       "      <td>1284430</td>\n",
       "      <td>1284430</td>\n",
       "      <td>1284430</td>\n",
       "      <td>1284430</td>\n",
       "      <td>1284430</td>\n",
       "    </tr>\n",
       "  </tbody>\n",
       "</table>\n",
       "<p>4 rows × 21 columns</p>\n",
       "</div>"
      ],
      "text/plain": [
       "        Address BldgArea BldgDepth BuiltFAR  CommFAR FacilFAR      Lot  \\\n",
       "count   1284430  1284430   1284430  1284430  1284430  1284430  1284430   \n",
       "unique        1        1         1        1        1        1        1   \n",
       "top       False    False     False    False    False    False    False   \n",
       "freq    1284430  1284430   1284430  1284430  1284430  1284430  1284430   \n",
       "\n",
       "        LotArea LotDepth NumBldgs  ... OfficeArea  ResArea ResidFAR  \\\n",
       "count   1284430  1284430  1284430  ...    1284430  1284430  1284430   \n",
       "unique        1        1        1  ...          1        1        1   \n",
       "top       False    False    False  ...      False    False    False   \n",
       "freq    1284430  1284430  1284430  ...    1284430  1284430  1284430   \n",
       "\n",
       "       RetailArea YearBuilt YearAlter1  ZipCode   YCoord   XCoord     Type  \n",
       "count     1284430   1284430    1284430  1284430  1284430  1284430  1284430  \n",
       "unique          1         1          1        1        1        1        1  \n",
       "top         False     False      False    False    False    False    False  \n",
       "freq      1284430   1284430    1284430  1284430  1284430  1284430  1284430  \n",
       "\n",
       "[4 rows x 21 columns]"
      ]
     },
     "execution_count": 27,
     "metadata": {},
     "output_type": "execute_result"
    }
   ],
   "source": [
    "dhp_bx_df.isna().describe()"
   ]
  },
  {
   "cell_type": "markdown",
   "metadata": {},
   "source": [
    "According to the table above there are no Na/NaN values present so we can proceed with analyzing the dependency of the 'HEAT/HOT WATER' comlaints reported in 'BRONX' from any particular house characteristics.\n",
    "\n",
    "# House characteristics dependency\n",
    "\n",
    "Please note that, the number of house properties (features) that is selected is currently rather large:"
   ]
  },
  {
   "cell_type": "code",
   "execution_count": 28,
   "metadata": {},
   "outputs": [
    {
     "name": "stdout",
     "output_type": "stream",
     "text": [
      "The number of selected features is: 17\n"
     ]
    }
   ],
   "source": [
    "NUM_FEATURES = (dhp_bx_df.shape[1] - len(['Lot', 'Address', 'ZipCode', 'Type']))\n",
    "print('The number of selected features is:', NUM_FEATURES)"
   ]
  },
  {
   "cell_type": "markdown",
   "metadata": {},
   "source": [
    "We do not consider *'Lot'*, *'Address'*, *'ZipCode'*, and *'Type'* as the former two were used to join the 311 and PLUTO data sets and are not directly related to house properties. The latter is the target variable, i.e. the one that shall depend on the house properties.\n",
    "\n",
    "It does not seem that the *'Lot'*, *'Address'* and *'ZipCode'* columns will be needed so let us drop them:"
   ]
  },
  {
   "cell_type": "code",
   "execution_count": 29,
   "metadata": {},
   "outputs": [
    {
     "data": {
      "text/html": [
       "<div>\n",
       "<style scoped>\n",
       "    .dataframe tbody tr th:only-of-type {\n",
       "        vertical-align: middle;\n",
       "    }\n",
       "\n",
       "    .dataframe tbody tr th {\n",
       "        vertical-align: top;\n",
       "    }\n",
       "\n",
       "    .dataframe thead th {\n",
       "        text-align: right;\n",
       "    }\n",
       "</style>\n",
       "<table border=\"1\" class=\"dataframe\">\n",
       "  <thead>\n",
       "    <tr style=\"text-align: right;\">\n",
       "      <th></th>\n",
       "      <th>BldgArea</th>\n",
       "      <th>BldgDepth</th>\n",
       "      <th>BuiltFAR</th>\n",
       "      <th>CommFAR</th>\n",
       "      <th>FacilFAR</th>\n",
       "      <th>LotArea</th>\n",
       "      <th>LotDepth</th>\n",
       "      <th>NumBldgs</th>\n",
       "      <th>NumFloors</th>\n",
       "      <th>OfficeArea</th>\n",
       "      <th>ResArea</th>\n",
       "      <th>ResidFAR</th>\n",
       "      <th>RetailArea</th>\n",
       "      <th>YearBuilt</th>\n",
       "      <th>YearAlter1</th>\n",
       "      <th>YCoord</th>\n",
       "      <th>XCoord</th>\n",
       "      <th>Type</th>\n",
       "    </tr>\n",
       "  </thead>\n",
       "  <tbody>\n",
       "    <tr>\n",
       "      <th>0</th>\n",
       "      <td>12500</td>\n",
       "      <td>85.0</td>\n",
       "      <td>5.0</td>\n",
       "      <td>5.0</td>\n",
       "      <td>6.5</td>\n",
       "      <td>2500</td>\n",
       "      <td>100.0</td>\n",
       "      <td>1</td>\n",
       "      <td>5.0</td>\n",
       "      <td>0</td>\n",
       "      <td>12500</td>\n",
       "      <td>6.02</td>\n",
       "      <td>0</td>\n",
       "      <td>1931</td>\n",
       "      <td>2001</td>\n",
       "      <td>232033.0</td>\n",
       "      <td>1006299.0</td>\n",
       "      <td>HEAT/HOT WATER</td>\n",
       "    </tr>\n",
       "    <tr>\n",
       "      <th>1</th>\n",
       "      <td>12500</td>\n",
       "      <td>85.0</td>\n",
       "      <td>5.0</td>\n",
       "      <td>5.0</td>\n",
       "      <td>6.5</td>\n",
       "      <td>2500</td>\n",
       "      <td>100.0</td>\n",
       "      <td>1</td>\n",
       "      <td>5.0</td>\n",
       "      <td>0</td>\n",
       "      <td>12500</td>\n",
       "      <td>6.02</td>\n",
       "      <td>0</td>\n",
       "      <td>1931</td>\n",
       "      <td>2001</td>\n",
       "      <td>232033.0</td>\n",
       "      <td>1006299.0</td>\n",
       "      <td>HEAT/HOT WATER</td>\n",
       "    </tr>\n",
       "    <tr>\n",
       "      <th>2</th>\n",
       "      <td>12500</td>\n",
       "      <td>85.0</td>\n",
       "      <td>5.0</td>\n",
       "      <td>5.0</td>\n",
       "      <td>6.5</td>\n",
       "      <td>2500</td>\n",
       "      <td>100.0</td>\n",
       "      <td>1</td>\n",
       "      <td>5.0</td>\n",
       "      <td>0</td>\n",
       "      <td>12500</td>\n",
       "      <td>6.02</td>\n",
       "      <td>0</td>\n",
       "      <td>1931</td>\n",
       "      <td>2001</td>\n",
       "      <td>232033.0</td>\n",
       "      <td>1006299.0</td>\n",
       "      <td>HEAT/HOT WATER</td>\n",
       "    </tr>\n",
       "    <tr>\n",
       "      <th>3</th>\n",
       "      <td>12500</td>\n",
       "      <td>85.0</td>\n",
       "      <td>5.0</td>\n",
       "      <td>5.0</td>\n",
       "      <td>6.5</td>\n",
       "      <td>2500</td>\n",
       "      <td>100.0</td>\n",
       "      <td>1</td>\n",
       "      <td>5.0</td>\n",
       "      <td>0</td>\n",
       "      <td>12500</td>\n",
       "      <td>6.02</td>\n",
       "      <td>0</td>\n",
       "      <td>1931</td>\n",
       "      <td>2001</td>\n",
       "      <td>232033.0</td>\n",
       "      <td>1006299.0</td>\n",
       "      <td>HEAT/HOT WATER</td>\n",
       "    </tr>\n",
       "    <tr>\n",
       "      <th>4</th>\n",
       "      <td>12500</td>\n",
       "      <td>85.0</td>\n",
       "      <td>5.0</td>\n",
       "      <td>5.0</td>\n",
       "      <td>6.5</td>\n",
       "      <td>2500</td>\n",
       "      <td>100.0</td>\n",
       "      <td>1</td>\n",
       "      <td>5.0</td>\n",
       "      <td>0</td>\n",
       "      <td>12500</td>\n",
       "      <td>6.02</td>\n",
       "      <td>0</td>\n",
       "      <td>1931</td>\n",
       "      <td>2001</td>\n",
       "      <td>232033.0</td>\n",
       "      <td>1006299.0</td>\n",
       "      <td>HEAT/HOT WATER</td>\n",
       "    </tr>\n",
       "  </tbody>\n",
       "</table>\n",
       "</div>"
      ],
      "text/plain": [
       "   BldgArea  BldgDepth  BuiltFAR  CommFAR  FacilFAR  LotArea  LotDepth  \\\n",
       "0     12500       85.0       5.0      5.0       6.5     2500     100.0   \n",
       "1     12500       85.0       5.0      5.0       6.5     2500     100.0   \n",
       "2     12500       85.0       5.0      5.0       6.5     2500     100.0   \n",
       "3     12500       85.0       5.0      5.0       6.5     2500     100.0   \n",
       "4     12500       85.0       5.0      5.0       6.5     2500     100.0   \n",
       "\n",
       "   NumBldgs  NumFloors  OfficeArea  ResArea  ResidFAR  RetailArea  YearBuilt  \\\n",
       "0         1        5.0           0    12500      6.02           0       1931   \n",
       "1         1        5.0           0    12500      6.02           0       1931   \n",
       "2         1        5.0           0    12500      6.02           0       1931   \n",
       "3         1        5.0           0    12500      6.02           0       1931   \n",
       "4         1        5.0           0    12500      6.02           0       1931   \n",
       "\n",
       "   YearAlter1    YCoord     XCoord            Type  \n",
       "0        2001  232033.0  1006299.0  HEAT/HOT WATER  \n",
       "1        2001  232033.0  1006299.0  HEAT/HOT WATER  \n",
       "2        2001  232033.0  1006299.0  HEAT/HOT WATER  \n",
       "3        2001  232033.0  1006299.0  HEAT/HOT WATER  \n",
       "4        2001  232033.0  1006299.0  HEAT/HOT WATER  "
      ]
     },
     "metadata": {},
     "output_type": "display_data"
    }
   ],
   "source": [
    "dhp_bx_df.drop(columns = ['Lot', 'Address', 'ZipCode'], inplace = True)\n",
    "display(dhp_bx_df.head())"
   ]
  },
  {
   "cell_type": "markdown",
   "metadata": {},
   "source": [
    "Among the remaining columns all are numerical except for the target one (*'Type'*):"
   ]
  },
  {
   "cell_type": "code",
   "execution_count": 30,
   "metadata": {},
   "outputs": [
    {
     "data": {
      "text/plain": [
       "BldgArea        int64\n",
       "BldgDepth     float64\n",
       "BuiltFAR      float64\n",
       "CommFAR       float64\n",
       "FacilFAR      float64\n",
       "LotArea         int64\n",
       "LotDepth      float64\n",
       "NumBldgs        int64\n",
       "NumFloors     float64\n",
       "OfficeArea      int64\n",
       "ResArea         int64\n",
       "ResidFAR      float64\n",
       "RetailArea      int64\n",
       "YearBuilt       int64\n",
       "YearAlter1      int64\n",
       "YCoord        float64\n",
       "XCoord        float64\n",
       "Type           object\n",
       "dtype: object"
      ]
     },
     "metadata": {},
     "output_type": "display_data"
    }
   ],
   "source": [
    "display(dhp_bx_df.dtypes)"
   ]
  },
  {
   "cell_type": "markdown",
   "metadata": {},
   "source": [
    "Let us not re-formulate the original question:\n",
    "\n",
    "> Does the Complaint Type that you identified in response to Question 1 have an obvious relationship with any particular characteristic or characteristic of the Houses?\n",
    "\n",
    "An obsious, but faulty, approach to answering this question would be to select only the 'HEAT/HOT WATER' comlaints in 'BRONX' and then for each of the house features check on the value fistribution and or attempt to see if there are any large clusters defined by the house feature ranges that one can then say are influencing 'causing' the 'HEAT/HOT WATER' comlaint. This however would be a bad approach as it may be so that the identified hous properties are just common to all houses in 'BRONX' and are thus commonly present in all houses of most other complain types.\n",
    "\n",
    "Therefore the approach we shall take is to be more general. We shall consider the complain type as the target variable we are to predict from the available house features. Then we can perform several type of analysis to identify the features that are most significant for predicting the complain types. These exact features will be then the ones that determine relationship of the complain type, and the 'HEAT/HOT WATER' comlaints in particular, with the house features.\n",
    "\n",
    "In the following we will perform the three types of analysis to identify such features:\n",
    "1. Univariate Selection\n",
    "2. Feature Importance\n",
    "3. Correlation Matrix\n",
    "\n",
    "Before the methods will be applied we shall do some preprocessing of the data set and after the analysis will be done we will draw the conclusions on the types of house features highly related to the 'HEAT/HOT WATER' comlaints.\n",
    "\n",
    "## Pre-processing\n",
    "\n",
    "In order to be able to apply the aforementioned feature analysis methond one needs to convert the target variable from string to numeric. There is a number of ways to do that, for exampe by explicit mapping, e.g.:\n",
    "\n",
    "```\n",
    "type_mapping = {k: v for v, k in enumerate(dhp_bx_df.Type.unique())}\n",
    "dhp_bx_df['TypeCode'] = dhp_bx_df.Type.map(type_mapping)\n",
    "```\n",
    "\n",
    "We will however use the `LabelEncoder` class available in the `sklearn.preprocessing` package:"
   ]
  },
  {
   "cell_type": "code",
   "execution_count": 31,
   "metadata": {},
   "outputs": [
    {
     "name": "stdout",
     "output_type": "stream",
     "text": [
      "The identified classes are: ['AGENCY' 'APPLIANCE' 'CONSTRUCTION' 'DOOR/WINDOW' 'ELECTRIC' 'ELEVATOR'\n",
      " 'FLOORING/STAIRS' 'GENERAL' 'GENERAL CONSTRUCTION' 'General'\n",
      " 'HEAT/HOT WATER' 'NONCONST' 'OUTSIDE BUILDING' 'PAINT - PLASTER'\n",
      " 'PAINT/PLASTER' 'PLUMBING' 'Plumbing' 'SAFETY' 'STRUCTURAL' 'Safety'\n",
      " 'UNSANITARY CONDITION' 'Unsanitary Condition' 'WATER LEAK']\n"
     ]
    }
   ],
   "source": [
    "# Create and fit the encoder\n",
    "type_encoder = LabelEncoder()\n",
    "type_encoder.fit(dhp_bx_df.Type)\n",
    "print('The identified classes are:', type_encoder.classes_)"
   ]
  },
  {
   "cell_type": "code",
   "execution_count": 32,
   "metadata": {},
   "outputs": [
    {
     "name": "stdout",
     "output_type": "stream",
     "text": [
      "                         Type  TypeCode\n",
      "0              HEAT/HOT WATER        10\n",
      "1              HEAT/HOT WATER        10\n",
      "2              HEAT/HOT WATER        10\n",
      "3              HEAT/HOT WATER        10\n",
      "4              HEAT/HOT WATER        10\n",
      "...                       ...       ...\n",
      "1284425              PLUMBING        15\n",
      "1284426              PLUMBING        15\n",
      "1284427              PLUMBING        15\n",
      "1284428  GENERAL CONSTRUCTION         8\n",
      "1284429  GENERAL CONSTRUCTION         8\n",
      "\n",
      "[1284430 rows x 2 columns]\n"
     ]
    }
   ],
   "source": [
    "# Encode the Type column, and drop the original column\n",
    "dhp_bx_df['TypeCode'] = type_encoder.transform(dhp_bx_df.Type)\n",
    "print(dhp_bx_df[['Type', 'TypeCode']])\n",
    "dhp_bx_df.drop(columns = ['Type'], inplace = True)"
   ]
  },
  {
   "cell_type": "markdown",
   "metadata": {},
   "source": [
    "Let us now check on the column types to see if we are ready for the subsequent analysis:"
   ]
  },
  {
   "cell_type": "code",
   "execution_count": 33,
   "metadata": {},
   "outputs": [
    {
     "data": {
      "text/plain": [
       "BldgArea        int64\n",
       "BldgDepth     float64\n",
       "BuiltFAR      float64\n",
       "CommFAR       float64\n",
       "FacilFAR      float64\n",
       "LotArea         int64\n",
       "LotDepth      float64\n",
       "NumBldgs        int64\n",
       "NumFloors     float64\n",
       "OfficeArea      int64\n",
       "ResArea         int64\n",
       "ResidFAR      float64\n",
       "RetailArea      int64\n",
       "YearBuilt       int64\n",
       "YearAlter1      int64\n",
       "YCoord        float64\n",
       "XCoord        float64\n",
       "TypeCode        int64\n",
       "dtype: object"
      ]
     },
     "execution_count": 33,
     "metadata": {},
     "output_type": "execute_result"
    }
   ],
   "source": [
    "dhp_bx_df.dtypes"
   ]
  },
  {
   "cell_type": "markdown",
   "metadata": {},
   "source": [
    "All columns have numeric values so we could proceed. Whowever, in order to improve the analysis we should scale the data, for this we can use the `StandardScaler` from the `sklearn.preprocessing` package. By this step the original data set:"
   ]
  },
  {
   "cell_type": "code",
   "execution_count": 34,
   "metadata": {},
   "outputs": [
    {
     "data": {
      "text/html": [
       "<div>\n",
       "<style scoped>\n",
       "    .dataframe tbody tr th:only-of-type {\n",
       "        vertical-align: middle;\n",
       "    }\n",
       "\n",
       "    .dataframe tbody tr th {\n",
       "        vertical-align: top;\n",
       "    }\n",
       "\n",
       "    .dataframe thead th {\n",
       "        text-align: right;\n",
       "    }\n",
       "</style>\n",
       "<table border=\"1\" class=\"dataframe\">\n",
       "  <thead>\n",
       "    <tr style=\"text-align: right;\">\n",
       "      <th></th>\n",
       "      <th>BldgArea</th>\n",
       "      <th>BldgDepth</th>\n",
       "      <th>BuiltFAR</th>\n",
       "      <th>CommFAR</th>\n",
       "      <th>FacilFAR</th>\n",
       "      <th>LotArea</th>\n",
       "      <th>LotDepth</th>\n",
       "      <th>NumBldgs</th>\n",
       "      <th>NumFloors</th>\n",
       "      <th>OfficeArea</th>\n",
       "      <th>ResArea</th>\n",
       "      <th>ResidFAR</th>\n",
       "      <th>RetailArea</th>\n",
       "      <th>YearBuilt</th>\n",
       "      <th>YearAlter1</th>\n",
       "      <th>YCoord</th>\n",
       "      <th>XCoord</th>\n",
       "      <th>TypeCode</th>\n",
       "    </tr>\n",
       "  </thead>\n",
       "  <tbody>\n",
       "    <tr>\n",
       "      <th>0</th>\n",
       "      <td>12500</td>\n",
       "      <td>85.0</td>\n",
       "      <td>5.00</td>\n",
       "      <td>5.0</td>\n",
       "      <td>6.5</td>\n",
       "      <td>2500</td>\n",
       "      <td>100.00</td>\n",
       "      <td>1</td>\n",
       "      <td>5.0</td>\n",
       "      <td>0</td>\n",
       "      <td>12500</td>\n",
       "      <td>6.02</td>\n",
       "      <td>0</td>\n",
       "      <td>1931</td>\n",
       "      <td>2001</td>\n",
       "      <td>232033.0</td>\n",
       "      <td>1006299.0</td>\n",
       "      <td>10</td>\n",
       "    </tr>\n",
       "    <tr>\n",
       "      <th>1</th>\n",
       "      <td>12500</td>\n",
       "      <td>85.0</td>\n",
       "      <td>5.00</td>\n",
       "      <td>5.0</td>\n",
       "      <td>6.5</td>\n",
       "      <td>2500</td>\n",
       "      <td>100.00</td>\n",
       "      <td>1</td>\n",
       "      <td>5.0</td>\n",
       "      <td>0</td>\n",
       "      <td>12500</td>\n",
       "      <td>6.02</td>\n",
       "      <td>0</td>\n",
       "      <td>1931</td>\n",
       "      <td>2001</td>\n",
       "      <td>232033.0</td>\n",
       "      <td>1006299.0</td>\n",
       "      <td>10</td>\n",
       "    </tr>\n",
       "    <tr>\n",
       "      <th>2</th>\n",
       "      <td>12500</td>\n",
       "      <td>85.0</td>\n",
       "      <td>5.00</td>\n",
       "      <td>5.0</td>\n",
       "      <td>6.5</td>\n",
       "      <td>2500</td>\n",
       "      <td>100.00</td>\n",
       "      <td>1</td>\n",
       "      <td>5.0</td>\n",
       "      <td>0</td>\n",
       "      <td>12500</td>\n",
       "      <td>6.02</td>\n",
       "      <td>0</td>\n",
       "      <td>1931</td>\n",
       "      <td>2001</td>\n",
       "      <td>232033.0</td>\n",
       "      <td>1006299.0</td>\n",
       "      <td>10</td>\n",
       "    </tr>\n",
       "    <tr>\n",
       "      <th>3</th>\n",
       "      <td>12500</td>\n",
       "      <td>85.0</td>\n",
       "      <td>5.00</td>\n",
       "      <td>5.0</td>\n",
       "      <td>6.5</td>\n",
       "      <td>2500</td>\n",
       "      <td>100.00</td>\n",
       "      <td>1</td>\n",
       "      <td>5.0</td>\n",
       "      <td>0</td>\n",
       "      <td>12500</td>\n",
       "      <td>6.02</td>\n",
       "      <td>0</td>\n",
       "      <td>1931</td>\n",
       "      <td>2001</td>\n",
       "      <td>232033.0</td>\n",
       "      <td>1006299.0</td>\n",
       "      <td>10</td>\n",
       "    </tr>\n",
       "    <tr>\n",
       "      <th>4</th>\n",
       "      <td>12500</td>\n",
       "      <td>85.0</td>\n",
       "      <td>5.00</td>\n",
       "      <td>5.0</td>\n",
       "      <td>6.5</td>\n",
       "      <td>2500</td>\n",
       "      <td>100.00</td>\n",
       "      <td>1</td>\n",
       "      <td>5.0</td>\n",
       "      <td>0</td>\n",
       "      <td>12500</td>\n",
       "      <td>6.02</td>\n",
       "      <td>0</td>\n",
       "      <td>1931</td>\n",
       "      <td>2001</td>\n",
       "      <td>232033.0</td>\n",
       "      <td>1006299.0</td>\n",
       "      <td>10</td>\n",
       "    </tr>\n",
       "    <tr>\n",
       "      <th>...</th>\n",
       "      <td>...</td>\n",
       "      <td>...</td>\n",
       "      <td>...</td>\n",
       "      <td>...</td>\n",
       "      <td>...</td>\n",
       "      <td>...</td>\n",
       "      <td>...</td>\n",
       "      <td>...</td>\n",
       "      <td>...</td>\n",
       "      <td>...</td>\n",
       "      <td>...</td>\n",
       "      <td>...</td>\n",
       "      <td>...</td>\n",
       "      <td>...</td>\n",
       "      <td>...</td>\n",
       "      <td>...</td>\n",
       "      <td>...</td>\n",
       "      <td>...</td>\n",
       "    </tr>\n",
       "    <tr>\n",
       "      <th>1284425</th>\n",
       "      <td>150700</td>\n",
       "      <td>74.0</td>\n",
       "      <td>3.32</td>\n",
       "      <td>0.0</td>\n",
       "      <td>2.0</td>\n",
       "      <td>45375</td>\n",
       "      <td>152.25</td>\n",
       "      <td>1</td>\n",
       "      <td>7.0</td>\n",
       "      <td>0</td>\n",
       "      <td>139200</td>\n",
       "      <td>0.90</td>\n",
       "      <td>0</td>\n",
       "      <td>1954</td>\n",
       "      <td>0</td>\n",
       "      <td>268922.0</td>\n",
       "      <td>1010458.0</td>\n",
       "      <td>15</td>\n",
       "    </tr>\n",
       "    <tr>\n",
       "      <th>1284426</th>\n",
       "      <td>150700</td>\n",
       "      <td>74.0</td>\n",
       "      <td>3.32</td>\n",
       "      <td>0.0</td>\n",
       "      <td>2.0</td>\n",
       "      <td>45375</td>\n",
       "      <td>152.25</td>\n",
       "      <td>1</td>\n",
       "      <td>7.0</td>\n",
       "      <td>0</td>\n",
       "      <td>139200</td>\n",
       "      <td>0.90</td>\n",
       "      <td>0</td>\n",
       "      <td>1954</td>\n",
       "      <td>0</td>\n",
       "      <td>268922.0</td>\n",
       "      <td>1010458.0</td>\n",
       "      <td>15</td>\n",
       "    </tr>\n",
       "    <tr>\n",
       "      <th>1284427</th>\n",
       "      <td>150700</td>\n",
       "      <td>74.0</td>\n",
       "      <td>3.32</td>\n",
       "      <td>0.0</td>\n",
       "      <td>2.0</td>\n",
       "      <td>45375</td>\n",
       "      <td>152.25</td>\n",
       "      <td>1</td>\n",
       "      <td>7.0</td>\n",
       "      <td>0</td>\n",
       "      <td>139200</td>\n",
       "      <td>0.90</td>\n",
       "      <td>0</td>\n",
       "      <td>1954</td>\n",
       "      <td>0</td>\n",
       "      <td>268922.0</td>\n",
       "      <td>1010458.0</td>\n",
       "      <td>15</td>\n",
       "    </tr>\n",
       "    <tr>\n",
       "      <th>1284428</th>\n",
       "      <td>150700</td>\n",
       "      <td>74.0</td>\n",
       "      <td>3.32</td>\n",
       "      <td>0.0</td>\n",
       "      <td>2.0</td>\n",
       "      <td>45375</td>\n",
       "      <td>152.25</td>\n",
       "      <td>1</td>\n",
       "      <td>7.0</td>\n",
       "      <td>0</td>\n",
       "      <td>139200</td>\n",
       "      <td>0.90</td>\n",
       "      <td>0</td>\n",
       "      <td>1954</td>\n",
       "      <td>0</td>\n",
       "      <td>268922.0</td>\n",
       "      <td>1010458.0</td>\n",
       "      <td>8</td>\n",
       "    </tr>\n",
       "    <tr>\n",
       "      <th>1284429</th>\n",
       "      <td>150700</td>\n",
       "      <td>74.0</td>\n",
       "      <td>3.32</td>\n",
       "      <td>0.0</td>\n",
       "      <td>2.0</td>\n",
       "      <td>45375</td>\n",
       "      <td>152.25</td>\n",
       "      <td>1</td>\n",
       "      <td>7.0</td>\n",
       "      <td>0</td>\n",
       "      <td>139200</td>\n",
       "      <td>0.90</td>\n",
       "      <td>0</td>\n",
       "      <td>1954</td>\n",
       "      <td>0</td>\n",
       "      <td>268922.0</td>\n",
       "      <td>1010458.0</td>\n",
       "      <td>8</td>\n",
       "    </tr>\n",
       "  </tbody>\n",
       "</table>\n",
       "<p>1284430 rows × 18 columns</p>\n",
       "</div>"
      ],
      "text/plain": [
       "         BldgArea  BldgDepth  BuiltFAR  CommFAR  FacilFAR  LotArea  LotDepth  \\\n",
       "0           12500       85.0      5.00      5.0       6.5     2500    100.00   \n",
       "1           12500       85.0      5.00      5.0       6.5     2500    100.00   \n",
       "2           12500       85.0      5.00      5.0       6.5     2500    100.00   \n",
       "3           12500       85.0      5.00      5.0       6.5     2500    100.00   \n",
       "4           12500       85.0      5.00      5.0       6.5     2500    100.00   \n",
       "...           ...        ...       ...      ...       ...      ...       ...   \n",
       "1284425    150700       74.0      3.32      0.0       2.0    45375    152.25   \n",
       "1284426    150700       74.0      3.32      0.0       2.0    45375    152.25   \n",
       "1284427    150700       74.0      3.32      0.0       2.0    45375    152.25   \n",
       "1284428    150700       74.0      3.32      0.0       2.0    45375    152.25   \n",
       "1284429    150700       74.0      3.32      0.0       2.0    45375    152.25   \n",
       "\n",
       "         NumBldgs  NumFloors  OfficeArea  ResArea  ResidFAR  RetailArea  \\\n",
       "0               1        5.0           0    12500      6.02           0   \n",
       "1               1        5.0           0    12500      6.02           0   \n",
       "2               1        5.0           0    12500      6.02           0   \n",
       "3               1        5.0           0    12500      6.02           0   \n",
       "4               1        5.0           0    12500      6.02           0   \n",
       "...           ...        ...         ...      ...       ...         ...   \n",
       "1284425         1        7.0           0   139200      0.90           0   \n",
       "1284426         1        7.0           0   139200      0.90           0   \n",
       "1284427         1        7.0           0   139200      0.90           0   \n",
       "1284428         1        7.0           0   139200      0.90           0   \n",
       "1284429         1        7.0           0   139200      0.90           0   \n",
       "\n",
       "         YearBuilt  YearAlter1    YCoord     XCoord  TypeCode  \n",
       "0             1931        2001  232033.0  1006299.0        10  \n",
       "1             1931        2001  232033.0  1006299.0        10  \n",
       "2             1931        2001  232033.0  1006299.0        10  \n",
       "3             1931        2001  232033.0  1006299.0        10  \n",
       "4             1931        2001  232033.0  1006299.0        10  \n",
       "...            ...         ...       ...        ...       ...  \n",
       "1284425       1954           0  268922.0  1010458.0        15  \n",
       "1284426       1954           0  268922.0  1010458.0        15  \n",
       "1284427       1954           0  268922.0  1010458.0        15  \n",
       "1284428       1954           0  268922.0  1010458.0         8  \n",
       "1284429       1954           0  268922.0  1010458.0         8  \n",
       "\n",
       "[1284430 rows x 18 columns]"
      ]
     },
     "metadata": {},
     "output_type": "display_data"
    }
   ],
   "source": [
    "display(dhp_bx_df)"
   ]
  },
  {
   "cell_type": "markdown",
   "metadata": {},
   "source": [
    "Gets transformedin a scaled `NumPy` matrix:"
   ]
  },
  {
   "cell_type": "code",
   "execution_count": 35,
   "metadata": {},
   "outputs": [
    {
     "data": {
      "text/plain": [
       "array([[-0.56057136, -0.11228068,  0.4821303 , ..., -2.18905644,\n",
       "        -1.26778339, -0.26477082],\n",
       "       [-0.56057136, -0.11228068,  0.4821303 , ..., -2.18905644,\n",
       "        -1.26778339, -0.26477082],\n",
       "       [-0.56057136, -0.11228068,  0.4821303 , ..., -2.18905644,\n",
       "        -1.26778339, -0.26477082],\n",
       "       ...,\n",
       "       [ 1.49175946, -0.42108548, -0.12175135, ...,  2.56822272,\n",
       "        -0.61432324,  0.78314141],\n",
       "       [ 1.49175946, -0.42108548, -0.12175135, ...,  2.56822272,\n",
       "        -0.61432324, -0.68393571],\n",
       "       [ 1.49175946, -0.42108548, -0.12175135, ...,  2.56822272,\n",
       "        -0.61432324, -0.68393571]])"
      ]
     },
     "metadata": {},
     "output_type": "display_data"
    },
    {
     "name": "stdout",
     "output_type": "stream",
     "text": [
      "Shape: (1284430, 18)\n"
     ]
    }
   ],
   "source": [
    "scaler = StandardScaler()\n",
    "dhp_bx_mtx = dhp_bx_df.values.astype(float)\n",
    "dhp_bx_mtx = scaler.fit(dhp_bx_mtx).transform(dhp_bx_mtx)\n",
    "display(dhp_bx_mtx)\n",
    "print('Shape:', dhp_bx_mtx.shape)"
   ]
  },
  {
   "cell_type": "markdown",
   "metadata": {},
   "source": [
    "Note that, normally when building a prediction model for a classification problem that we have the target column is not scaled. In this case we are not going to do prediction, and thus the target variable may be altered. However some of the classification methods that we will use, will require a discrete-valued target. Therefore below we define the X and Y vectors as follows:"
   ]
  },
  {
   "cell_type": "code",
   "execution_count": 36,
   "metadata": {},
   "outputs": [
    {
     "name": "stdout",
     "output_type": "stream",
     "text": [
      "X_train shape (1284430, 17)\n",
      "Y_train shape (1284430,)\n"
     ]
    }
   ],
   "source": [
    "# First let us select the training data\n",
    "X_train = dhp_bx_mtx[:,0:NUM_FEATURES]  #independent columns\n",
    "print('X_train shape', X_train.shape )\n",
    "\n",
    "FEATURE_NAMES = dhp_bx_df.columns[range(0, NUM_FEATURES)]\n",
    "\n",
    "# For the classification task we use the non-scaled discrete value\n",
    "Y_train = dhp_bx_df.loc[:,'TypeCode'].values\n",
    "print('Y_train shape', Y_train.shape )"
   ]
  },
  {
   "cell_type": "markdown",
   "metadata": {},
   "source": [
    "The scaled target will be used for the correlation analysis."
   ]
  },
  {
   "cell_type": "markdown",
   "metadata": {},
   "source": [
    "## Univariate Selection\n",
    "Here we shall consider the `SelectKBest` and `mutual_info_classif` from the `sklearn.feature_selection` package.\n",
    "We prefer `mutual_info_classif` here over other classifiers because it relies on computation of feature probability distribution which is usually done by using non-parametric methods without any major assumptions.\n",
    "\n",
    "Let us now compute the top 5 scoring features:"
   ]
  },
  {
   "cell_type": "code",
   "execution_count": 37,
   "metadata": {},
   "outputs": [
    {
     "data": {
      "text/plain": [
       "SelectKBest(k='all', score_func=<function mutual_info_classif at 0x11dddd0d0>)"
      ]
     },
     "execution_count": 37,
     "metadata": {},
     "output_type": "execute_result"
    }
   ],
   "source": [
    "# Create the selector\n",
    "selector = SelectKBest(mutual_info_classif, k = 'all')\n",
    "# Train on the train set\n",
    "selector.fit(X_train, Y_train)"
   ]
  },
  {
   "cell_type": "code",
   "execution_count": 38,
   "metadata": {},
   "outputs": [
    {
     "data": {
      "text/html": [
       "<div>\n",
       "<style scoped>\n",
       "    .dataframe tbody tr th:only-of-type {\n",
       "        vertical-align: middle;\n",
       "    }\n",
       "\n",
       "    .dataframe tbody tr th {\n",
       "        vertical-align: top;\n",
       "    }\n",
       "\n",
       "    .dataframe thead th {\n",
       "        text-align: right;\n",
       "    }\n",
       "</style>\n",
       "<table border=\"1\" class=\"dataframe\">\n",
       "  <thead>\n",
       "    <tr style=\"text-align: right;\">\n",
       "      <th></th>\n",
       "      <th>score</th>\n",
       "    </tr>\n",
       "    <tr>\n",
       "      <th>feature</th>\n",
       "      <th></th>\n",
       "    </tr>\n",
       "  </thead>\n",
       "  <tbody>\n",
       "    <tr>\n",
       "      <th>YCoord</th>\n",
       "      <td>0.231146</td>\n",
       "    </tr>\n",
       "    <tr>\n",
       "      <th>XCoord</th>\n",
       "      <td>0.224450</td>\n",
       "    </tr>\n",
       "    <tr>\n",
       "      <th>BldgArea</th>\n",
       "      <td>0.176364</td>\n",
       "    </tr>\n",
       "    <tr>\n",
       "      <th>ResArea</th>\n",
       "      <td>0.172805</td>\n",
       "    </tr>\n",
       "    <tr>\n",
       "      <th>LotArea</th>\n",
       "      <td>0.140695</td>\n",
       "    </tr>\n",
       "  </tbody>\n",
       "</table>\n",
       "</div>"
      ],
      "text/plain": [
       "             score\n",
       "feature           \n",
       "YCoord    0.231146\n",
       "XCoord    0.224450\n",
       "BldgArea  0.176364\n",
       "ResArea   0.172805\n",
       "LotArea   0.140695"
      ]
     },
     "metadata": {},
     "output_type": "display_data"
    }
   ],
   "source": [
    "# Create the score results data frame \n",
    "us_scores_df = pd.DataFrame({ 'feature' : FEATURE_NAMES,\n",
    "                              'score'   : selector.scores_})\n",
    "us_scores_df = us_scores_df.set_index('feature')\n",
    "us_scores_df.sort_values(by = 'score', ascending = False, inplace = True)\n",
    "display(us_scores_df.head())"
   ]
  },
  {
   "cell_type": "markdown",
   "metadata": {},
   "source": [
    "As one can see the top 5 scoring features are:"
   ]
  },
  {
   "cell_type": "code",
   "execution_count": 39,
   "metadata": {},
   "outputs": [
    {
     "data": {
      "text/plain": [
       "['YCoord', 'XCoord', 'BldgArea', 'ResArea', 'LotArea']"
      ]
     },
     "metadata": {},
     "output_type": "display_data"
    }
   ],
   "source": [
    "us_top_5 = us_scores_df.index[0:5].to_list()\n",
    "display(us_top_5)"
   ]
  },
  {
   "cell_type": "markdown",
   "metadata": {},
   "source": [
    " Let us also plot the score values:"
   ]
  },
  {
   "cell_type": "code",
   "execution_count": 40,
   "metadata": {},
   "outputs": [
    {
     "data": {
      "image/png": "[encoded data removed]",
      "text/plain": [
       "<Figure size 720x360 with 1 Axes>"
      ]
     },
     "metadata": {
      "needs_background": "light"
     },
     "output_type": "display_data"
    }
   ],
   "source": [
    "us_scores_df['score'].plot(kind='bar', figsize=(10,5))\n",
    "plt.title('Univariate scores for the house/lot features for predicting the complaint type')\n",
    "plt.ylabel('Score value')\n",
    "plt.xlabel('Feature name')\n",
    "plt.show()\n",
    "plt.close()"
   ]
  },
  {
   "cell_type": "markdown",
   "metadata": {},
   "source": [
    "## Feature Importance\n",
    "\n",
    "The feature importance of each feature of a dataset can be also obtained by using the feature importance property of a trained model. The higher the score more important or relevant is the feature towards your output variable."
   ]
  },
  {
   "cell_type": "code",
   "execution_count": 41,
   "metadata": {},
   "outputs": [
    {
     "data": {
      "text/plain": [
       "ExtraTreesClassifier(bootstrap=False, ccp_alpha=0.0, class_weight=None,\n",
       "                     criterion='gini', max_depth=None, max_features='auto',\n",
       "                     max_leaf_nodes=None, max_samples=None,\n",
       "                     min_impurity_decrease=0.0, min_impurity_split=None,\n",
       "                     min_samples_leaf=1, min_samples_split=2,\n",
       "                     min_weight_fraction_leaf=0.0, n_estimators=100,\n",
       "                     n_jobs=None, oob_score=False, random_state=None, verbose=0,\n",
       "                     warm_start=False)"
      ]
     },
     "execution_count": 41,
     "metadata": {},
     "output_type": "execute_result"
    }
   ],
   "source": [
    "# Create the Classifier\n",
    "etc_model = ExtraTreesClassifier()\n",
    "# Train on the train set\n",
    "etc_model.fit(X_train, Y_train)"
   ]
  },
  {
   "cell_type": "code",
   "execution_count": 42,
   "metadata": {},
   "outputs": [
    {
     "data": {
      "text/html": [
       "<div>\n",
       "<style scoped>\n",
       "    .dataframe tbody tr th:only-of-type {\n",
       "        vertical-align: middle;\n",
       "    }\n",
       "\n",
       "    .dataframe tbody tr th {\n",
       "        vertical-align: top;\n",
       "    }\n",
       "\n",
       "    .dataframe thead th {\n",
       "        text-align: right;\n",
       "    }\n",
       "</style>\n",
       "<table border=\"1\" class=\"dataframe\">\n",
       "  <thead>\n",
       "    <tr style=\"text-align: right;\">\n",
       "      <th></th>\n",
       "      <th>score</th>\n",
       "    </tr>\n",
       "    <tr>\n",
       "      <th>feature</th>\n",
       "      <th></th>\n",
       "    </tr>\n",
       "  </thead>\n",
       "  <tbody>\n",
       "    <tr>\n",
       "      <th>YCoord</th>\n",
       "      <td>0.129168</td>\n",
       "    </tr>\n",
       "    <tr>\n",
       "      <th>XCoord</th>\n",
       "      <td>0.120903</td>\n",
       "    </tr>\n",
       "    <tr>\n",
       "      <th>BuiltFAR</th>\n",
       "      <td>0.085060</td>\n",
       "    </tr>\n",
       "    <tr>\n",
       "      <th>ResArea</th>\n",
       "      <td>0.083337</td>\n",
       "    </tr>\n",
       "    <tr>\n",
       "      <th>BldgArea</th>\n",
       "      <td>0.081767</td>\n",
       "    </tr>\n",
       "  </tbody>\n",
       "</table>\n",
       "</div>"
      ],
      "text/plain": [
       "             score\n",
       "feature           \n",
       "YCoord    0.129168\n",
       "XCoord    0.120903\n",
       "BuiltFAR  0.085060\n",
       "ResArea   0.083337\n",
       "BldgArea  0.081767"
      ]
     },
     "metadata": {},
     "output_type": "display_data"
    }
   ],
   "source": [
    "# Create the score results data frame \n",
    "etc_scores_df = pd.DataFrame({ 'feature' : FEATURE_NAMES,\n",
    "                               'score'   : etc_model.feature_importances_})\n",
    "etc_scores_df = etc_scores_df.set_index('feature')\n",
    "etc_scores_df.sort_values(by = 'score', ascending = False, inplace = True)\n",
    "display(etc_scores_df.head())"
   ]
  },
  {
   "cell_type": "markdown",
   "metadata": {},
   "source": [
    "As one can see the top 5 ExtraTreesClassifier scoring features are:"
   ]
  },
  {
   "cell_type": "code",
   "execution_count": 43,
   "metadata": {},
   "outputs": [
    {
     "data": {
      "text/plain": [
       "['YCoord', 'XCoord', 'BuiltFAR', 'ResArea', 'BldgArea']"
      ]
     },
     "metadata": {},
     "output_type": "display_data"
    }
   ],
   "source": [
    "etc_top_5 = etc_scores_df.index[0:5].to_list()\n",
    "display(etc_top_5)"
   ]
  },
  {
   "cell_type": "markdown",
   "metadata": {},
   "source": [
    "Let us also plot the score values:"
   ]
  },
  {
   "cell_type": "code",
   "execution_count": 44,
   "metadata": {},
   "outputs": [
    {
     "data": {
      "image/png": "[encoded data removed]",
      "text/plain": [
       "<Figure size 720x360 with 1 Axes>"
      ]
     },
     "metadata": {
      "needs_background": "light"
     },
     "output_type": "display_data"
    }
   ],
   "source": [
    "etc_scores_df['score'].plot(kind='bar', figsize=(10,5))\n",
    "plt.title('ExtraTreesClassifier feature importance scores for the house/lot features for predicting the complaint type')\n",
    "plt.ylabel('Score value')\n",
    "plt.xlabel('Feature name')\n",
    "plt.show()\n",
    "plt.close()"
   ]
  },
  {
   "cell_type": "markdown",
   "metadata": {},
   "source": [
    "Notice that the top 5 scoring features according to the Univariate selection and Extra Trees Classifier are very different:"
   ]
  },
  {
   "cell_type": "code",
   "execution_count": 45,
   "metadata": {},
   "outputs": [
    {
     "name": "stdout",
     "output_type": "stream",
     "text": [
      "Univariate selection ['YCoord', 'XCoord', 'BldgArea', 'ResArea', 'LotArea']\n",
      "Extra Trees Classifier ['YCoord', 'XCoord', 'BuiltFAR', 'ResArea', 'BldgArea']\n",
      "The common important features are:  {'YCoord', 'ResArea', 'XCoord', 'BldgArea'}\n"
     ]
    }
   ],
   "source": [
    "print('Univariate selection', us_top_5)\n",
    "print('Extra Trees Classifier', etc_top_5)\n",
    "print('The common important features are: ', set(us_top_5) & set (etc_top_5))"
   ]
  },
  {
   "cell_type": "markdown",
   "metadata": {},
   "source": [
    "Let us check the feature importance according to a DecisionTreeClassifier:"
   ]
  },
  {
   "cell_type": "code",
   "execution_count": 46,
   "metadata": {},
   "outputs": [
    {
     "data": {
      "text/plain": [
       "DecisionTreeClassifier(ccp_alpha=0.0, class_weight=None, criterion='entropy',\n",
       "                       max_depth=4, max_features=None, max_leaf_nodes=None,\n",
       "                       min_impurity_decrease=0.0, min_impurity_split=None,\n",
       "                       min_samples_leaf=1, min_samples_split=2,\n",
       "                       min_weight_fraction_leaf=0.0, presort='deprecated',\n",
       "                       random_state=None, splitter='best')"
      ]
     },
     "execution_count": 46,
     "metadata": {},
     "output_type": "execute_result"
    }
   ],
   "source": [
    "# Create, Train and Evaluate the Decision Tree Classifier\n",
    "dtc_model = DecisionTreeClassifier(criterion = 'entropy' , max_depth = 4)\n",
    "# Train on the train set\n",
    "dtc_model.fit(X_train, Y_train)"
   ]
  },
  {
   "cell_type": "code",
   "execution_count": 47,
   "metadata": {},
   "outputs": [
    {
     "data": {
      "text/html": [
       "<div>\n",
       "<style scoped>\n",
       "    .dataframe tbody tr th:only-of-type {\n",
       "        vertical-align: middle;\n",
       "    }\n",
       "\n",
       "    .dataframe tbody tr th {\n",
       "        vertical-align: top;\n",
       "    }\n",
       "\n",
       "    .dataframe thead th {\n",
       "        text-align: right;\n",
       "    }\n",
       "</style>\n",
       "<table border=\"1\" class=\"dataframe\">\n",
       "  <thead>\n",
       "    <tr style=\"text-align: right;\">\n",
       "      <th></th>\n",
       "      <th>score</th>\n",
       "    </tr>\n",
       "    <tr>\n",
       "      <th>feature</th>\n",
       "      <th></th>\n",
       "    </tr>\n",
       "  </thead>\n",
       "  <tbody>\n",
       "    <tr>\n",
       "      <th>YCoord</th>\n",
       "      <td>0.129168</td>\n",
       "    </tr>\n",
       "    <tr>\n",
       "      <th>XCoord</th>\n",
       "      <td>0.120903</td>\n",
       "    </tr>\n",
       "    <tr>\n",
       "      <th>BuiltFAR</th>\n",
       "      <td>0.085060</td>\n",
       "    </tr>\n",
       "    <tr>\n",
       "      <th>ResArea</th>\n",
       "      <td>0.083337</td>\n",
       "    </tr>\n",
       "    <tr>\n",
       "      <th>BldgArea</th>\n",
       "      <td>0.081767</td>\n",
       "    </tr>\n",
       "  </tbody>\n",
       "</table>\n",
       "</div>"
      ],
      "text/plain": [
       "             score\n",
       "feature           \n",
       "YCoord    0.129168\n",
       "XCoord    0.120903\n",
       "BuiltFAR  0.085060\n",
       "ResArea   0.083337\n",
       "BldgArea  0.081767"
      ]
     },
     "metadata": {},
     "output_type": "display_data"
    }
   ],
   "source": [
    "# Create the score results data frame \n",
    "dtc_scores_df = pd.DataFrame({ 'feature' : FEATURE_NAMES,\n",
    "                               'score'   : etc_model.feature_importances_})\n",
    "dtc_scores_df = dtc_scores_df.set_index('feature')\n",
    "dtc_scores_df.sort_values(by = 'score', ascending = False, inplace = True)\n",
    "display(dtc_scores_df.head())"
   ]
  },
  {
   "cell_type": "markdown",
   "metadata": {},
   "source": [
    "As one can see the top 5 DecisionTreeClassifier scoring features are:"
   ]
  },
  {
   "cell_type": "code",
   "execution_count": 48,
   "metadata": {},
   "outputs": [
    {
     "data": {
      "text/plain": [
       "['YCoord', 'XCoord', 'BuiltFAR', 'ResArea', 'BldgArea']"
      ]
     },
     "metadata": {},
     "output_type": "display_data"
    }
   ],
   "source": [
    "dtc_top_5 = dtc_scores_df.index[0:5].to_list()\n",
    "display(dtc_top_5)"
   ]
  },
  {
   "cell_type": "markdown",
   "metadata": {},
   "source": [
    "As one can see the features recommended by `ExtraTreesClassifier` and `DecisionTreeClassifier` fully agree:"
   ]
  },
  {
   "cell_type": "code",
   "execution_count": 49,
   "metadata": {},
   "outputs": [
    {
     "name": "stdout",
     "output_type": "stream",
     "text": [
      "The common important top 5 features are:  {'XCoord', 'BuiltFAR', 'ResArea', 'YCoord', 'BldgArea'}\n"
     ]
    }
   ],
   "source": [
    "print('The common important top 5 features are: ', set(dtc_top_5) & set (etc_top_5))"
   ]
  },
  {
   "cell_type": "markdown",
   "metadata": {},
   "source": [
    "## Correlation Matrix\n",
    "\n",
    "Correlation states how the features are related to each other and/or the target variable. \n",
    "\n",
    "Let us now build the correlation matrix and visualize it first:"
   ]
  },
  {
   "cell_type": "code",
   "execution_count": 50,
   "metadata": {},
   "outputs": [
    {
     "data": {
      "image/png": "[encoded data removed]",
      "text/plain": [
       "<Figure size 1080x1080 with 2 Axes>"
      ]
     },
     "metadata": {
      "needs_background": "light"
     },
     "output_type": "display_data"
    }
   ],
   "source": [
    "dhp_bx_corr_df = dhp_bx_df.corr()\n",
    "\n",
    "plt.figure(figsize=(15,15))\n",
    "plt.title('Correlations between the house features and the complaint type')\n",
    "ax = sns.heatmap(\n",
    "    dhp_bx_corr_df, \n",
    "    vmin=-1, vmax=1, center=0,\n",
    "    cmap=sns.diverging_palette(20, 220, n=200),\n",
    "    square=True\n",
    ")\n",
    "\n",
    "ax.set_xticklabels(\n",
    "    ax.get_xticklabels(),\n",
    "    rotation=45,\n",
    "    horizontalalignment='right'\n",
    ");"
   ]
  },
  {
   "cell_type": "markdown",
   "metadata": {},
   "source": [
    "As one can see there is a number of strongly positively and negatively correlated features. This means that if we are to build a prediction model for the complain type the number of features to be used is likely to be significantly reducible. However, as indicated by the *'TypeCode'* columns and rows most of the features are very weakly correlated with the target variable:"
   ]
  },
  {
   "cell_type": "code",
   "execution_count": 51,
   "metadata": {},
   "outputs": [
    {
     "data": {
      "text/plain": [
       "BldgArea      0.002435\n",
       "BldgDepth     0.000938\n",
       "BuiltFAR      0.003235\n",
       "CommFAR       0.001087\n",
       "FacilFAR      0.008610\n",
       "LotArea       0.001998\n",
       "LotDepth     -0.004443\n",
       "NumBldgs     -0.003392\n",
       "NumFloors     0.005772\n",
       "OfficeArea   -0.000998\n",
       "ResArea       0.002531\n",
       "ResidFAR      0.008865\n",
       "RetailArea   -0.000271\n",
       "YearBuilt    -0.004840\n",
       "YearAlter1    0.001095\n",
       "YCoord       -0.009298\n",
       "XCoord       -0.008053\n",
       "TypeCode      1.000000\n",
       "Name: TypeCode, dtype: float64"
      ]
     },
     "metadata": {},
     "output_type": "display_data"
    }
   ],
   "source": [
    "display(dhp_bx_corr_df['TypeCode'])"
   ]
  },
  {
   "cell_type": "markdown",
   "metadata": {},
   "source": [
    "Nether the less let us compute the absolute correlation values for features and the *'TypeCode'*:"
   ]
  },
  {
   "cell_type": "code",
   "execution_count": 53,
   "metadata": {},
   "outputs": [
    {
     "data": {
      "text/html": [
       "<div>\n",
       "<style scoped>\n",
       "    .dataframe tbody tr th:only-of-type {\n",
       "        vertical-align: middle;\n",
       "    }\n",
       "\n",
       "    .dataframe tbody tr th {\n",
       "        vertical-align: top;\n",
       "    }\n",
       "\n",
       "    .dataframe thead th {\n",
       "        text-align: right;\n",
       "    }\n",
       "</style>\n",
       "<table border=\"1\" class=\"dataframe\">\n",
       "  <thead>\n",
       "    <tr style=\"text-align: right;\">\n",
       "      <th></th>\n",
       "      <th>abs_corr</th>\n",
       "    </tr>\n",
       "  </thead>\n",
       "  <tbody>\n",
       "    <tr>\n",
       "      <th>YCoord</th>\n",
       "      <td>0.009298</td>\n",
       "    </tr>\n",
       "    <tr>\n",
       "      <th>ResidFAR</th>\n",
       "      <td>0.008865</td>\n",
       "    </tr>\n",
       "    <tr>\n",
       "      <th>FacilFAR</th>\n",
       "      <td>0.008610</td>\n",
       "    </tr>\n",
       "    <tr>\n",
       "      <th>XCoord</th>\n",
       "      <td>0.008053</td>\n",
       "    </tr>\n",
       "    <tr>\n",
       "      <th>NumFloors</th>\n",
       "      <td>0.005772</td>\n",
       "    </tr>\n",
       "  </tbody>\n",
       "</table>\n",
       "</div>"
      ],
      "text/plain": [
       "           abs_corr\n",
       "YCoord     0.009298\n",
       "ResidFAR   0.008865\n",
       "FacilFAR   0.008610\n",
       "XCoord     0.008053\n",
       "NumFloors  0.005772"
      ]
     },
     "execution_count": 53,
     "metadata": {},
     "output_type": "execute_result"
    }
   ],
   "source": [
    "NUM_COLS = dhp_bx_corr_df.shape[1]\n",
    "corr_scores_df = dhp_bx_corr_df['TypeCode'].abs().sort_values(ascending=False)[1:NUM_COLS].to_frame()\n",
    "corr_scores_df.rename({'TypeCode' : 'abs_corr'}, axis = 1, inplace = True)\n",
    "corr_scores_df.head()"
   ]
  },
  {
   "cell_type": "markdown",
   "metadata": {},
   "source": [
    "The top 5 correlated features with the target variable are:"
   ]
  },
  {
   "cell_type": "code",
   "execution_count": 54,
   "metadata": {},
   "outputs": [
    {
     "data": {
      "text/plain": [
       "['YCoord', 'ResidFAR', 'FacilFAR', 'XCoord', 'NumFloors']"
      ]
     },
     "execution_count": 54,
     "metadata": {},
     "output_type": "execute_result"
    }
   ],
   "source": [
    "corr_top_5 = corr_scores_df.index[0:5].to_list()\n",
    "corr_top_5"
   ]
  },
  {
   "cell_type": "markdown",
   "metadata": {},
   "source": [
    "## Analysis conclusions\n",
    "\n",
    "Above we have performed three different types of feature importance analysis:\n",
    "\n",
    "1. Univariate Selection, with:\n",
    "   1. Mutual Information Classifier\n",
    "2. Feature Importance, with:\n",
    "   1. Extra Trees Classifier\n",
    "   2. Decision Tree Classifier\n",
    "3. Correlation Matrix\n",
    "\n",
    "First let us summarize the top 5 significant features found by each of the approach:"
   ]
  },
  {
   "cell_type": "code",
   "execution_count": 55,
   "metadata": {},
   "outputs": [
    {
     "data": {
      "text/html": [
       "<div>\n",
       "<style scoped>\n",
       "    .dataframe tbody tr th:only-of-type {\n",
       "        vertical-align: middle;\n",
       "    }\n",
       "\n",
       "    .dataframe tbody tr th {\n",
       "        vertical-align: top;\n",
       "    }\n",
       "\n",
       "    .dataframe thead th {\n",
       "        text-align: right;\n",
       "    }\n",
       "</style>\n",
       "<table border=\"1\" class=\"dataframe\">\n",
       "  <thead>\n",
       "    <tr style=\"text-align: right;\">\n",
       "      <th></th>\n",
       "      <th>Univariate Selection</th>\n",
       "      <th>Feature Importance</th>\n",
       "      <th>Correlation Matrix</th>\n",
       "    </tr>\n",
       "    <tr>\n",
       "      <th>Priority</th>\n",
       "      <th></th>\n",
       "      <th></th>\n",
       "      <th></th>\n",
       "    </tr>\n",
       "  </thead>\n",
       "  <tbody>\n",
       "    <tr>\n",
       "      <th>0</th>\n",
       "      <td>YCoord</td>\n",
       "      <td>YCoord</td>\n",
       "      <td>YCoord</td>\n",
       "    </tr>\n",
       "    <tr>\n",
       "      <th>1</th>\n",
       "      <td>XCoord</td>\n",
       "      <td>XCoord</td>\n",
       "      <td>ResidFAR</td>\n",
       "    </tr>\n",
       "    <tr>\n",
       "      <th>2</th>\n",
       "      <td>BldgArea</td>\n",
       "      <td>BuiltFAR</td>\n",
       "      <td>FacilFAR</td>\n",
       "    </tr>\n",
       "    <tr>\n",
       "      <th>3</th>\n",
       "      <td>ResArea</td>\n",
       "      <td>ResArea</td>\n",
       "      <td>XCoord</td>\n",
       "    </tr>\n",
       "    <tr>\n",
       "      <th>4</th>\n",
       "      <td>LotArea</td>\n",
       "      <td>BldgArea</td>\n",
       "      <td>NumFloors</td>\n",
       "    </tr>\n",
       "  </tbody>\n",
       "</table>\n",
       "</div>"
      ],
      "text/plain": [
       "         Univariate Selection Feature Importance Correlation Matrix\n",
       "Priority                                                           \n",
       "0                      YCoord             YCoord             YCoord\n",
       "1                      XCoord             XCoord           ResidFAR\n",
       "2                    BldgArea           BuiltFAR           FacilFAR\n",
       "3                     ResArea            ResArea             XCoord\n",
       "4                     LotArea           BldgArea          NumFloors"
      ]
     },
     "metadata": {},
     "output_type": "display_data"
    }
   ],
   "source": [
    "fi_res_df = pd.DataFrame({'Univariate Selection' : us_top_5, \n",
    "                          'Feature Importance'   : etc_top_5, \n",
    "                          'Correlation Matrix'   : corr_top_5})\n",
    "fi_res_df.index.name = 'Priority'\n",
    "display(fi_res_df)"
   ]
  },
  {
   "cell_type": "code",
   "execution_count": null,
   "metadata": {},
   "outputs": [],
   "source": []
  },
  {
   "cell_type": "markdown",
   "metadata": {},
   "source": [
    "# Conclusions"
   ]
  },
  {
   "cell_type": "code",
   "execution_count": null,
   "metadata": {},
   "outputs": [],
   "source": []
  }
 ],
 "metadata": {
  "kernelspec": {
   "display_name": "Python 3",
   "language": "python",
   "name": "python3"
  },
  "language_info": {
   "codemirror_mode": {
    "name": "ipython",
    "version": 3
   },
   "file_extension": ".py",
   "mimetype": "text/x-python",
   "name": "python",
   "nbconvert_exporter": "python",
   "pygments_lexer": "ipython3",
   "version": "3.8.1"
  }
 },
 "nbformat": 4,
 "nbformat_minor": 4
}
