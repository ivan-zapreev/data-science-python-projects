{
 "cells": [
  {
   "cell_type": "markdown",
   "metadata": {},
   "source": [
    "# Ex. 2: What Areas Should the Agency Focus On?\n",
    "\n",
    "What Areas Should the Agency Focus On?\n",
    "\n",
    "The goal of this exercise is to do explore the data to find the answer to the Question 2 problem statement:\n",
    "\n",
    "> Should the Department of Housing Preservation and Development of New York City focus on any particular set of boroughs, ZIP codes, or street (where the complaints are severe) for the specific type of complaints you identified in response to Question 1?\n",
    "\n",
    "In this exercise, we will use 311 Dataset to determine whether to focus on any particular borough, ZIP code, or street (where the complaints are severe) for the specific Complaint Type we decided to focus at the end of the last exercise.\n",
    "\n",
    "## Load and pre-process the data:\n",
    "First we shall import the required packages, and load the data fram from the CSV file.\n",
    "\n",
    "Please note that the code below allows to both: load the csv file from the IBM cloud storage and a local csv file. The latter is done for convenience in case one is to re-run the script offline."
   ]
  },
  {
   "cell_type": "code",
   "execution_count": 1,
   "metadata": {},
   "outputs": [],
   "source": [
    "import os\n",
    "import pandas as pd\n",
    "import numpy as np\n",
    "import matplotlib.pyplot as plt\n",
    "\n",
    "# Read the CSV file\n",
    "def load_df(file_name):\n",
    "    df = pd.read_csv('data' + os.path.sep + file_name + '.csv', parse_dates = True, low_memory=False)\n",
    "    return df\n",
    "\n",
    "# Load the erm2_nwe9 data set\n",
    "dhp_df = load_df('erm2_nwe9')"
   ]
  },
  {
   "cell_type": "markdown",
   "metadata": {},
   "source": [
    "The data pre-processing part is simple and consists of:\n",
    "\n",
    "1. Selecting the 'HEAT/HOT WATER' complaints, as identified to be the top complaints in **Ex. 1**:"
   ]
  },
  {
   "cell_type": "code",
   "execution_count": 2,
   "metadata": {},
   "outputs": [],
   "source": [
    "# Select the HEAT/HOT WATER complaints\n",
    "dhp_df = dhp_df[dhp_df['complaint_type'] == 'HEAT/HOT WATER']"
   ]
  },
  {
   "cell_type": "markdown",
   "metadata": {},
   "source": [
    "2. Converting the *'created_date'* column into date type and only selecting the complaints up until 31st Dec. 2019:"
   ]
  },
  {
   "cell_type": "code",
   "execution_count": 3,
   "metadata": {},
   "outputs": [],
   "source": [
    "# Convert the date string to the date type\n",
    "dhp_df['created_date'] = dhp_df['created_date'].astype('datetime64[ns]')\n",
    "\n",
    "# Since it is 2020 already and the most recent complaints in\n",
    "# the data set are of 2020, we shall select the list of complains \n",
    "# created before the 31st Dec 2019 as follows:\n",
    "max_date = np.datetime64('2019-12-31')\n",
    "dhp_df = dhp_df[dhp_df['created_date'] <= max_date]"
   ]
  },
  {
   "cell_type": "markdown",
   "metadata": {},
   "source": [
    "3. At last we shall drop the columns that will not be used in the analysis:"
   ]
  },
  {
   "cell_type": "code",
   "execution_count": 4,
   "metadata": {},
   "outputs": [],
   "source": [
    "# Drop the colums that will not be needed in this analysis\n",
    "dhp_df.drop(['unique_key', 'complaint_type', 'incident_address',\n",
    "             'address_type', 'city', 'resolution_description', \n",
    "             'location_type', 'closed_date', 'status'], axis = 1, inplace = True)"
   ]
  },
  {
   "cell_type": "markdown",
   "metadata": {},
   "source": [
    "The resulting data frame looks as follows:"
   ]
  },
  {
   "cell_type": "code",
   "execution_count": 5,
   "metadata": {},
   "outputs": [
    {
     "data": {
      "text/html": [
       "<div>\n",
       "<style scoped>\n",
       "    .dataframe tbody tr th:only-of-type {\n",
       "        vertical-align: middle;\n",
       "    }\n",
       "\n",
       "    .dataframe tbody tr th {\n",
       "        vertical-align: top;\n",
       "    }\n",
       "\n",
       "    .dataframe thead th {\n",
       "        text-align: right;\n",
       "    }\n",
       "</style>\n",
       "<table border=\"1\" class=\"dataframe\">\n",
       "  <thead>\n",
       "    <tr style=\"text-align: right;\">\n",
       "      <th></th>\n",
       "      <th>created_date</th>\n",
       "      <th>incident_zip</th>\n",
       "      <th>street_name</th>\n",
       "      <th>borough</th>\n",
       "      <th>latitude</th>\n",
       "      <th>longitude</th>\n",
       "    </tr>\n",
       "  </thead>\n",
       "  <tbody>\n",
       "    <tr>\n",
       "      <th>10130</th>\n",
       "      <td>2019-12-30 15:34:02</td>\n",
       "      <td>11221.0</td>\n",
       "      <td>JEFFERSON AVENUE</td>\n",
       "      <td>BROOKLYN</td>\n",
       "      <td>40.691831</td>\n",
       "      <td>-73.912753</td>\n",
       "    </tr>\n",
       "    <tr>\n",
       "      <th>10131</th>\n",
       "      <td>2019-12-30 14:38:48</td>\n",
       "      <td>10032.0</td>\n",
       "      <td>WEST  157 STREET</td>\n",
       "      <td>MANHATTAN</td>\n",
       "      <td>40.834366</td>\n",
       "      <td>-73.945599</td>\n",
       "    </tr>\n",
       "    <tr>\n",
       "      <th>10135</th>\n",
       "      <td>2019-12-30 21:52:11</td>\n",
       "      <td>10016.0</td>\n",
       "      <td>EAST   27 STREET</td>\n",
       "      <td>MANHATTAN</td>\n",
       "      <td>40.741938</td>\n",
       "      <td>-73.982678</td>\n",
       "    </tr>\n",
       "    <tr>\n",
       "      <th>10136</th>\n",
       "      <td>2019-12-30 14:44:12</td>\n",
       "      <td>10460.0</td>\n",
       "      <td>ELSMERE PLACE</td>\n",
       "      <td>BRONX</td>\n",
       "      <td>40.842379</td>\n",
       "      <td>-73.886743</td>\n",
       "    </tr>\n",
       "    <tr>\n",
       "      <th>10141</th>\n",
       "      <td>2019-12-30 22:41:22</td>\n",
       "      <td>11218.0</td>\n",
       "      <td>MC DONALD AVENUE</td>\n",
       "      <td>BROOKLYN</td>\n",
       "      <td>40.640710</td>\n",
       "      <td>-73.979062</td>\n",
       "    </tr>\n",
       "  </tbody>\n",
       "</table>\n",
       "</div>"
      ],
      "text/plain": [
       "             created_date  incident_zip       street_name    borough  \\\n",
       "10130 2019-12-30 15:34:02       11221.0  JEFFERSON AVENUE   BROOKLYN   \n",
       "10131 2019-12-30 14:38:48       10032.0  WEST  157 STREET  MANHATTAN   \n",
       "10135 2019-12-30 21:52:11       10016.0  EAST   27 STREET  MANHATTAN   \n",
       "10136 2019-12-30 14:44:12       10460.0     ELSMERE PLACE      BRONX   \n",
       "10141 2019-12-30 22:41:22       11218.0  MC DONALD AVENUE   BROOKLYN   \n",
       "\n",
       "        latitude  longitude  \n",
       "10130  40.691831 -73.912753  \n",
       "10131  40.834366 -73.945599  \n",
       "10135  40.741938 -73.982678  \n",
       "10136  40.842379 -73.886743  \n",
       "10141  40.640710 -73.979062  "
      ]
     },
     "metadata": {},
     "output_type": "display_data"
    }
   ],
   "source": [
    "# The resulting initial data frame to work with is:\n",
    "display(dhp_df.head())"
   ]
  },
  {
   "cell_type": "markdown",
   "metadata": {},
   "source": [
    "# Analysis for boroughs\n",
    "\n",
    "In this section we will analyze the number of 'HEAT/HOT WATER' complaints per boroughs per year in order to see which boroughs need more attention.\n",
    "\n",
    "Note that, we will not need the *'created_date'* column but we shall rather convert it into the year of the complaint. Then we can analyze the complaints per year for different boroughs."
   ]
  },
  {
   "cell_type": "code",
   "execution_count": 6,
   "metadata": {},
   "outputs": [
    {
     "data": {
      "text/html": [
       "<div>\n",
       "<style scoped>\n",
       "    .dataframe tbody tr th:only-of-type {\n",
       "        vertical-align: middle;\n",
       "    }\n",
       "\n",
       "    .dataframe tbody tr th {\n",
       "        vertical-align: top;\n",
       "    }\n",
       "\n",
       "    .dataframe thead th {\n",
       "        text-align: right;\n",
       "    }\n",
       "</style>\n",
       "<table border=\"1\" class=\"dataframe\">\n",
       "  <thead>\n",
       "    <tr style=\"text-align: right;\">\n",
       "      <th></th>\n",
       "      <th>incident_zip</th>\n",
       "      <th>street_name</th>\n",
       "      <th>borough</th>\n",
       "      <th>latitude</th>\n",
       "      <th>longitude</th>\n",
       "      <th>year</th>\n",
       "    </tr>\n",
       "  </thead>\n",
       "  <tbody>\n",
       "    <tr>\n",
       "      <th>10130</th>\n",
       "      <td>11221.0</td>\n",
       "      <td>JEFFERSON AVENUE</td>\n",
       "      <td>BROOKLYN</td>\n",
       "      <td>40.691831</td>\n",
       "      <td>-73.912753</td>\n",
       "      <td>2019</td>\n",
       "    </tr>\n",
       "    <tr>\n",
       "      <th>10131</th>\n",
       "      <td>10032.0</td>\n",
       "      <td>WEST  157 STREET</td>\n",
       "      <td>MANHATTAN</td>\n",
       "      <td>40.834366</td>\n",
       "      <td>-73.945599</td>\n",
       "      <td>2019</td>\n",
       "    </tr>\n",
       "    <tr>\n",
       "      <th>10135</th>\n",
       "      <td>10016.0</td>\n",
       "      <td>EAST   27 STREET</td>\n",
       "      <td>MANHATTAN</td>\n",
       "      <td>40.741938</td>\n",
       "      <td>-73.982678</td>\n",
       "      <td>2019</td>\n",
       "    </tr>\n",
       "    <tr>\n",
       "      <th>10136</th>\n",
       "      <td>10460.0</td>\n",
       "      <td>ELSMERE PLACE</td>\n",
       "      <td>BRONX</td>\n",
       "      <td>40.842379</td>\n",
       "      <td>-73.886743</td>\n",
       "      <td>2019</td>\n",
       "    </tr>\n",
       "    <tr>\n",
       "      <th>10141</th>\n",
       "      <td>11218.0</td>\n",
       "      <td>MC DONALD AVENUE</td>\n",
       "      <td>BROOKLYN</td>\n",
       "      <td>40.640710</td>\n",
       "      <td>-73.979062</td>\n",
       "      <td>2019</td>\n",
       "    </tr>\n",
       "  </tbody>\n",
       "</table>\n",
       "</div>"
      ],
      "text/plain": [
       "       incident_zip       street_name    borough   latitude  longitude  year\n",
       "10130       11221.0  JEFFERSON AVENUE   BROOKLYN  40.691831 -73.912753  2019\n",
       "10131       10032.0  WEST  157 STREET  MANHATTAN  40.834366 -73.945599  2019\n",
       "10135       10016.0  EAST   27 STREET  MANHATTAN  40.741938 -73.982678  2019\n",
       "10136       10460.0     ELSMERE PLACE      BRONX  40.842379 -73.886743  2019\n",
       "10141       11218.0  MC DONALD AVENUE   BROOKLYN  40.640710 -73.979062  2019"
      ]
     },
     "metadata": {},
     "output_type": "display_data"
    }
   ],
   "source": [
    "# Let us extract the complaint year from the creation date\n",
    "dhp_df['year'] = dhp_df.loc[:,'created_date'].apply(lambda x: x.year)\n",
    "\n",
    "# The creation date is not needed any longer\n",
    "dhp_df.drop(['created_date'], axis = 1, inplace = True)\n",
    "\n",
    "# Show the resulting data frame structure\n",
    "display(dhp_df.head())"
   ]
  },
  {
   "cell_type": "markdown",
   "metadata": {},
   "source": [
    "Now it is time to compute the number of 'HEAT/HOT WATER' complaints per boroughs per year. In this process we will also convert the resulting data frame values into integers, for better readability, and remove a single entry with and unnamed ('Unspecified') borough. The latter will not change the analysis results as this is just one observation being removed."
   ]
  },
  {
   "cell_type": "code",
   "execution_count": 7,
   "metadata": {},
   "outputs": [
    {
     "data": {
      "text/html": [
       "<div>\n",
       "<style scoped>\n",
       "    .dataframe tbody tr th:only-of-type {\n",
       "        vertical-align: middle;\n",
       "    }\n",
       "\n",
       "    .dataframe tbody tr th {\n",
       "        vertical-align: top;\n",
       "    }\n",
       "\n",
       "    .dataframe thead th {\n",
       "        text-align: right;\n",
       "    }\n",
       "</style>\n",
       "<table border=\"1\" class=\"dataframe\">\n",
       "  <thead>\n",
       "    <tr style=\"text-align: right;\">\n",
       "      <th>year</th>\n",
       "      <th>2014</th>\n",
       "      <th>2015</th>\n",
       "      <th>2016</th>\n",
       "      <th>2017</th>\n",
       "      <th>2018</th>\n",
       "      <th>2019</th>\n",
       "    </tr>\n",
       "    <tr>\n",
       "      <th>borough</th>\n",
       "      <th></th>\n",
       "      <th></th>\n",
       "      <th></th>\n",
       "      <th></th>\n",
       "      <th></th>\n",
       "      <th></th>\n",
       "    </tr>\n",
       "  </thead>\n",
       "  <tbody>\n",
       "    <tr>\n",
       "      <th>BRONX</th>\n",
       "      <td>44925</td>\n",
       "      <td>71865</td>\n",
       "      <td>74201</td>\n",
       "      <td>68718</td>\n",
       "      <td>71454</td>\n",
       "      <td>70110</td>\n",
       "    </tr>\n",
       "    <tr>\n",
       "      <th>BROOKLYN</th>\n",
       "      <td>39306</td>\n",
       "      <td>67876</td>\n",
       "      <td>69572</td>\n",
       "      <td>66984</td>\n",
       "      <td>70271</td>\n",
       "      <td>63097</td>\n",
       "    </tr>\n",
       "    <tr>\n",
       "      <th>MANHATTAN</th>\n",
       "      <td>30270</td>\n",
       "      <td>54259</td>\n",
       "      <td>51771</td>\n",
       "      <td>46529</td>\n",
       "      <td>49985</td>\n",
       "      <td>47392</td>\n",
       "    </tr>\n",
       "    <tr>\n",
       "      <th>QUEENS</th>\n",
       "      <td>16955</td>\n",
       "      <td>29558</td>\n",
       "      <td>30218</td>\n",
       "      <td>29217</td>\n",
       "      <td>29831</td>\n",
       "      <td>28784</td>\n",
       "    </tr>\n",
       "    <tr>\n",
       "      <th>STATEN ISLAND</th>\n",
       "      <td>1311</td>\n",
       "      <td>2148</td>\n",
       "      <td>2197</td>\n",
       "      <td>2073</td>\n",
       "      <td>2293</td>\n",
       "      <td>2084</td>\n",
       "    </tr>\n",
       "  </tbody>\n",
       "</table>\n",
       "</div>"
      ],
      "text/plain": [
       "year            2014   2015   2016   2017   2018   2019\n",
       "borough                                                \n",
       "BRONX          44925  71865  74201  68718  71454  70110\n",
       "BROOKLYN       39306  67876  69572  66984  70271  63097\n",
       "MANHATTAN      30270  54259  51771  46529  49985  47392\n",
       "QUEENS         16955  29558  30218  29217  29831  28784\n",
       "STATEN ISLAND   1311   2148   2197   2073   2293   2084"
      ]
     },
     "execution_count": 7,
     "metadata": {},
     "output_type": "execute_result"
    }
   ],
   "source": [
    "# Per complaint year per borough and per status count the number of complaints\n",
    "ybc_cnt_df = dhp_df.groupby(by=['year', 'borough']).size().to_frame()\n",
    "ybc_cnt_df.columns = ['count']\n",
    "\n",
    "# Move the indexes into the columns\n",
    "ybc_cnt_df.reset_index(level = 0, inplace=True)\n",
    "ybc_cnt_df.reset_index(level = 0, inplace=True)\n",
    "\n",
    "# Get the number of HEAT/HOT WATER complaints per boroughs per year in a plottable form \n",
    "ybc_cnt_df = ybc_cnt_df.pivot(index='borough', columns='year', values='count')\n",
    "\n",
    "# Drop the Unspecified borough row as there is just one of such rows\n",
    "ybc_cnt_df.drop(['Unspecified'], axis = 0, inplace = True)\n",
    "\n",
    "# Convert the floating values into integers\n",
    "ybc_cnt_df = ybc_cnt_df.astype(int)\n",
    "ybc_cnt_df"
   ]
  },
  {
   "cell_type": "markdown",
   "metadata": {},
   "source": [
    "As already aparent from the table above, over the years, 'BRONX' needs most attention with respect to the number of 'HEAT/HOT WATER' complaints. The next closely following borough is BROOKLYN. Let us visualize the data to make it more vivid."
   ]
  },
  {
   "cell_type": "code",
   "execution_count": 8,
   "metadata": {},
   "outputs": [
    {
     "data": {
      "image/png": "[encoded data removed]",
      "text/plain": [
       "<Figure size 864x576 with 1 Axes>"
      ]
     },
     "metadata": {
      "needs_background": "light"
     },
     "output_type": "display_data"
    }
   ],
   "source": [
    "# Here we plot the number of HEAT/HOT WATER complaints per borough per year\n",
    "ybc_cnt_df.T.plot(kind = 'bar', figsize=(12,8))\n",
    "plt.title('The number of HEAT/HOT WATER complaints per borough per year')\n",
    "plt.ylabel('Number of HEAT/HOT WATER complaints')\n",
    "plt.xlabel('Year')\n",
    "plt.show()\n",
    "plt.close()"
   ]
  },
  {
   "cell_type": "markdown",
   "metadata": {},
   "source": [
    "The plot above shows that except for the first reported year (2014) the complaint numbers per borough do not have drastic drops or increases. Over the year 'BRONX' and then 'BROOKLYN' are leading in the number of 'HEAT/HOT WATER' complaints. This can be further shown by the average number of complaints per borough."
   ]
  },
  {
   "cell_type": "code",
   "execution_count": 9,
   "metadata": {},
   "outputs": [
    {
     "name": "stdout",
     "output_type": "stream",
     "text": [
      "The number of considered years is: 6\n"
     ]
    },
    {
     "data": {
      "text/html": [
       "<div>\n",
       "<style scoped>\n",
       "    .dataframe tbody tr th:only-of-type {\n",
       "        vertical-align: middle;\n",
       "    }\n",
       "\n",
       "    .dataframe tbody tr th {\n",
       "        vertical-align: top;\n",
       "    }\n",
       "\n",
       "    .dataframe thead th {\n",
       "        text-align: right;\n",
       "    }\n",
       "</style>\n",
       "<table border=\"1\" class=\"dataframe\">\n",
       "  <thead>\n",
       "    <tr style=\"text-align: right;\">\n",
       "      <th></th>\n",
       "      <th>avg_count</th>\n",
       "    </tr>\n",
       "    <tr>\n",
       "      <th>borough</th>\n",
       "      <th></th>\n",
       "    </tr>\n",
       "  </thead>\n",
       "  <tbody>\n",
       "    <tr>\n",
       "      <th>BRONX</th>\n",
       "      <td>66878</td>\n",
       "    </tr>\n",
       "    <tr>\n",
       "      <th>BROOKLYN</th>\n",
       "      <td>62851</td>\n",
       "    </tr>\n",
       "    <tr>\n",
       "      <th>MANHATTAN</th>\n",
       "      <td>46701</td>\n",
       "    </tr>\n",
       "    <tr>\n",
       "      <th>QUEENS</th>\n",
       "      <td>27427</td>\n",
       "    </tr>\n",
       "    <tr>\n",
       "      <th>STATEN ISLAND</th>\n",
       "      <td>2017</td>\n",
       "    </tr>\n",
       "  </tbody>\n",
       "</table>\n",
       "</div>"
      ],
      "text/plain": [
       "               avg_count\n",
       "borough                 \n",
       "BRONX              66878\n",
       "BROOKLYN           62851\n",
       "MANHATTAN          46701\n",
       "QUEENS             27427\n",
       "STATEN ISLAND       2017"
      ]
     },
     "metadata": {},
     "output_type": "display_data"
    }
   ],
   "source": [
    "# Compute the number of distinct years in the data set\n",
    "NUM_YEARS = len(dhp_df['year'].unique())\n",
    "print('The number of considered years is:', NUM_YEARS)\n",
    "\n",
    "# Group by the borough and count the total number of\n",
    "# HEAT/HOT WATER complaints. Then compute the average\n",
    "# number of complaints per year and finally sort in\n",
    "# descending order and convert to a data frame.\n",
    "borough_df = dhp_df.groupby('borough').size().apply(lambda x: x/NUM_YEARS).sort_values(axis=0, ascending = False).to_frame()\n",
    "\n",
    "# Assign the counts column name\n",
    "borough_df.columns = ['avg_count']\n",
    "\n",
    "# As before, drop the Unspecified row to make it clean.\n",
    "borough_df.drop(['Unspecified'], axis = 0, inplace = True)\n",
    "\n",
    "# Convert to integer to make numbers more readable\n",
    "borough_df = borough_df.astype(int)\n",
    "\n",
    "display(borough_df)"
   ]
  },
  {
   "cell_type": "markdown",
   "metadata": {},
   "source": [
    "## Conclusions (borough):\n",
    "\n",
    "As one can see from the analysis above 'BRONX' is the leader in the (per year and average) number of 'HEAT/HOT WATER' complaints. The next in line is 'BROOKLYN' which could be considered as a second problematic borough. \n",
    "\n",
    "Please note that, just counting the number of complaints may not be very relevant as the number of apartments per borough may significantly differ. However, the information on the number of appartments is not available for us at the moment.\n",
    "\n",
    "To conclude we could suggest to concentrate on the 2 top borough:"
   ]
  },
  {
   "cell_type": "code",
   "execution_count": 10,
   "metadata": {},
   "outputs": [
    {
     "name": "stdout",
     "output_type": "stream",
     "text": [
      "The top 2 problematic boroughs: ['BRONX', 'BROOKLYN']\n"
     ]
    }
   ],
   "source": [
    "print('The top 2 problematic boroughs:', borough_df.index[0:2].to_list())"
   ]
  },
  {
   "cell_type": "markdown",
   "metadata": {},
   "source": [
    "# Analysis for zip code areas\n",
    "\n",
    "In this section we will analyze the number of 'HEAT/HOT WATER' complaints per zip code in order to see which zip code areas need more attention.\n",
    "\n",
    "First, we shall take two approaches for analysing the data: \n",
    "1. We split the complaints per year and then select the top 15 problematic zip codes\n",
    "2. We average the number of complaints per zip code over all the years and then find the outliers with the most complaints.\n",
    "\n",
    "Then we shall combine the results of the two approaches to select the top 5 problematic zip codes. Also note that, for better analysis we should consider the number of complaints averaged by the number of apartments per zip code. This is not done as the appratment counts information is not availabale.\n",
    "\n",
    "## Yearly complaints per zip code\n",
    "\n",
    "To begin we shall order the complants by year and then by the zip code. Next, we re-shape the data frame to ease the data analysis and prepare for visualization. We shall also fill the NaN valued cell with zero values as the NaN values simply indicate the absense of complaints."
   ]
  },
  {
   "cell_type": "code",
   "execution_count": 11,
   "metadata": {},
   "outputs": [
    {
     "data": {
      "text/html": [
       "<div>\n",
       "<style scoped>\n",
       "    .dataframe tbody tr th:only-of-type {\n",
       "        vertical-align: middle;\n",
       "    }\n",
       "\n",
       "    .dataframe tbody tr th {\n",
       "        vertical-align: top;\n",
       "    }\n",
       "\n",
       "    .dataframe thead th {\n",
       "        text-align: right;\n",
       "    }\n",
       "</style>\n",
       "<table border=\"1\" class=\"dataframe\">\n",
       "  <thead>\n",
       "    <tr style=\"text-align: right;\">\n",
       "      <th>year</th>\n",
       "      <th>2014</th>\n",
       "      <th>2015</th>\n",
       "      <th>2016</th>\n",
       "      <th>2017</th>\n",
       "      <th>2018</th>\n",
       "      <th>2019</th>\n",
       "    </tr>\n",
       "    <tr>\n",
       "      <th>incident_zip</th>\n",
       "      <th></th>\n",
       "      <th></th>\n",
       "      <th></th>\n",
       "      <th></th>\n",
       "      <th></th>\n",
       "      <th></th>\n",
       "    </tr>\n",
       "  </thead>\n",
       "  <tbody>\n",
       "    <tr>\n",
       "      <th>10001.0</th>\n",
       "      <td>327.0</td>\n",
       "      <td>438.0</td>\n",
       "      <td>516.0</td>\n",
       "      <td>310.0</td>\n",
       "      <td>333.0</td>\n",
       "      <td>327.0</td>\n",
       "    </tr>\n",
       "    <tr>\n",
       "      <th>10002.0</th>\n",
       "      <td>797.0</td>\n",
       "      <td>1419.0</td>\n",
       "      <td>1382.0</td>\n",
       "      <td>1777.0</td>\n",
       "      <td>1846.0</td>\n",
       "      <td>1742.0</td>\n",
       "    </tr>\n",
       "    <tr>\n",
       "      <th>10003.0</th>\n",
       "      <td>716.0</td>\n",
       "      <td>1362.0</td>\n",
       "      <td>1334.0</td>\n",
       "      <td>1235.0</td>\n",
       "      <td>864.0</td>\n",
       "      <td>1040.0</td>\n",
       "    </tr>\n",
       "    <tr>\n",
       "      <th>10004.0</th>\n",
       "      <td>11.0</td>\n",
       "      <td>3.0</td>\n",
       "      <td>7.0</td>\n",
       "      <td>9.0</td>\n",
       "      <td>6.0</td>\n",
       "      <td>18.0</td>\n",
       "    </tr>\n",
       "    <tr>\n",
       "      <th>10005.0</th>\n",
       "      <td>1.0</td>\n",
       "      <td>7.0</td>\n",
       "      <td>8.0</td>\n",
       "      <td>13.0</td>\n",
       "      <td>10.0</td>\n",
       "      <td>22.0</td>\n",
       "    </tr>\n",
       "  </tbody>\n",
       "</table>\n",
       "</div>"
      ],
      "text/plain": [
       "year           2014    2015    2016    2017    2018    2019\n",
       "incident_zip                                               \n",
       "10001.0       327.0   438.0   516.0   310.0   333.0   327.0\n",
       "10002.0       797.0  1419.0  1382.0  1777.0  1846.0  1742.0\n",
       "10003.0       716.0  1362.0  1334.0  1235.0   864.0  1040.0\n",
       "10004.0        11.0     3.0     7.0     9.0     6.0    18.0\n",
       "10005.0         1.0     7.0     8.0    13.0    10.0    22.0"
      ]
     },
     "metadata": {},
     "output_type": "display_data"
    }
   ],
   "source": [
    "# Group by the borough and count the number of complaints\n",
    "yzc_cnt_df = dhp_df.groupby(by=['year', 'incident_zip']).size().to_frame()\n",
    "yzc_cnt_df.columns = ['count']\n",
    "\n",
    "# Move the indexes into the columns\n",
    "yzc_cnt_df.reset_index(level = 0, inplace=True)\n",
    "yzc_cnt_df.reset_index(level = 0, inplace=True)\n",
    "\n",
    "# Get the number of HEAT/HOT WATER complaints per boroughs per year in a plottable form \n",
    "yzc_cnt_df = yzc_cnt_df.pivot(index='incident_zip', columns='year', values='count')\n",
    "# Drop any rows with NaN values\n",
    "yzc_cnt_df = yzc_cnt_df.fillna(0)\n",
    "\n",
    "#Display the top\n",
    "display(yzc_cnt_df.head())"
   ]
  },
  {
   "cell_type": "markdown",
   "metadata": {},
   "source": [
    "Notice that, the number of distinct zip codes is large:"
   ]
  },
  {
   "cell_type": "code",
   "execution_count": 12,
   "metadata": {},
   "outputs": [
    {
     "name": "stdout",
     "output_type": "stream",
     "text": [
      "Number of distinct zip codes: 191\n"
     ]
    }
   ],
   "source": [
    "# There number of zip codes is rather large:\n",
    "print('Number of distinct zip codes:', len(yzc_cnt_df.index))"
   ]
  },
  {
   "cell_type": "markdown",
   "metadata": {},
   "source": [
    "Thus we shall select the top 15 problematic zip code areas only. The latter will be achieved by sorting the data frame above by the years, in the descending order of years. The latter will make the last year values more significant than the previous ones."
   ]
  },
  {
   "cell_type": "code",
   "execution_count": 13,
   "metadata": {},
   "outputs": [
    {
     "name": "stdout",
     "output_type": "stream",
     "text": [
      "Ordering by years in descending order:  [2019, 2018, 2017, 2016, 2015, 2014]\n"
     ]
    }
   ],
   "source": [
    "# Therefore we shall choose the 'top' problematic zip codes\n",
    "TOP_NUM = 15\n",
    "years = yzc_cnt_df.columns.sort_values(ascending = False).to_list()\n",
    "print('Ordering by years in descending order: ', years)\n",
    "yzc_cnt_df.sort_values(by = years, axis = 0, inplace = True, ascending=False)\n",
    "top_yzc_cnt_df = yzc_cnt_df.iloc[0:TOP_NUM]"
   ]
  },
  {
   "cell_type": "markdown",
   "metadata": {},
   "source": [
    "Once the ordering is done we can take the top 15 problematic zip code areas and plot them to visualize the trends:"
   ]
  },
  {
   "cell_type": "code",
   "execution_count": 14,
   "metadata": {},
   "outputs": [
    {
     "data": {
      "image/png": "[encoded data removed]",
      "text/plain": [
       "<Figure size 1440x720 with 1 Axes>"
      ]
     },
     "metadata": {
      "needs_background": "light"
     },
     "output_type": "display_data"
    }
   ],
   "source": [
    "# Here we plot the number of HEAT/HOT WATER complaints per year for the 'top' problematic zip codes\n",
    "top_yzc_cnt_df.T.plot(kind = 'line', figsize=(20,10))\n",
    "plt.title('The top ' + str(TOP_NUM) + ' zip codes with HEAT/HOT WATER complaints, per year')\n",
    "plt.ylabel('Number of HEAT/HOT WATER complaints')\n",
    "plt.xlabel('Year')\n",
    "plt.show()\n",
    "plt.close()"
   ]
  },
  {
   "cell_type": "markdown",
   "metadata": {},
   "source": [
    "As one can see from the plot above the zip codes may have different trends, for example consider the zip codes:\n",
    "\n",
    "* **11226.0** -- is the worst zip code in *2017*, *2018* and *2019* and the number of complaints shows a growing trend;\n",
    "* **10458.0** -- is the second worst in *2018* however the trend in the last four years is that the number of complaints declines;\n",
    "* **11373.0** -- was performing the best in the beginning but is constantly growing over the years in complaint numbers and now it holds the *9*'th place;\n",
    "\n",
    "The conclusion here is that the question on *'identifying the zip codes to concentrate on'* is not concrete enough. One can say that we shall concentrate on the zip codes with the trend of growing in the number of complaints. Another may say we shall concentrate on the zip codes with the top *'X'* number of complains in the last year.\n",
    "\n",
    "## Average numer of complaints per zip code\n",
    "\n",
    "Below we shall consider the average number of complaints per year and then concentrate on the outlier zip codes, i.e. the ones that have 'exceptionally many' complaints. We shall see this approach as a complementary one to the approach taken in the previous section. Later we will join the results of both approaches to be able to draw more objective conclusions.\n",
    "\n",
    "Let us begin by computing the average number of complaints per zip code for all the years. We will convert the resulting vaalues into integers for better readability. This will not influence the result as the decimal number of complaints do not have any meaning."
   ]
  },
  {
   "cell_type": "code",
   "execution_count": 15,
   "metadata": {},
   "outputs": [
    {
     "name": "stdout",
     "output_type": "stream",
     "text": [
      "The number of considered years is: 6\n"
     ]
    },
    {
     "data": {
      "text/html": [
       "<div>\n",
       "<style scoped>\n",
       "    .dataframe tbody tr th:only-of-type {\n",
       "        vertical-align: middle;\n",
       "    }\n",
       "\n",
       "    .dataframe tbody tr th {\n",
       "        vertical-align: top;\n",
       "    }\n",
       "\n",
       "    .dataframe thead th {\n",
       "        text-align: right;\n",
       "    }\n",
       "</style>\n",
       "<table border=\"1\" class=\"dataframe\">\n",
       "  <thead>\n",
       "    <tr style=\"text-align: right;\">\n",
       "      <th></th>\n",
       "      <th>avg_count</th>\n",
       "    </tr>\n",
       "    <tr>\n",
       "      <th>incident_zip</th>\n",
       "      <th></th>\n",
       "    </tr>\n",
       "  </thead>\n",
       "  <tbody>\n",
       "    <tr>\n",
       "      <th>11226.0</th>\n",
       "      <td>6824</td>\n",
       "    </tr>\n",
       "    <tr>\n",
       "      <th>10458.0</th>\n",
       "      <td>6349</td>\n",
       "    </tr>\n",
       "    <tr>\n",
       "      <th>10467.0</th>\n",
       "      <td>6218</td>\n",
       "    </tr>\n",
       "    <tr>\n",
       "      <th>10468.0</th>\n",
       "      <td>5618</td>\n",
       "    </tr>\n",
       "    <tr>\n",
       "      <th>10453.0</th>\n",
       "      <td>5596</td>\n",
       "    </tr>\n",
       "  </tbody>\n",
       "</table>\n",
       "</div>"
      ],
      "text/plain": [
       "              avg_count\n",
       "incident_zip           \n",
       "11226.0            6824\n",
       "10458.0            6349\n",
       "10467.0            6218\n",
       "10468.0            5618\n",
       "10453.0            5596"
      ]
     },
     "metadata": {},
     "output_type": "display_data"
    }
   ],
   "source": [
    "# Group by the zip code and count the number of complaints, the get the average number over the years\n",
    "print('The number of considered years is:', NUM_YEARS)\n",
    "zip_df = dhp_df.groupby('incident_zip').size().apply(lambda x: x/NUM_YEARS).sort_values(axis=0, ascending = False).to_frame()\n",
    "zip_df.columns = ['avg_count']\n",
    "\n",
    "# Convert to integer to better readability\n",
    "zip_df = zip_df.astype(int)\n",
    "display(zip_df.head())"
   ]
  },
  {
   "cell_type": "markdown",
   "metadata": {},
   "source": [
    "Please note that, the top 5 problematic zip codes in the listing above are the same as the top 5 zip codes in the plot presented in the previous section. This gives us confidence in the selected approach.\n",
    "\n",
    "Let us now use a boxplot to show the distribution of the average number of complaints per zip code area. This plot will also show outliers:"
   ]
  },
  {
   "cell_type": "code",
   "execution_count": 16,
   "metadata": {},
   "outputs": [
    {
     "data": {
      "image/png": "[encoded data removed]",
      "text/plain": [
       "<Figure size 360x576 with 1 Axes>"
      ]
     },
     "metadata": {
      "needs_background": "light"
     },
     "output_type": "display_data"
    }
   ],
   "source": [
    "# Let us now plot the number of complaints per zip code\n",
    "# as a box plot, to see if there any any outliers.\n",
    "zip_df.plot(kind = 'box', figsize = (5,8))\n",
    "plt.ylabel('Number of complaints')\n",
    "plt.xlabel('Zip codes')\n",
    "plt.title('The total number of HEAT/HOT WATER complaints per zip code')\n",
    "plt.show()\n",
    "plt.close()"
   ]
  },
  {
   "cell_type": "markdown",
   "metadata": {},
   "source": [
    "As one can see from the plot above there are a number of zip codes which can be considered  as outliers in a sense of the extreme numbers of 'HEAT/HOT WATER' complaints. Let us list them explicitly by computing the interquartile ranges and getting the outliers bound. The boxplot ourliers are computed based on the 1.5 interquartile range, see the computations below:"
   ]
  },
  {
   "cell_type": "code",
   "execution_count": 17,
   "metadata": {},
   "outputs": [
    {
     "name": "stdout",
     "output_type": "stream",
     "text": [
      "The avg_count outliers bound value is: 3354.25\n",
      "The zip codes that should get our attention are:\n",
      "The number of problematic zip codes to consider is: 15\n"
     ]
    },
    {
     "data": {
      "text/html": [
       "<div>\n",
       "<style scoped>\n",
       "    .dataframe tbody tr th:only-of-type {\n",
       "        vertical-align: middle;\n",
       "    }\n",
       "\n",
       "    .dataframe tbody tr th {\n",
       "        vertical-align: top;\n",
       "    }\n",
       "\n",
       "    .dataframe thead th {\n",
       "        text-align: right;\n",
       "    }\n",
       "</style>\n",
       "<table border=\"1\" class=\"dataframe\">\n",
       "  <thead>\n",
       "    <tr style=\"text-align: right;\">\n",
       "      <th></th>\n",
       "      <th>avg_count</th>\n",
       "    </tr>\n",
       "    <tr>\n",
       "      <th>incident_zip</th>\n",
       "      <th></th>\n",
       "    </tr>\n",
       "  </thead>\n",
       "  <tbody>\n",
       "    <tr>\n",
       "      <th>11226.0</th>\n",
       "      <td>6824</td>\n",
       "    </tr>\n",
       "    <tr>\n",
       "      <th>10458.0</th>\n",
       "      <td>6349</td>\n",
       "    </tr>\n",
       "    <tr>\n",
       "      <th>10467.0</th>\n",
       "      <td>6218</td>\n",
       "    </tr>\n",
       "    <tr>\n",
       "      <th>10468.0</th>\n",
       "      <td>5618</td>\n",
       "    </tr>\n",
       "    <tr>\n",
       "      <th>10453.0</th>\n",
       "      <td>5596</td>\n",
       "    </tr>\n",
       "    <tr>\n",
       "      <th>10452.0</th>\n",
       "      <td>4580</td>\n",
       "    </tr>\n",
       "    <tr>\n",
       "      <th>10457.0</th>\n",
       "      <td>4511</td>\n",
       "    </tr>\n",
       "    <tr>\n",
       "      <th>10031.0</th>\n",
       "      <td>4470</td>\n",
       "    </tr>\n",
       "    <tr>\n",
       "      <th>10456.0</th>\n",
       "      <td>4180</td>\n",
       "    </tr>\n",
       "    <tr>\n",
       "      <th>10462.0</th>\n",
       "      <td>4157</td>\n",
       "    </tr>\n",
       "    <tr>\n",
       "      <th>11225.0</th>\n",
       "      <td>4103</td>\n",
       "    </tr>\n",
       "    <tr>\n",
       "      <th>11213.0</th>\n",
       "      <td>3761</td>\n",
       "    </tr>\n",
       "    <tr>\n",
       "      <th>10040.0</th>\n",
       "      <td>3655</td>\n",
       "    </tr>\n",
       "    <tr>\n",
       "      <th>10472.0</th>\n",
       "      <td>3534</td>\n",
       "    </tr>\n",
       "    <tr>\n",
       "      <th>10032.0</th>\n",
       "      <td>3371</td>\n",
       "    </tr>\n",
       "  </tbody>\n",
       "</table>\n",
       "</div>"
      ],
      "text/plain": [
       "              avg_count\n",
       "incident_zip           \n",
       "11226.0            6824\n",
       "10458.0            6349\n",
       "10467.0            6218\n",
       "10468.0            5618\n",
       "10453.0            5596\n",
       "10452.0            4580\n",
       "10457.0            4511\n",
       "10031.0            4470\n",
       "10456.0            4180\n",
       "10462.0            4157\n",
       "11225.0            4103\n",
       "11213.0            3761\n",
       "10040.0            3655\n",
       "10472.0            3534\n",
       "10032.0            3371"
      ]
     },
     "metadata": {},
     "output_type": "display_data"
    }
   ],
   "source": [
    "# Lust the outlier zip codes \n",
    "Q1 = zip_df.quantile(0.25)\n",
    "Q3 = zip_df.quantile(0.75)\n",
    "IQR = Q3 - Q1\n",
    "BOUND = Q3 + 1.5 * IQR\n",
    "\n",
    "print('The avg_count outliers bound value is:', BOUND[0])\n",
    "print('The zip codes that should get our attention are:')\n",
    "top_zip_df = zip_df[zip_df['avg_count'] > int(BOUND)]\n",
    "print('The number of problematic zip codes to consider is:', top_zip_df.shape[0])\n",
    "display(top_zip_df)"
   ]
  },
  {
   "cell_type": "markdown",
   "metadata": {},
   "source": [
    "As we see there is 15 outlier zip codes identified by the abalysis above. Remember that, in the previous section we also plotted the top 15 problematic zip codes, as resulted from another analysis approach.\n",
    "\n",
    "## Combining the two approaches\n",
    "\n",
    "Let us now check if the top 15 outlier zip codes computed with the two different approaches overlap. This will allow us to get more confidence in the results and the zip code areas identified as problematic by both the approaches will be taken into the final recomendations.\n",
    "\n",
    "Let use join the results from the two data frames by doing the outer join, and then cleaning the data and restoring the order of rows by sorting:"
   ]
  },
  {
   "cell_type": "code",
   "execution_count": 18,
   "metadata": {},
   "outputs": [
    {
     "name": "stdout",
     "output_type": "stream",
     "text": [
      "Order the resulting table by columns: ['avg_count', 2019, 2018, 2017, 2016, 2015, 2014]\n"
     ]
    },
    {
     "data": {
      "text/html": [
       "<div>\n",
       "<style scoped>\n",
       "    .dataframe tbody tr th:only-of-type {\n",
       "        vertical-align: middle;\n",
       "    }\n",
       "\n",
       "    .dataframe tbody tr th {\n",
       "        vertical-align: top;\n",
       "    }\n",
       "\n",
       "    .dataframe thead th {\n",
       "        text-align: right;\n",
       "    }\n",
       "</style>\n",
       "<table border=\"1\" class=\"dataframe\">\n",
       "  <thead>\n",
       "    <tr style=\"text-align: right;\">\n",
       "      <th></th>\n",
       "      <th>2014</th>\n",
       "      <th>2015</th>\n",
       "      <th>2016</th>\n",
       "      <th>2017</th>\n",
       "      <th>2018</th>\n",
       "      <th>2019</th>\n",
       "      <th>avg_count</th>\n",
       "    </tr>\n",
       "    <tr>\n",
       "      <th>incident_zip</th>\n",
       "      <th></th>\n",
       "      <th></th>\n",
       "      <th></th>\n",
       "      <th></th>\n",
       "      <th></th>\n",
       "      <th></th>\n",
       "      <th></th>\n",
       "    </tr>\n",
       "  </thead>\n",
       "  <tbody>\n",
       "    <tr>\n",
       "      <th>11226.0</th>\n",
       "      <td>4328</td>\n",
       "      <td>6784</td>\n",
       "      <td>7047</td>\n",
       "      <td>7569</td>\n",
       "      <td>7314</td>\n",
       "      <td>7904</td>\n",
       "      <td>6824</td>\n",
       "    </tr>\n",
       "    <tr>\n",
       "      <th>10458.0</th>\n",
       "      <td>4699</td>\n",
       "      <td>6891</td>\n",
       "      <td>7030</td>\n",
       "      <td>6707</td>\n",
       "      <td>6438</td>\n",
       "      <td>6331</td>\n",
       "      <td>6349</td>\n",
       "    </tr>\n",
       "    <tr>\n",
       "      <th>10467.0</th>\n",
       "      <td>4363</td>\n",
       "      <td>7144</td>\n",
       "      <td>6726</td>\n",
       "      <td>6041</td>\n",
       "      <td>6361</td>\n",
       "      <td>6673</td>\n",
       "      <td>6218</td>\n",
       "    </tr>\n",
       "    <tr>\n",
       "      <th>10468.0</th>\n",
       "      <td>4381</td>\n",
       "      <td>6757</td>\n",
       "      <td>5973</td>\n",
       "      <td>5371</td>\n",
       "      <td>5244</td>\n",
       "      <td>5986</td>\n",
       "      <td>5618</td>\n",
       "    </tr>\n",
       "    <tr>\n",
       "      <th>10453.0</th>\n",
       "      <td>3601</td>\n",
       "      <td>6515</td>\n",
       "      <td>6464</td>\n",
       "      <td>5822</td>\n",
       "      <td>5233</td>\n",
       "      <td>5944</td>\n",
       "      <td>5596</td>\n",
       "    </tr>\n",
       "    <tr>\n",
       "      <th>10452.0</th>\n",
       "      <td>2374</td>\n",
       "      <td>4482</td>\n",
       "      <td>4754</td>\n",
       "      <td>5009</td>\n",
       "      <td>5676</td>\n",
       "      <td>5188</td>\n",
       "      <td>4580</td>\n",
       "    </tr>\n",
       "    <tr>\n",
       "      <th>10457.0</th>\n",
       "      <td>2793</td>\n",
       "      <td>4446</td>\n",
       "      <td>4705</td>\n",
       "      <td>4408</td>\n",
       "      <td>5014</td>\n",
       "      <td>5700</td>\n",
       "      <td>4511</td>\n",
       "    </tr>\n",
       "    <tr>\n",
       "      <th>10031.0</th>\n",
       "      <td>2713</td>\n",
       "      <td>4275</td>\n",
       "      <td>5029</td>\n",
       "      <td>4882</td>\n",
       "      <td>5125</td>\n",
       "      <td>4796</td>\n",
       "      <td>4470</td>\n",
       "    </tr>\n",
       "    <tr>\n",
       "      <th>10456.0</th>\n",
       "      <td>2953</td>\n",
       "      <td>4446</td>\n",
       "      <td>4667</td>\n",
       "      <td>4576</td>\n",
       "      <td>4273</td>\n",
       "      <td>4166</td>\n",
       "      <td>4180</td>\n",
       "    </tr>\n",
       "    <tr>\n",
       "      <th>10462.0</th>\n",
       "      <td>2836</td>\n",
       "      <td>4343</td>\n",
       "      <td>4997</td>\n",
       "      <td>4548</td>\n",
       "      <td>4396</td>\n",
       "      <td>3825</td>\n",
       "      <td>4157</td>\n",
       "    </tr>\n",
       "    <tr>\n",
       "      <th>11225.0</th>\n",
       "      <td>2375</td>\n",
       "      <td>3975</td>\n",
       "      <td>4814</td>\n",
       "      <td>4544</td>\n",
       "      <td>4787</td>\n",
       "      <td>4124</td>\n",
       "      <td>4103</td>\n",
       "    </tr>\n",
       "    <tr>\n",
       "      <th>11213.0</th>\n",
       "      <td>0</td>\n",
       "      <td>0</td>\n",
       "      <td>0</td>\n",
       "      <td>0</td>\n",
       "      <td>0</td>\n",
       "      <td>0</td>\n",
       "      <td>3761</td>\n",
       "    </tr>\n",
       "    <tr>\n",
       "      <th>10040.0</th>\n",
       "      <td>0</td>\n",
       "      <td>0</td>\n",
       "      <td>0</td>\n",
       "      <td>0</td>\n",
       "      <td>0</td>\n",
       "      <td>0</td>\n",
       "      <td>3655</td>\n",
       "    </tr>\n",
       "    <tr>\n",
       "      <th>10472.0</th>\n",
       "      <td>0</td>\n",
       "      <td>0</td>\n",
       "      <td>0</td>\n",
       "      <td>0</td>\n",
       "      <td>0</td>\n",
       "      <td>0</td>\n",
       "      <td>3534</td>\n",
       "    </tr>\n",
       "    <tr>\n",
       "      <th>10032.0</th>\n",
       "      <td>2229</td>\n",
       "      <td>4165</td>\n",
       "      <td>3634</td>\n",
       "      <td>3440</td>\n",
       "      <td>3313</td>\n",
       "      <td>3445</td>\n",
       "      <td>3371</td>\n",
       "    </tr>\n",
       "    <tr>\n",
       "      <th>11373.0</th>\n",
       "      <td>873</td>\n",
       "      <td>1946</td>\n",
       "      <td>2956</td>\n",
       "      <td>3408</td>\n",
       "      <td>3669</td>\n",
       "      <td>4256</td>\n",
       "      <td>0</td>\n",
       "    </tr>\n",
       "    <tr>\n",
       "      <th>10033.0</th>\n",
       "      <td>1716</td>\n",
       "      <td>3646</td>\n",
       "      <td>3566</td>\n",
       "      <td>3104</td>\n",
       "      <td>3673</td>\n",
       "      <td>4143</td>\n",
       "      <td>0</td>\n",
       "    </tr>\n",
       "    <tr>\n",
       "      <th>10460.0</th>\n",
       "      <td>2259</td>\n",
       "      <td>3057</td>\n",
       "      <td>3467</td>\n",
       "      <td>3468</td>\n",
       "      <td>3705</td>\n",
       "      <td>3528</td>\n",
       "      <td>0</td>\n",
       "    </tr>\n",
       "  </tbody>\n",
       "</table>\n",
       "</div>"
      ],
      "text/plain": [
       "              2014  2015  2016  2017  2018  2019  avg_count\n",
       "incident_zip                                               \n",
       "11226.0       4328  6784  7047  7569  7314  7904       6824\n",
       "10458.0       4699  6891  7030  6707  6438  6331       6349\n",
       "10467.0       4363  7144  6726  6041  6361  6673       6218\n",
       "10468.0       4381  6757  5973  5371  5244  5986       5618\n",
       "10453.0       3601  6515  6464  5822  5233  5944       5596\n",
       "10452.0       2374  4482  4754  5009  5676  5188       4580\n",
       "10457.0       2793  4446  4705  4408  5014  5700       4511\n",
       "10031.0       2713  4275  5029  4882  5125  4796       4470\n",
       "10456.0       2953  4446  4667  4576  4273  4166       4180\n",
       "10462.0       2836  4343  4997  4548  4396  3825       4157\n",
       "11225.0       2375  3975  4814  4544  4787  4124       4103\n",
       "11213.0          0     0     0     0     0     0       3761\n",
       "10040.0          0     0     0     0     0     0       3655\n",
       "10472.0          0     0     0     0     0     0       3534\n",
       "10032.0       2229  4165  3634  3440  3313  3445       3371\n",
       "11373.0        873  1946  2956  3408  3669  4256          0\n",
       "10033.0       1716  3646  3566  3104  3673  4143          0\n",
       "10460.0       2259  3057  3467  3468  3705  3528          0"
      ]
     },
     "metadata": {},
     "output_type": "display_data"
    }
   ],
   "source": [
    "# Let us make an outer joint of the two tables\n",
    "zip_sum = pd.merge(top_yzc_cnt_df, top_zip_df, left_index = True, right_index = True, how = 'outer')\n",
    "\n",
    "# Make the table look nice by filling in the NaN values and type conversion\n",
    "zip_sum = zip_sum.fillna(0).astype(int)\n",
    "\n",
    "# Restore the ordering\n",
    "order = ['avg_count']\n",
    "order.extend(years)\n",
    "print('Order the resulting table by columns:', order)\n",
    "zip_sum = zip_sum.sort_values(by = order, ascending = False)\n",
    "\n",
    "# Display the results\n",
    "display(zip_sum)"
   ]
  },
  {
   "cell_type": "markdown",
   "metadata": {},
   "source": [
    "## Conclusions (zip codes):\n",
    "\n",
    "As one can see from the joint table above the first 11 entries are the same for the both approaches we used to identify the most problematic zip codes. Moreover, the order of importance is also almost (with some exceptions) preserved.\n",
    "\n",
    "The suggestion would be to concentrate on, e.g., the top 5 zip code entries of the zip_sum data frame:"
   ]
  },
  {
   "cell_type": "code",
   "execution_count": 19,
   "metadata": {},
   "outputs": [
    {
     "name": "stdout",
     "output_type": "stream",
     "text": [
      "The top 5 problematic zip code areas: [11226.0, 10458.0, 10467.0, 10468.0, 10453.0]\n"
     ]
    }
   ],
   "source": [
    "print('The top 5 problematic zip code areas:', zip_sum.index[0:5].to_list())"
   ]
  },
  {
   "cell_type": "markdown",
   "metadata": {},
   "source": [
    "# Analysis for streets\n",
    "\n",
    "In this section we are required to analyze whether there are streets that should require extra attention because of the exceptional amounts of the 'HEAT/HOT WATER' complaints.\n",
    "\n",
    "Clearly, the analysis should down to the same approach as was already taken to analyze the problematic zip code areas. However, there is one question that is to be answered before we can start, namely:\n",
    "\n",
    "> \"Are the street names unique or can there be the same street name in different borough or zip code areas?\"\n",
    "\n",
    "If answered positively, we will not be able to do the analysis at the street level as:\n",
    "1. There may be different streets with the same in different borough or zip code areas, and \n",
    "2. There may be streets what just stratch throughout several locations.\n",
    "\n",
    "So counting the number of complaints by the street name we will then not be able to distinguish between these two cases and thus we may occasionally mix counts from two distinct streets with the same name.\n",
    "\n",
    "Let us not answer the question posed above, first for the boroughs and then for the zip codes.\n",
    "\n",
    "First, let us group by the street name and then borough and see if there are streets with more than one borough:"
   ]
  },
  {
   "cell_type": "code",
   "execution_count": 20,
   "metadata": {},
   "outputs": [
    {
     "data": {
      "text/html": [
       "<div>\n",
       "<style scoped>\n",
       "    .dataframe tbody tr th:only-of-type {\n",
       "        vertical-align: middle;\n",
       "    }\n",
       "\n",
       "    .dataframe tbody tr th {\n",
       "        vertical-align: top;\n",
       "    }\n",
       "\n",
       "    .dataframe thead th {\n",
       "        text-align: right;\n",
       "    }\n",
       "</style>\n",
       "<table border=\"1\" class=\"dataframe\">\n",
       "  <thead>\n",
       "    <tr style=\"text-align: right;\">\n",
       "      <th></th>\n",
       "      <th>borough</th>\n",
       "      <th>borough_count</th>\n",
       "    </tr>\n",
       "    <tr>\n",
       "      <th>street_name</th>\n",
       "      <th></th>\n",
       "      <th></th>\n",
       "    </tr>\n",
       "  </thead>\n",
       "  <tbody>\n",
       "    <tr>\n",
       "      <th>BROADWAY</th>\n",
       "      <td>[BROOKLYN, MANHATTAN, BRONX, QUEENS, STATEN IS...</td>\n",
       "      <td>5</td>\n",
       "    </tr>\n",
       "    <tr>\n",
       "      <th>PARK AVENUE</th>\n",
       "      <td>[MANHATTAN, BROOKLYN, BRONX, STATEN ISLAND, QU...</td>\n",
       "      <td>5</td>\n",
       "    </tr>\n",
       "    <tr>\n",
       "      <th>WARREN STREET</th>\n",
       "      <td>[QUEENS, BROOKLYN, MANHATTAN, STATEN ISLAND]</td>\n",
       "      <td>4</td>\n",
       "    </tr>\n",
       "    <tr>\n",
       "      <th>METROPOLITAN AVENUE</th>\n",
       "      <td>[BRONX, QUEENS, BROOKLYN, STATEN ISLAND]</td>\n",
       "      <td>4</td>\n",
       "    </tr>\n",
       "    <tr>\n",
       "      <th>CLINTON AVENUE</th>\n",
       "      <td>[BROOKLYN, BRONX, STATEN ISLAND, QUEENS]</td>\n",
       "      <td>4</td>\n",
       "    </tr>\n",
       "  </tbody>\n",
       "</table>\n",
       "</div>"
      ],
      "text/plain": [
       "                                                               borough  \\\n",
       "street_name                                                              \n",
       "BROADWAY             [BROOKLYN, MANHATTAN, BRONX, QUEENS, STATEN IS...   \n",
       "PARK AVENUE          [MANHATTAN, BROOKLYN, BRONX, STATEN ISLAND, QU...   \n",
       "WARREN STREET             [QUEENS, BROOKLYN, MANHATTAN, STATEN ISLAND]   \n",
       "METROPOLITAN AVENUE           [BRONX, QUEENS, BROOKLYN, STATEN ISLAND]   \n",
       "CLINTON AVENUE                [BROOKLYN, BRONX, STATEN ISLAND, QUEENS]   \n",
       "\n",
       "                     borough_count  \n",
       "street_name                         \n",
       "BROADWAY                         5  \n",
       "PARK AVENUE                      5  \n",
       "WARREN STREET                    4  \n",
       "METROPOLITAN AVENUE              4  \n",
       "CLINTON AVENUE                   4  "
      ]
     },
     "metadata": {},
     "output_type": "display_data"
    }
   ],
   "source": [
    "# Group by the street name and then get the list of unique boroughs the street is present in\n",
    "sb_df = dhp_df.groupby(by=['street_name'])['borough'].unique().to_frame()\n",
    "\n",
    "# Count the number of boroughs per street\n",
    "sb_df['borough_count'] = sb_df['borough'].apply(len)\n",
    "\n",
    "# Order streets by the borough count\n",
    "sb_df.sort_values(by = ['borough_count'], axis = 0, inplace = True, ascending = False)\n",
    "\n",
    "# Display the result\n",
    "display(sb_df.head())"
   ]
  },
  {
   "cell_type": "markdown",
   "metadata": {},
   "source": [
    "From the results in the table above we see that there are streets with names present in different boroughs.\n",
    "\n",
    "What about the zip code areas? Can we expect that the same street name is only present within one zip code area?"
   ]
  },
  {
   "cell_type": "code",
   "execution_count": 21,
   "metadata": {},
   "outputs": [
    {
     "data": {
      "text/html": [
       "<div>\n",
       "<style scoped>\n",
       "    .dataframe tbody tr th:only-of-type {\n",
       "        vertical-align: middle;\n",
       "    }\n",
       "\n",
       "    .dataframe tbody tr th {\n",
       "        vertical-align: top;\n",
       "    }\n",
       "\n",
       "    .dataframe thead th {\n",
       "        text-align: right;\n",
       "    }\n",
       "</style>\n",
       "<table border=\"1\" class=\"dataframe\">\n",
       "  <thead>\n",
       "    <tr style=\"text-align: right;\">\n",
       "      <th></th>\n",
       "      <th>incident_zip</th>\n",
       "      <th>zip_count</th>\n",
       "    </tr>\n",
       "    <tr>\n",
       "      <th>street_name</th>\n",
       "      <th></th>\n",
       "      <th></th>\n",
       "    </tr>\n",
       "  </thead>\n",
       "  <tbody>\n",
       "    <tr>\n",
       "      <th>BROADWAY</th>\n",
       "      <td>[11221.0, 10031.0, 10025.0, 10033.0, 10032.0, ...</td>\n",
       "      <td>35</td>\n",
       "    </tr>\n",
       "    <tr>\n",
       "      <th>5 AVENUE</th>\n",
       "      <td>[11232.0, 10037.0, 11215.0, 11217.0, 10029.0, ...</td>\n",
       "      <td>26</td>\n",
       "    </tr>\n",
       "    <tr>\n",
       "      <th>3 AVENUE</th>\n",
       "      <td>[11209.0, 10003.0, 11217.0, 10451.0, 10456.0, ...</td>\n",
       "      <td>24</td>\n",
       "    </tr>\n",
       "    <tr>\n",
       "      <th>PARK AVENUE</th>\n",
       "      <td>[10029.0, 11205.0, 10458.0, 11206.0, 10037.0, ...</td>\n",
       "      <td>20</td>\n",
       "    </tr>\n",
       "    <tr>\n",
       "      <th>2 AVENUE</th>\n",
       "      <td>[10003.0, 10035.0, 10029.0, 10065.0, 10128.0, ...</td>\n",
       "      <td>17</td>\n",
       "    </tr>\n",
       "  </tbody>\n",
       "</table>\n",
       "</div>"
      ],
      "text/plain": [
       "                                                  incident_zip  zip_count\n",
       "street_name                                                              \n",
       "BROADWAY     [11221.0, 10031.0, 10025.0, 10033.0, 10032.0, ...         35\n",
       "5 AVENUE     [11232.0, 10037.0, 11215.0, 11217.0, 10029.0, ...         26\n",
       "3 AVENUE     [11209.0, 10003.0, 11217.0, 10451.0, 10456.0, ...         24\n",
       "PARK AVENUE  [10029.0, 11205.0, 10458.0, 11206.0, 10037.0, ...         20\n",
       "2 AVENUE     [10003.0, 10035.0, 10029.0, 10065.0, 10128.0, ...         17"
      ]
     },
     "metadata": {},
     "output_type": "display_data"
    }
   ],
   "source": [
    "# Group by the street name and then get the list of unique boroughs the street is present in\n",
    "sz_df = dhp_df.groupby(by=['street_name'])['incident_zip'].unique().to_frame()\n",
    "\n",
    "# Count the number of boroughs per street\n",
    "sz_df['zip_count'] = sz_df['incident_zip'].apply(len)\n",
    "\n",
    "# Order streets by the borough count\n",
    "sz_df.sort_values(by = ['zip_count'], axis = 0, inplace = True, ascending = False)\n",
    "\n",
    "# Display the result\n",
    "display(sz_df.head())"
   ]
  },
  {
   "cell_type": "markdown",
   "metadata": {},
   "source": [
    "From the table above we see that, once again, there are streets with names present in different zip code areas.\n",
    "\n",
    "## Conclusions (streets):\n",
    "Clearly, a street name does not have to be unique within a country, city or even a borough, even though it is very likely it is unique for a single zip code. Therefore, the streets with names present in different boroughs or zip code areas can be the same or different streets.\n",
    "\n",
    "Our results show that there are quite alot of such streets:"
   ]
  },
  {
   "cell_type": "code",
   "execution_count": 22,
   "metadata": {},
   "outputs": [
    {
     "name": "stdout",
     "output_type": "stream",
     "text": [
      "Number of equally named streets present in different:\n",
      "  - boroughs: 733\n",
      "  - zip areas: 2342\n"
     ]
    }
   ],
   "source": [
    "print('Number of equally named streets present in different:')\n",
    "print('  - boroughs:', (sb_df['borough_count'] > 1).sum())\n",
    "print('  - zip areas:', (sz_df['zip_count'] > 1).sum())"
   ]
  },
  {
   "cell_type": "markdown",
   "metadata": {},
   "source": [
    "This means that, generally speaking we can not compute the exact number of 'HEAT/HOT WATER' complaints at the street level unless we can not distinguish different streets with the same names not bound to one zip area. Given the data set at hand the latter does not seem to be feasible, which means the street level analysis is generally not possible."
   ]
  },
  {
   "cell_type": "markdown",
   "metadata": {},
   "source": [
    "# Conclusions\n",
    "\n",
    "The question hich we had to answer was:\n",
    "    \n",
    "> Should the Department of Housing Preservation and Development of New York City focus on any particular set of boroughs, ZIP codes, or street (where the complaints are severe) for the specific type of complaints you identified in response to Question 1?\n",
    "\n",
    "Therefore, since the answer to Question 1 was: the 'HEAT/HOT WATER' complaints we went on with analyzing those.\n",
    "The analysis was split into three sections:\n",
    "\n",
    "* 'Analysis for boroughs'\n",
    "* 'Analysis for zip code areas'\n",
    "* 'Analysis for streets'\n",
    "\n",
    "Each of these sections has its own local conclusions so here we shall just summarize:\n",
    "\n",
    "The 'Analysis for boroughs' revealed that the top two critical boroughs are 'BRONX' and 'BROOKLYN':"
   ]
  },
  {
   "cell_type": "code",
   "execution_count": 23,
   "metadata": {},
   "outputs": [
    {
     "data": {
      "text/html": [
       "<div>\n",
       "<style scoped>\n",
       "    .dataframe tbody tr th:only-of-type {\n",
       "        vertical-align: middle;\n",
       "    }\n",
       "\n",
       "    .dataframe tbody tr th {\n",
       "        vertical-align: top;\n",
       "    }\n",
       "\n",
       "    .dataframe thead th {\n",
       "        text-align: right;\n",
       "    }\n",
       "</style>\n",
       "<table border=\"1\" class=\"dataframe\">\n",
       "  <thead>\n",
       "    <tr style=\"text-align: right;\">\n",
       "      <th></th>\n",
       "      <th>avg_count</th>\n",
       "    </tr>\n",
       "    <tr>\n",
       "      <th>borough</th>\n",
       "      <th></th>\n",
       "    </tr>\n",
       "  </thead>\n",
       "  <tbody>\n",
       "    <tr>\n",
       "      <th>BRONX</th>\n",
       "      <td>66878</td>\n",
       "    </tr>\n",
       "    <tr>\n",
       "      <th>BROOKLYN</th>\n",
       "      <td>62851</td>\n",
       "    </tr>\n",
       "    <tr>\n",
       "      <th>MANHATTAN</th>\n",
       "      <td>46701</td>\n",
       "    </tr>\n",
       "    <tr>\n",
       "      <th>QUEENS</th>\n",
       "      <td>27427</td>\n",
       "    </tr>\n",
       "    <tr>\n",
       "      <th>STATEN ISLAND</th>\n",
       "      <td>2017</td>\n",
       "    </tr>\n",
       "  </tbody>\n",
       "</table>\n",
       "</div>"
      ],
      "text/plain": [
       "               avg_count\n",
       "borough                 \n",
       "BRONX              66878\n",
       "BROOKLYN           62851\n",
       "MANHATTAN          46701\n",
       "QUEENS             27427\n",
       "STATEN ISLAND       2017"
      ]
     },
     "metadata": {},
     "output_type": "display_data"
    }
   ],
   "source": [
    "display(borough_df)"
   ]
  },
  {
   "cell_type": "markdown",
   "metadata": {},
   "source": [
    "The 'Analysis for zip code areas', by means of two different approaches, has disclosed that the top 5 problematic zip code areas are:"
   ]
  },
  {
   "cell_type": "code",
   "execution_count": 24,
   "metadata": {},
   "outputs": [
    {
     "data": {
      "text/html": [
       "<div>\n",
       "<style scoped>\n",
       "    .dataframe tbody tr th:only-of-type {\n",
       "        vertical-align: middle;\n",
       "    }\n",
       "\n",
       "    .dataframe tbody tr th {\n",
       "        vertical-align: top;\n",
       "    }\n",
       "\n",
       "    .dataframe thead th {\n",
       "        text-align: right;\n",
       "    }\n",
       "</style>\n",
       "<table border=\"1\" class=\"dataframe\">\n",
       "  <thead>\n",
       "    <tr style=\"text-align: right;\">\n",
       "      <th></th>\n",
       "      <th>2014</th>\n",
       "      <th>2015</th>\n",
       "      <th>2016</th>\n",
       "      <th>2017</th>\n",
       "      <th>2018</th>\n",
       "      <th>2019</th>\n",
       "      <th>avg_count</th>\n",
       "    </tr>\n",
       "    <tr>\n",
       "      <th>incident_zip</th>\n",
       "      <th></th>\n",
       "      <th></th>\n",
       "      <th></th>\n",
       "      <th></th>\n",
       "      <th></th>\n",
       "      <th></th>\n",
       "      <th></th>\n",
       "    </tr>\n",
       "  </thead>\n",
       "  <tbody>\n",
       "    <tr>\n",
       "      <th>11226.0</th>\n",
       "      <td>4328</td>\n",
       "      <td>6784</td>\n",
       "      <td>7047</td>\n",
       "      <td>7569</td>\n",
       "      <td>7314</td>\n",
       "      <td>7904</td>\n",
       "      <td>6824</td>\n",
       "    </tr>\n",
       "    <tr>\n",
       "      <th>10458.0</th>\n",
       "      <td>4699</td>\n",
       "      <td>6891</td>\n",
       "      <td>7030</td>\n",
       "      <td>6707</td>\n",
       "      <td>6438</td>\n",
       "      <td>6331</td>\n",
       "      <td>6349</td>\n",
       "    </tr>\n",
       "    <tr>\n",
       "      <th>10467.0</th>\n",
       "      <td>4363</td>\n",
       "      <td>7144</td>\n",
       "      <td>6726</td>\n",
       "      <td>6041</td>\n",
       "      <td>6361</td>\n",
       "      <td>6673</td>\n",
       "      <td>6218</td>\n",
       "    </tr>\n",
       "    <tr>\n",
       "      <th>10468.0</th>\n",
       "      <td>4381</td>\n",
       "      <td>6757</td>\n",
       "      <td>5973</td>\n",
       "      <td>5371</td>\n",
       "      <td>5244</td>\n",
       "      <td>5986</td>\n",
       "      <td>5618</td>\n",
       "    </tr>\n",
       "    <tr>\n",
       "      <th>10453.0</th>\n",
       "      <td>3601</td>\n",
       "      <td>6515</td>\n",
       "      <td>6464</td>\n",
       "      <td>5822</td>\n",
       "      <td>5233</td>\n",
       "      <td>5944</td>\n",
       "      <td>5596</td>\n",
       "    </tr>\n",
       "  </tbody>\n",
       "</table>\n",
       "</div>"
      ],
      "text/plain": [
       "              2014  2015  2016  2017  2018  2019  avg_count\n",
       "incident_zip                                               \n",
       "11226.0       4328  6784  7047  7569  7314  7904       6824\n",
       "10458.0       4699  6891  7030  6707  6438  6331       6349\n",
       "10467.0       4363  7144  6726  6041  6361  6673       6218\n",
       "10468.0       4381  6757  5973  5371  5244  5986       5618\n",
       "10453.0       3601  6515  6464  5822  5233  5944       5596"
      ]
     },
     "metadata": {},
     "output_type": "display_data"
    }
   ],
   "source": [
    "display(zip_sum.head())"
   ]
  },
  {
   "cell_type": "markdown",
   "metadata": {},
   "source": [
    "Finally, for the 'Analysis for streets' we have identified that there are equally named streets present in different boroughs and zip code areas:"
   ]
  },
  {
   "cell_type": "code",
   "execution_count": 25,
   "metadata": {},
   "outputs": [
    {
     "name": "stdout",
     "output_type": "stream",
     "text": [
      "Number of equally named streets present in different:\n",
      "  - boroughs: 733\n",
      "  - zip areas: 2342\n"
     ]
    }
   ],
   "source": [
    "print('Number of equally named streets present in different:')\n",
    "print('  - boroughs:', (sb_df['borough_count'] > 1).sum())\n",
    "print('  - zip areas:', (sz_df['zip_count'] > 1).sum())"
   ]
  },
  {
   "cell_type": "markdown",
   "metadata": {},
   "source": [
    "Identifying unique streets, based on the data set at hand, is impossible. Therefore, the complaint analysis at the street level cound not be performed.\n",
    "\n",
    "Please note that, all additional/detailed visualizations and analysis are present in the corresponding sections above."
   ]
  }
 ],
 "metadata": {
  "kernelspec": {
   "display_name": "Python 3",
   "language": "python",
   "name": "python3"
  },
  "language_info": {
   "codemirror_mode": {
    "name": "ipython",
    "version": 3
   },
   "file_extension": ".py",
   "mimetype": "text/x-python",
   "name": "python",
   "nbconvert_exporter": "python",
   "pygments_lexer": "ipython3",
   "version": "3.8.1"
  }
 },
 "nbformat": 4,
 "nbformat_minor": 4
}
