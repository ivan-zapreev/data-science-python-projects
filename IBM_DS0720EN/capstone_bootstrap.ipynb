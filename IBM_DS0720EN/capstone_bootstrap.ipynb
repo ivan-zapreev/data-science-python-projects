{
 "cells": [
  {
   "cell_type": "code",
   "execution_count": 1,
   "metadata": {},
   "outputs": [
    {
     "name": "stdout",
     "output_type": "stream",
     "text": [
      "Requirement already satisfied: pandas in /Library/Frameworks/Python.framework/Versions/3.8/lib/python3.8/site-packages (1.0.0)\n",
      "Requirement already satisfied: numpy>=1.13.3 in /Library/Frameworks/Python.framework/Versions/3.8/lib/python3.8/site-packages (from pandas) (1.18.1)\n",
      "Requirement already satisfied: pytz>=2017.2 in /Library/Frameworks/Python.framework/Versions/3.8/lib/python3.8/site-packages (from pandas) (2019.3)\n",
      "Requirement already satisfied: python-dateutil>=2.6.1 in /Library/Frameworks/Python.framework/Versions/3.8/lib/python3.8/site-packages (from pandas) (2.8.1)\n",
      "Requirement already satisfied: six>=1.5 in /Library/Frameworks/Python.framework/Versions/3.8/lib/python3.8/site-packages (from python-dateutil>=2.6.1->pandas) (1.14.0)\n",
      "Requirement already satisfied: sodapy in /Library/Frameworks/Python.framework/Versions/3.8/lib/python3.8/site-packages (2.0.0)\n",
      "Requirement already satisfied: requests>=2.20.0 in /Library/Frameworks/Python.framework/Versions/3.8/lib/python3.8/site-packages (from sodapy) (2.22.0)\n",
      "Requirement already satisfied: certifi>=2017.4.17 in /Library/Frameworks/Python.framework/Versions/3.8/lib/python3.8/site-packages (from requests>=2.20.0->sodapy) (2019.11.28)\n",
      "Requirement already satisfied: urllib3!=1.25.0,!=1.25.1,<1.26,>=1.21.1 in /Library/Frameworks/Python.framework/Versions/3.8/lib/python3.8/site-packages (from requests>=2.20.0->sodapy) (1.25.8)\n",
      "Requirement already satisfied: idna<2.9,>=2.5 in /Library/Frameworks/Python.framework/Versions/3.8/lib/python3.8/site-packages (from requests>=2.20.0->sodapy) (2.8)\n",
      "Requirement already satisfied: chardet<3.1.0,>=3.0.2 in /Library/Frameworks/Python.framework/Versions/3.8/lib/python3.8/site-packages (from requests>=2.20.0->sodapy) (3.0.4)\n"
     ]
    }
   ],
   "source": [
    "# make sure to install these packages before running:\n",
    "! pip3 install pandas\n",
    "! pip3 install sodapy"
   ]
  },
  {
   "cell_type": "code",
   "execution_count": 2,
   "metadata": {},
   "outputs": [],
   "source": [
    "import os\n",
    "import gc\n",
    "import pandas as pd\n",
    "\n",
    "from sodapy import Socrata"
   ]
  },
  {
   "cell_type": "code",
   "execution_count": 3,
   "metadata": {},
   "outputs": [],
   "source": [
    "#=================================================================================================\n",
    "#=================================================================================================\n",
    "#============================Download and ingest the 311 data Dataset=============================\n",
    "#=================================================================================================\n",
    "#=================================================================================================\n",
    "#================================================================================================="
   ]
  },
  {
   "cell_type": "code",
   "execution_count": 4,
   "metadata": {},
   "outputs": [
    {
     "name": "stderr",
     "output_type": "stream",
     "text": [
      "WARNING:root:Requests made without an app_token will be subject to strict throttling limits.\n"
     ]
    }
   ],
   "source": [
    "# The URL for the API endpoint\n",
    "data_url = 'data.cityofnewyork.us'\n",
    "# The data set at the API endpoint (311 data in this case)\n",
    "data_set = 'erm2-nwe9'\n",
    "\n",
    "# Unauthenticated client only works with public data sets. Note 'None'\n",
    "# in place of application token, and no username or password:\n",
    "client = Socrata(\"data.cityofnewyork.us\", None)\n",
    "\n",
    "# Set the timeout to 60 seconds    \n",
    "client.timeout = 60\n",
    "\n",
    "# Example authenticated client (needed for non-public datasets):\n",
    "# client = Socrata(data.cityofnewyork.us,\n",
    "#                  MyAppToken,\n",
    "#                  userame=\"user@example.com\",\n",
    "#                  password=\"AFakePassword\")\n",
    "\n",
    "# First 10.000.000 results, returned as JSON from API / converted to Python list of\n",
    "# dictionaries by sodapy.\n",
    "results = client.get(\"erm2-nwe9\",\n",
    "                     content_type = \"json\",\n",
    "                     select = \"created_date, unique_key, complaint_type, \\\n",
    "                               incident_zip, incident_address, street_name, \\\n",
    "                               address_type, city, resolution_description, \\\n",
    "                               borough, latitude, longitude, closed_date, \\\n",
    "                               location_type, status\",\n",
    "                     where = \"Agency = 'HPD'\",\n",
    "                     limit = 10000000)"
   ]
  },
  {
   "cell_type": "code",
   "execution_count": 5,
   "metadata": {},
   "outputs": [],
   "source": [
    "# Convert to pandas DataFrame\n",
    "results_df = pd.DataFrame.from_records(results)\n",
    "results_df.to_csv('data' + os.path.sep + 'erm2_nwe9.csv', index = False)"
   ]
  },
  {
   "cell_type": "code",
   "execution_count": 6,
   "metadata": {},
   "outputs": [
    {
     "data": {
      "text/plain": [
       "20"
      ]
     },
     "execution_count": 6,
     "metadata": {},
     "output_type": "execute_result"
    }
   ],
   "source": [
    "# Clean memory\n",
    "results = []\n",
    "results_df = []\n",
    "gc.collect()"
   ]
  },
  {
   "cell_type": "code",
   "execution_count": 7,
   "metadata": {},
   "outputs": [],
   "source": [
    "#=================================================================================================\n",
    "#=================================================================================================\n",
    "#============================Download and ingest the NYC PLUTO Dataset============================\n",
    "#=================================================================================================\n",
    "#=================================================================================================\n",
    "#================================================================================================="
   ]
  },
  {
   "cell_type": "code",
   "execution_count": 8,
   "metadata": {},
   "outputs": [
    {
     "name": "stdout",
     "output_type": "stream",
     "text": [
      "--2020-02-17 14:26:24--  https://www1.nyc.gov/assets/planning/download/zip/data-maps/open-data/nyc_pluto_18v1.zip\n",
      "Resolving www1.nyc.gov... 23.32.9.194\n",
      "Connecting to www1.nyc.gov|23.32.9.194|:443... connected.\n",
      "HTTP request sent, awaiting response... 200 OK\n",
      "Length: 48263311 (46M) [application/zip]\n",
      "Saving to: 'nyc_pluto_18v1.zip'\n",
      "\n",
      "nyc_pluto_18v1.zip  100%[===================>]  46.03M  30.0MB/s    in 1.5s    \n",
      "\n",
      "2020-02-17 14:26:26 (30.0 MB/s) - 'nyc_pluto_18v1.zip' saved [48263311/48263311]\n",
      "\n",
      "Archive:  nyc_pluto_18v1.zip\n",
      "  inflating: data/BK_18v1.csv        \n",
      "  inflating: data/BX_18v1.csv        \n",
      "  inflating: data/MN_18v1.csv        \n",
      "  inflating: data/PLUTODD18v1.pdf    \n",
      "  inflating: data/PlutoReadme18v1.pdf  \n",
      "  inflating: data/QN_18v1.csv        \n",
      "  inflating: data/SI_18v1.csv        \n"
     ]
    }
   ],
   "source": [
    "# Download the NYC PLUTO Dataset\n",
    "!wget -O nyc_pluto_18v1.zip https://www1.nyc.gov/assets/planning/download/zip/data-maps/open-data/nyc_pluto_18v1.zip\n",
    "\n",
    "# Unpack the data\n",
    "!unzip -o -j nyc_pluto_18v1.zip -d data/\n",
    "\n",
    "# Remove the archive\n",
    "!rm -f nyc_pluto_18v1.zip"
   ]
  }
 ],
 "metadata": {
  "kernelspec": {
   "display_name": "Python 3",
   "language": "python",
   "name": "python3"
  },
  "language_info": {
   "codemirror_mode": {
    "name": "ipython",
    "version": 3
   },
   "file_extension": ".py",
   "mimetype": "text/x-python",
   "name": "python",
   "nbconvert_exporter": "python",
   "pygments_lexer": "ipython3",
   "version": "3.8.1"
  }
 },
 "nbformat": 4,
 "nbformat_minor": 4
}
