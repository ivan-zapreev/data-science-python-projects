{
 "cells": [
  {
   "cell_type": "code",
   "execution_count": 79,
   "metadata": {},
   "outputs": [],
   "source": [
    "%%capture\n",
    "! pip3 install ipywidgets"
   ]
  },
  {
   "cell_type": "code",
   "execution_count": 81,
   "metadata": {},
   "outputs": [],
   "source": [
    "# perform required imports\n",
    "import pandas as pd\n",
    "import numpy as np\n",
    "import matplotlib.pyplot as plt\n",
    "import scipy.stats as stats\n",
    "import os\n",
    "import seaborn as sns\n",
    "import sklearn.linear_model as lm\n",
    "\n",
    "from sklearn.metrics import mean_squared_error\n",
    "from sklearn.metrics import r2_score\n",
    "\n",
    "from sklearn.preprocessing import StandardScaler\n",
    "from sklearn.preprocessing import PolynomialFeatures\n",
    "\n",
    "from sklearn.linear_model import LinearRegression\n",
    "from sklearn.linear_model import Ridge\n",
    "\n",
    "from sklearn.model_selection import train_test_split\n",
    "from sklearn.model_selection import cross_val_score\n",
    "from sklearn.model_selection import cross_val_predict\n",
    "from sklearn.model_selection import GridSearchCV\n",
    "\n",
    "from IPython.display import display\n",
    "from IPython.html import widgets \n",
    "from IPython.display import display\n",
    "from ipywidgets import interact, interactive, fixed, interact_manual"
   ]
  },
  {
   "cell_type": "code",
   "execution_count": 76,
   "metadata": {},
   "outputs": [
    {
     "data": {
      "text/html": [
       "<div>\n",
       "<style scoped>\n",
       "    .dataframe tbody tr th:only-of-type {\n",
       "        vertical-align: middle;\n",
       "    }\n",
       "\n",
       "    .dataframe tbody tr th {\n",
       "        vertical-align: top;\n",
       "    }\n",
       "\n",
       "    .dataframe thead th {\n",
       "        text-align: right;\n",
       "    }\n",
       "</style>\n",
       "<table border=\"1\" class=\"dataframe\">\n",
       "  <thead>\n",
       "    <tr style=\"text-align: right;\">\n",
       "      <th></th>\n",
       "      <th>symboling</th>\n",
       "      <th>normalized-losses</th>\n",
       "      <th>wheel-base</th>\n",
       "      <th>length</th>\n",
       "      <th>width</th>\n",
       "      <th>height</th>\n",
       "      <th>curb-weight</th>\n",
       "      <th>engine-size</th>\n",
       "      <th>bore</th>\n",
       "      <th>stroke</th>\n",
       "      <th>compression-ratio</th>\n",
       "      <th>horsepower</th>\n",
       "      <th>peak-rpm</th>\n",
       "      <th>city-lpg</th>\n",
       "      <th>highway-mpg</th>\n",
       "      <th>price</th>\n",
       "      <th>diesel</th>\n",
       "      <th>gas</th>\n",
       "    </tr>\n",
       "  </thead>\n",
       "  <tbody>\n",
       "    <tr>\n",
       "      <th>0</th>\n",
       "      <td>3</td>\n",
       "      <td>122</td>\n",
       "      <td>88.6</td>\n",
       "      <td>0.811148</td>\n",
       "      <td>0.324786</td>\n",
       "      <td>-2.029015</td>\n",
       "      <td>2548</td>\n",
       "      <td>130</td>\n",
       "      <td>3.47</td>\n",
       "      <td>2.68</td>\n",
       "      <td>9.0</td>\n",
       "      <td>111</td>\n",
       "      <td>5000.0</td>\n",
       "      <td>11.190476</td>\n",
       "      <td>27</td>\n",
       "      <td>13495.0</td>\n",
       "      <td>0</td>\n",
       "      <td>1</td>\n",
       "    </tr>\n",
       "    <tr>\n",
       "      <th>1</th>\n",
       "      <td>3</td>\n",
       "      <td>122</td>\n",
       "      <td>88.6</td>\n",
       "      <td>0.811148</td>\n",
       "      <td>0.324786</td>\n",
       "      <td>-2.029015</td>\n",
       "      <td>2548</td>\n",
       "      <td>130</td>\n",
       "      <td>3.47</td>\n",
       "      <td>2.68</td>\n",
       "      <td>9.0</td>\n",
       "      <td>111</td>\n",
       "      <td>5000.0</td>\n",
       "      <td>11.190476</td>\n",
       "      <td>27</td>\n",
       "      <td>16500.0</td>\n",
       "      <td>0</td>\n",
       "      <td>1</td>\n",
       "    </tr>\n",
       "    <tr>\n",
       "      <th>2</th>\n",
       "      <td>1</td>\n",
       "      <td>122</td>\n",
       "      <td>94.5</td>\n",
       "      <td>0.822681</td>\n",
       "      <td>0.444444</td>\n",
       "      <td>-0.558319</td>\n",
       "      <td>2823</td>\n",
       "      <td>152</td>\n",
       "      <td>2.68</td>\n",
       "      <td>3.47</td>\n",
       "      <td>9.0</td>\n",
       "      <td>154</td>\n",
       "      <td>5000.0</td>\n",
       "      <td>12.368421</td>\n",
       "      <td>26</td>\n",
       "      <td>16500.0</td>\n",
       "      <td>0</td>\n",
       "      <td>1</td>\n",
       "    </tr>\n",
       "    <tr>\n",
       "      <th>3</th>\n",
       "      <td>2</td>\n",
       "      <td>164</td>\n",
       "      <td>99.8</td>\n",
       "      <td>0.848630</td>\n",
       "      <td>0.504274</td>\n",
       "      <td>0.217881</td>\n",
       "      <td>2337</td>\n",
       "      <td>109</td>\n",
       "      <td>3.19</td>\n",
       "      <td>3.40</td>\n",
       "      <td>10.0</td>\n",
       "      <td>102</td>\n",
       "      <td>5500.0</td>\n",
       "      <td>9.791667</td>\n",
       "      <td>30</td>\n",
       "      <td>13950.0</td>\n",
       "      <td>0</td>\n",
       "      <td>1</td>\n",
       "    </tr>\n",
       "    <tr>\n",
       "      <th>4</th>\n",
       "      <td>2</td>\n",
       "      <td>164</td>\n",
       "      <td>99.4</td>\n",
       "      <td>0.848630</td>\n",
       "      <td>0.521368</td>\n",
       "      <td>0.217881</td>\n",
       "      <td>2824</td>\n",
       "      <td>136</td>\n",
       "      <td>3.19</td>\n",
       "      <td>3.40</td>\n",
       "      <td>8.0</td>\n",
       "      <td>115</td>\n",
       "      <td>5500.0</td>\n",
       "      <td>13.055556</td>\n",
       "      <td>22</td>\n",
       "      <td>17450.0</td>\n",
       "      <td>0</td>\n",
       "      <td>1</td>\n",
       "    </tr>\n",
       "  </tbody>\n",
       "</table>\n",
       "</div>"
      ],
      "text/plain": [
       "   symboling  normalized-losses  wheel-base    length     width    height  \\\n",
       "0          3                122        88.6  0.811148  0.324786 -2.029015   \n",
       "1          3                122        88.6  0.811148  0.324786 -2.029015   \n",
       "2          1                122        94.5  0.822681  0.444444 -0.558319   \n",
       "3          2                164        99.8  0.848630  0.504274  0.217881   \n",
       "4          2                164        99.4  0.848630  0.521368  0.217881   \n",
       "\n",
       "   curb-weight  engine-size  bore  stroke  compression-ratio  horsepower  \\\n",
       "0         2548          130  3.47    2.68                9.0         111   \n",
       "1         2548          130  3.47    2.68                9.0         111   \n",
       "2         2823          152  2.68    3.47                9.0         154   \n",
       "3         2337          109  3.19    3.40               10.0         102   \n",
       "4         2824          136  3.19    3.40                8.0         115   \n",
       "\n",
       "   peak-rpm   city-lpg  highway-mpg    price  diesel  gas  \n",
       "0    5000.0  11.190476           27  13495.0       0    1  \n",
       "1    5000.0  11.190476           27  16500.0       0    1  \n",
       "2    5000.0  12.368421           26  16500.0       0    1  \n",
       "3    5500.0   9.791667           30  13950.0       0    1  \n",
       "4    5500.0  13.055556           22  17450.0       0    1  "
      ]
     },
     "execution_count": 76,
     "metadata": {},
     "output_type": "execute_result"
    }
   ],
   "source": [
    "# Read the clean model\n",
    "df = pd.read_csv(\"data\" + os.path.sep + \"autos_85_clean.csv\")\n",
    "\n",
    "#Let us only use the numeric data\n",
    "df = df._get_numeric_data()\n",
    "df.head()"
   ]
  },
  {
   "cell_type": "code",
   "execution_count": 18,
   "metadata": {},
   "outputs": [
    {
     "name": "stdout",
     "output_type": "stream",
     "text": [
      "horsepower     int64\n",
      "engine-size    int64\n",
      "curb-weight    int64\n",
      "highway-mpg    int64\n",
      "dtype: object\n",
      "x_data type: <class 'pandas.core.frame.DataFrame'>\n",
      "x_data type: <class 'pandas.core.frame.DataFrame'>\n"
     ]
    }
   ],
   "source": [
    "# Split the data into training and testing sets\n",
    "x_data = df[[\"horsepower\", \"engine-size\", \"curb-weight\", \"highway-mpg\"]]\n",
    "print(x_data.dtypes)\n",
    "print(\"x_data type: \" + str(type(x_data)))\n",
    "\n",
    "y_data = df[[\"price\"]]\n",
    "print(\"x_data type: \" + str(type(y_data)))\n",
    "\n",
    "x_train, x_test, y_train, y_test = train_test_split(x_data, y_data, test_size = 0.3, random_state = 0)"
   ]
  },
  {
   "cell_type": "code",
   "execution_count": 24,
   "metadata": {},
   "outputs": [],
   "source": [
    "# Generalization error is measure of how well our data does at predicting previously unseen data\n",
    "\n",
    "def plot_distributions(Y, Yhat, text = \"\"):\n",
    "    ax1 = sns.distplot(Y, hist = False, color = \"green\", label = \"Actual value\")\n",
    "    sns.distplot(Yhat, hist = False, color = \"red\", label = \"Predicted value\", ax = ax1)\n",
    "    plt.title(text)\n",
    "    plt.show() \n",
    "    plt.close()"
   ]
  },
  {
   "cell_type": "code",
   "execution_count": 20,
   "metadata": {},
   "outputs": [],
   "source": [
    "# Train the model on the train data\n",
    "\n",
    "# Instantiate the linear model\n",
    "lm = LinearRegression()\n",
    "\n",
    "# Fit the model\n",
    "lm.fit(x_train, y_train)\n",
    "\n",
    "# Predict the values\n",
    "y_train_hat = lm.predict(x_train)"
   ]
  },
  {
   "cell_type": "code",
   "execution_count": 21,
   "metadata": {},
   "outputs": [],
   "source": [
    "# Test the model on the test data\n",
    "\n",
    "# Predict the values\n",
    "y_test_hat = lm.predict(x_test)"
   ]
  },
  {
   "cell_type": "code",
   "execution_count": 26,
   "metadata": {},
   "outputs": [
    {
     "data": {
      "image/png": "[encoded data removed]",
      "text/plain": [
       "<Figure size 432x288 with 1 Axes>"
      ]
     },
     "metadata": {
      "needs_background": "light"
     },
     "output_type": "display_data"
    },
    {
     "data": {
      "image/png": "[encoded data removed]",
      "text/plain": [
       "<Figure size 432x288 with 1 Axes>"
      ]
     },
     "metadata": {
      "needs_background": "light"
     },
     "output_type": "display_data"
    }
   ],
   "source": [
    "# Plot the data\n",
    "plot_distributions(y_train, y_train_hat, text = \"The prediction distributions on the Train set\")\n",
    "plot_distributions(y_test, y_test_hat, text = \"The prediction distributions on the Test set\")"
   ]
  },
  {
   "cell_type": "code",
   "execution_count": 83,
   "metadata": {},
   "outputs": [
    {
     "name": "stdout",
     "output_type": "stream",
     "text": [
      "[0.84471795 0.78566743 0.56406991 0.46316488]\n",
      "Generalization error estimate:  0.664405042265976 and the standard deviation is:  0.15635060931945782\n"
     ]
    }
   ],
   "source": [
    "# Cross validation is used to get a good estimate of the Generaliation error\n",
    "# Here the data is split in a number of equal parts and then all combinations\n",
    "# are used to do training and testing and estimating the Generalization errror\n",
    "# Then the average of the errors is used as an estimate of an out of sample error.\n",
    "\n",
    "lm = LinearRegression()\n",
    "\n",
    "#We have 4 buckets and a linear model plus the result is the R-square scores\n",
    "scores = cross_val_score(lm, x_data, y_data, cv=4)\n",
    "\n",
    "print(scores)\n",
    "print(\"Generalization error estimate: \", scores.mean(), \"and the standard deviation is: \" , scores.std())"
   ]
  },
  {
   "cell_type": "code",
   "execution_count": 86,
   "metadata": {},
   "outputs": [
    {
     "data": {
      "text/plain": [
       "array([20240865.23167852, 43737944.37864213, 12470270.77569642,\n",
       "       17574447.8797166 ])"
      ]
     },
     "execution_count": 86,
     "metadata": {},
     "output_type": "execute_result"
    }
   ],
   "source": [
    "# We can use negative squared error as a score by setting the\n",
    "# parameter  'scoring' metric to 'neg_mean_squared_error'. \n",
    "-1 * cross_val_score(lm, x_data[['horsepower']], y_data, cv=4, scoring='neg_mean_squared_error')"
   ]
  },
  {
   "cell_type": "code",
   "execution_count": 37,
   "metadata": {},
   "outputs": [],
   "source": [
    "# We can also just get the y_hat values for the cross validations\n",
    "\n",
    "lm = LinearRegression()\n",
    "\n",
    "#We have 4 buckets and a linear model plus the result is the R-square scores\n",
    "y_hat = cross_val_predict(lm, x_data, y_data, cv=4)"
   ]
  },
  {
   "cell_type": "code",
   "execution_count": 38,
   "metadata": {},
   "outputs": [],
   "source": [
    "# When fitting with polynomials:\n",
    "# Under fitting - is when the order is not high enough to follow the actual function of the data\n",
    "# Over fitting - is when the order is t too high and the model fits the noise\n",
    "#                This is especially apparent by that the model follow the data points very well\n",
    "#                but for the areas where there is no data, the function wildly ascelates\n",
    "# The best order of the polynomial to be chosen based on the testing error. The order is to be\n",
    "# increased until the test error decreases and then starts increasing again.\n",
    "\n",
    "# The noise is random and it is usually called an irreducible error\n",
    "\n",
    "# It is possible that the function the data comes from is not polynomial, e.g. \n",
    "# sinus or cosinus then the polynomial model will be good to fit the data well"
   ]
  },
  {
   "cell_type": "code",
   "execution_count": 56,
   "metadata": {},
   "outputs": [
    {
     "name": "stdout",
     "output_type": "stream",
     "text": [
      "The best order of polynomial is: 5\n"
     ]
    },
    {
     "data": {
      "image/png": "[encoded data removed]",
      "text/plain": [
       "<Figure size 432x288 with 1 Axes>"
      ]
     },
     "metadata": {
      "needs_background": "light"
     },
     "output_type": "display_data"
    }
   ],
   "source": [
    "# Let us do a training for several order polynomials\n",
    "RSQU_test = []\n",
    "degrees = range(10)\n",
    "\n",
    "#Just use one predictor for now\n",
    "x_train_p = x_train[[\"horsepower\"]]\n",
    "x_test_p = x_test[[\"horsepower\"]]\n",
    "\n",
    "lr = LinearRegression()\n",
    "\n",
    "for n in degrees:\n",
    "    # Create the transformer\n",
    "    pr = PolynomialFeatures(degree = n)\n",
    "    \n",
    "    #Train the model\n",
    "    x_train_pr = pr.fit_transform(x_train_p)\n",
    "    lr.fit(x_train_pr, y_train)\n",
    "    \n",
    "    #Test the model\n",
    "    x_test_pr = pr.fit_transform(x_test_p)\n",
    "    RSQU_test.append(lr.score(x_test_pr, y_test))\n",
    "\n",
    "# The best order of polynomial is\n",
    "min_rsqu = np.min(RSQU_test)\n",
    "max_rsqu = np.max(RSQU_test)\n",
    "best_order = degrees[RSQU_test.index(max_rsqu)]\n",
    "print(\"The best order of polynomial is: \" + str(best_order))\n",
    "\n",
    "plt.xlabel(\"Order polynomial model\")\n",
    "plt.xlabel(\"R^2 test set\")\n",
    "plt.title(\"The best polynomial model order is \" + str(best_order))\n",
    "plt.plot([best_order, best_order], [min_rsqu*0.5, max_rsqu*1.1], color = \"red\")\n",
    "plt.ylim(0,)\n",
    "plt.plot(degrees, RSQU_test)\n",
    "plt.show()\n",
    "plt.close()"
   ]
  },
  {
   "cell_type": "code",
   "execution_count": 58,
   "metadata": {},
   "outputs": [],
   "source": [
    "# Ridge regression prevents overfitting\n",
    "# The latter is also a big problem when there are\n",
    "# many predictors (features/independent variables)\n",
    "rm = Ridge(alpha = 0.1)\n",
    "\n",
    "rm.fit(x_train, y_train)\n",
    "\n",
    "y_test_hat = rm.predict(x_test)\n",
    "\n",
    "# The parameter alpha tuning is to be done on to maximize the\n",
    "# score on the test set which is then called a validation set"
   ]
  },
  {
   "cell_type": "code",
   "execution_count": 89,
   "metadata": {},
   "outputs": [
    {
     "name": "stdout",
     "output_type": "stream",
     "text": [
      "Best estimator: Ridge(alpha=0.1, copy_X=True, fit_intercept=True, max_iter=None, normalize=True,\n",
      "      random_state=None, solver='auto', tol=0.001)\n",
      "\n",
      "Best estimator test R^2 score:  0.8337054082996833\n",
      "\n",
      "Mean test scores: [ 0.66497709  0.66440505  0.66966027  0.6644051   0.69334688  0.66440563\n",
      "  0.6900439   0.66441088  0.32128586  0.66446305  0.01692918  0.66495255\n",
      " -0.03033666  0.66792625 -0.03531086  0.67237476 -0.03581087  0.65694618]\n",
      "\n",
      "Test scores for different prarameters: \n",
      "{'alpha': 0.001, 'normalize': True} R^2 on test data:  0.664977086330754\n",
      "{'alpha': 0.001, 'normalize': False} R^2 on test data:  0.6644050481058323\n",
      "{'alpha': 0.01, 'normalize': True} R^2 on test data:  0.6696602729239574\n",
      "{'alpha': 0.01, 'normalize': False} R^2 on test data:  0.6644051006641821\n",
      "{'alpha': 0.1, 'normalize': True} R^2 on test data:  0.6933468831453846\n",
      "{'alpha': 0.1, 'normalize': False} R^2 on test data:  0.6644056262129681\n",
      "{'alpha': 1, 'normalize': True} R^2 on test data:  0.6900438990625194\n",
      "{'alpha': 1, 'normalize': False} R^2 on test data:  0.6644108782320087\n",
      "{'alpha': 10, 'normalize': True} R^2 on test data:  0.32128585849605107\n",
      "{'alpha': 10, 'normalize': False} R^2 on test data:  0.6644630538801141\n",
      "{'alpha': 100, 'normalize': True} R^2 on test data:  0.01692918074006186\n",
      "{'alpha': 100, 'normalize': False} R^2 on test data:  0.6649525474251063\n",
      "{'alpha': 1000, 'normalize': True} R^2 on test data:  -0.030336655637089757\n",
      "{'alpha': 1000, 'normalize': False} R^2 on test data:  0.6679262462111506\n",
      "{'alpha': 10000, 'normalize': True} R^2 on test data:  -0.03531085755512664\n",
      "{'alpha': 10000, 'normalize': False} R^2 on test data:  0.6723747597308063\n",
      "{'alpha': 100000, 'normalize': True} R^2 on test data:  -0.0358108675949686\n",
      "{'alpha': 100000, 'normalize': False} R^2 on test data:  0.6569461838513326\n"
     ]
    }
   ],
   "source": [
    "# Model parameters are called Hyperparameters, Scikit-\n",
    "# lean allows to do grid seqrch tuning of those\n",
    "\n",
    "params = [{'alpha':[0.001, 0.01, 0.1, 1, 10, 100, 1000, 10000, 100000], 'normalize' : [True, False]}]\n",
    "\n",
    "rr = Ridge()\n",
    "\n",
    "gs = GridSearchCV(rr, params, cv = 4)\n",
    "\n",
    "gs.fit(x_data, y_data)\n",
    "\n",
    "print(\"Best estimator: \" + str(gs.best_estimator_))\n",
    "print(\"\\nBest estimator test R^2 score: \", gs.best_estimator_.score(x_test, y_test))\n",
    "\n",
    "print(\"\\nMean test scores: \" + str(gs.cv_results_['mean_test_score']))\n",
    "\n",
    "scores = gs.cv_results_\n",
    "\n",
    "print(\"\\nTest scores for different prarameters: \")\n",
    "for param, mean_val in zip(scores['params'], scores['mean_test_score']) : \n",
    "    print(param, \"R^2 on test data: \", mean_val)"
   ]
  },
  {
   "cell_type": "code",
   "execution_count": null,
   "metadata": {},
   "outputs": [],
   "source": []
  }
 ],
 "metadata": {
  "kernelspec": {
   "display_name": "Python 3",
   "language": "python",
   "name": "python3"
  },
  "language_info": {
   "codemirror_mode": {
    "name": "ipython",
    "version": 3
   },
   "file_extension": ".py",
   "mimetype": "text/x-python",
   "name": "python",
   "nbconvert_exporter": "python",
   "pygments_lexer": "ipython3",
   "version": "3.8.1"
  }
 },
 "nbformat": 4,
 "nbformat_minor": 2
}
