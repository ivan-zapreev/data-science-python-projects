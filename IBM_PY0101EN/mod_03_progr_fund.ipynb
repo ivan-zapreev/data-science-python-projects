{
 "cells": [
  {
   "cell_type": "code",
   "execution_count": 4,
   "metadata": {},
   "outputs": [
    {
     "name": "stdout",
     "output_type": "stream",
     "text": [
      "True\n",
      "False\n",
      "True\n",
      "True\n"
     ]
    }
   ],
   "source": [
    "# QUESTION 1: Find the values of i that produces a True for the following:\n",
    "\n",
    "i_vals = (1,0,-1,100000000)\n",
    "for i in i_vals:\n",
    "    print(i!=0)"
   ]
  },
  {
   "cell_type": "code",
   "execution_count": 6,
   "metadata": {},
   "outputs": [
    {
     "name": "stdout",
     "output_type": "stream",
     "text": [
      "this is a\n"
     ]
    }
   ],
   "source": [
    "# QUESTION 2: What is the output of the following:\n",
    "\n",
    "x = 'a'\n",
    "\n",
    "if(x != 'a'):\n",
    "    print(\"this is not a\")\n",
    "else:\n",
    "    print(\"this is a\")\n"
   ]
  },
  {
   "cell_type": "code",
   "execution_count": 8,
   "metadata": {},
   "outputs": [
    {
     "name": "stdout",
     "output_type": "stream",
     "text": [
      "3\n",
      "4\n",
      "5\n"
     ]
    }
   ],
   "source": [
    "# QUESTION 1: what is the output of the following lines of code:\n",
    "\n",
    "A=[3,4,5]\n",
    "\n",
    "for a in A:\n",
    "    print(a)\n"
   ]
  },
  {
   "cell_type": "code",
   "execution_count": 10,
   "metadata": {},
   "outputs": [
    {
     "name": "stdout",
     "output_type": "stream",
     "text": [
      "1\n",
      "2\n"
     ]
    }
   ],
   "source": [
    "# QUESTION 2: what is the output of the following lines of code:\n",
    "\n",
    "x=3\n",
    "y=1\n",
    "\n",
    "while(y!= x):\n",
    "    print(y)\n",
    "    y=y+1\n"
   ]
  },
  {
   "cell_type": "code",
   "execution_count": 11,
   "metadata": {},
   "outputs": [
    {
     "name": "stdout",
     "output_type": "stream",
     "text": [
      "11\n"
     ]
    }
   ],
   "source": [
    "# QUESTION 1: What is the value of c after the following block of code is run ?\n",
    "\n",
    "a = 1\n",
    "\n",
    "def add(b):\n",
    "    return a + b\n",
    "\n",
    "c = add(10)\n",
    "print(c)"
   ]
  },
  {
   "cell_type": "code",
   "execution_count": 16,
   "metadata": {},
   "outputs": [
    {
     "data": {
      "text/plain": [
       "6"
      ]
     },
     "execution_count": 16,
     "metadata": {},
     "output_type": "execute_result"
    }
   ],
   "source": [
    "# QUESTION 2: What is the value of c after the following block of code is run ?\n",
    "\n",
    "c = [1, 2, 3]\n",
    "\n",
    "def f(c):\n",
    "    return sum(c)\n",
    "\n",
    "f(c)\n",
    "\n",
    "#return the total of a variable amount of parameters "
   ]
  },
  {
   "cell_type": "code",
   "execution_count": 30,
   "metadata": {},
   "outputs": [
    {
     "name": "stdout",
     "output_type": "stream",
     "text": [
      "{ make : Honda, model : Accord, color : blue, owner_numer : 0}\n",
      "{ make : Honda, model : Accord, color : blue, owner_numer : 0}\n",
      "{ make : Honda, model : Accord, color : blue, owner_numer : 0}\n",
      "{ make : Accord, model : Honda, color : blue, owner_numer : 0}\n"
     ]
    }
   ],
   "source": [
    "# QUESTION 1: Using the Class Car in the lab, create a Car object with the following attributes:\n",
    "\n",
    "class Car(object):\n",
    "    def __init__(self, make, model, color):\n",
    "        self.make = make\n",
    "        self.model = model\n",
    "        self.color = color\n",
    "        self.owner_numer = 0\n",
    "        \n",
    "    def __str__(self):\n",
    "        \"\"\"Convert the object to string\"\"\"\n",
    "        return \"{ make : \" + str(self.make) + \\\n",
    "               \", model : \" + str(self.model) + \\\n",
    "               \", color : \" + str(self.color) + \\\n",
    "               \", owner_numer : \" + str(self.owner_numer) + \"}\";\n",
    "    \n",
    "    def sell(self):\n",
    "        \"\"\"Increments the number of owners\"\"\"\n",
    "        self.owner_numer += 1\n",
    "        \n",
    "    def info(self):\n",
    "        \"\"\"Prints the infor string\"\"\"\n",
    "        print(self)\n",
    "\n",
    "print(Car(make=\"Honda\", model=\"Accord\", color=\"blue\"))\n",
    "print(Car(\"Honda\", \"Accord\", \"blue\") )\n",
    "print(Car(model=\"Accord\", make=\"Honda\", color=\"blue\") )\n",
    "print(Car(\"Accord\", \"Honda\", \"blue\") )"
   ]
  },
  {
   "cell_type": "code",
   "execution_count": 33,
   "metadata": {},
   "outputs": [
    {
     "name": "stdout",
     "output_type": "stream",
     "text": [
      "{ make : Accord, model : Honda, color : blue, owner_numer : 0}\n",
      "{ make : Accord, model : Honda, color : blue, owner_numer : 1}\n"
     ]
    },
    {
     "data": {
      "text/plain": [
       "['__class__',\n",
       " '__delattr__',\n",
       " '__dict__',\n",
       " '__doc__',\n",
       " '__format__',\n",
       " '__getattribute__',\n",
       " '__hash__',\n",
       " '__init__',\n",
       " '__module__',\n",
       " '__new__',\n",
       " '__reduce__',\n",
       " '__reduce_ex__',\n",
       " '__repr__',\n",
       " '__setattr__',\n",
       " '__sizeof__',\n",
       " '__str__',\n",
       " '__subclasshook__',\n",
       " '__weakref__',\n",
       " 'info',\n",
       " 'sell']"
      ]
     },
     "execution_count": 33,
     "metadata": {},
     "output_type": "execute_result"
    }
   ],
   "source": [
    "# QUESTION 2: From the lab how would you change the data attribute owner_number \n",
    "\n",
    "my_car = Car(\"Accord\", \"Honda\", \"blue\")\n",
    "my_car.info()\n",
    "my_car.sell()\n",
    "my_car.info()\n",
    "dir(Car)"
   ]
  },
  {
   "cell_type": "code",
   "execution_count": 35,
   "metadata": {},
   "outputs": [
    {
     "name": "stdout",
     "output_type": "stream",
     "text": [
      "Hi\n",
      "Mike\n"
     ]
    }
   ],
   "source": [
    "# Question 1: What is the output of the following lines of code:\n",
    "x = 1\n",
    "\n",
    "if( x != 1):\n",
    "    print('Hello')\n",
    "else:\n",
    "    print('Hi')\n",
    "\n",
    "print('Mike')"
   ]
  },
  {
   "cell_type": "code",
   "execution_count": 37,
   "metadata": {},
   "outputs": [
    {
     "name": "stdout",
     "output_type": "stream",
     "text": [
      "11\n",
      "22\n",
      "33\n"
     ]
    }
   ],
   "source": [
    "# Question 2: What is the output of the following few lines of code ?\n",
    "\n",
    "A=['1','2','3']\n",
    "\n",
    "for a in A:\n",
    "    print(2*a)"
   ]
  },
  {
   "cell_type": "code",
   "execution_count": 39,
   "metadata": {},
   "outputs": [
    {
     "data": {
      "text/plain": [
       "1"
      ]
     },
     "execution_count": 39,
     "metadata": {},
     "output_type": "execute_result"
    }
   ],
   "source": [
    "# Question 3: Consider the function Delta, when will the function return a value of 1\n",
    "\n",
    "def Delta(x):\n",
    "    if x == 0:\n",
    "        y = 1;\n",
    "    else:\n",
    "        y = 0;\n",
    "    return(y)\n",
    "\n",
    "Delta(0)"
   ]
  },
  {
   "cell_type": "code",
   "execution_count": 42,
   "metadata": {},
   "outputs": [
    {
     "name": "stdout",
     "output_type": "stream",
     "text": [
      "('Before sorting: ', [3, 451, -324, 434.6])\n",
      "('After sorting: ', [-324, 3, 434.6, 451])\n"
     ]
    }
   ],
   "source": [
    "# Question 4: What is the correct way to sort the list 'B' using a method, the\n",
    "#             result should not return a new list, just change the list 'B'.\n",
    "\n",
    "B = [3,451,-324,434.6]\n",
    "print(\"Before sorting: \", B)\n",
    "B.sort()\n",
    "print(\"After sorting: \", B)\n"
   ]
  },
  {
   "cell_type": "code",
   "execution_count": 43,
   "metadata": {},
   "outputs": [
    {
     "data": {
      "text/plain": [
       "['a', 'b']"
      ]
     },
     "execution_count": 43,
     "metadata": {},
     "output_type": "execute_result"
    }
   ],
   "source": [
    "# Question 5: what are the keys of the of the following {'a':1,'b':2}\n",
    "a_map = {'a':1,'b':2}\n",
    "a_map.keys()"
   ]
  }
 ],
 "metadata": {
  "kernelspec": {
   "display_name": "Python 2",
   "language": "python",
   "name": "python2"
  },
  "language_info": {
   "codemirror_mode": {
    "name": "ipython",
    "version": 2
   },
   "file_extension": ".py",
   "mimetype": "text/x-python",
   "name": "python",
   "nbconvert_exporter": "python",
   "pygments_lexer": "ipython2",
   "version": "2.7.16"
  }
 },
 "nbformat": 4,
 "nbformat_minor": 2
}
