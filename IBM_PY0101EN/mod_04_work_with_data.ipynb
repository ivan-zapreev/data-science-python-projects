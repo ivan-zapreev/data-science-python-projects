{
 "cells": [
  {
   "cell_type": "code",
   "execution_count": 33,
   "metadata": {},
   "outputs": [
    {
     "name": "stdout",
     "output_type": "stream",
     "text": [
      "data/niche_expertise.txt\n",
      "('File content:\\n', ['Our niche expertise covers: \\n', '\\xe2\\x80\\xa2 Go-to-Market Roles:  Account Executive  /  Pre-sales Consultant  /  VP Sales  /  Business Development Executive\\n', '\\xe2\\x80\\xa2 Big Data:  Hadoop  /  Spark  /  Cloudera  /   MapR Tech  /  Hortonworks \\n', '\\xe2\\x80\\xa2 Data Science:  R  /  Python  /  Matlab  /  SAS / Cognos\\n', '\\xe2\\x80\\xa2 BI Suite:  MSBI  /  Tableau  /  Sisense  /  Power BI  /  QlikView\\n', '\\xe2\\x80\\xa2 Machine Learning:  Keras  /  Torch  /   Ms Azure  /  AML  /  Tensorflow\\n', '\\xe2\\x80\\xa2 Cloud:  AWS  /  Azure  /  Google Cloud Platform\\n', '\\xe2\\x80\\xa2 Software Engineering: JavaScript (Vue, React, Angular etc)  /  TypeScript  /  Java (Spring, MVC, Struts etc)  /  .NET \\n', '\\xe2\\x80\\xa2 Other Digital Roles: Business Analysis  /   Automated Test Engineering  /  Project Management  /  Scrum Master  /  Platform Engineering'])\n"
     ]
    }
   ],
   "source": [
    "# Open a file for reading and get the file name and text, then close\n",
    "file = open(\"data/niche_expertise.txt\", \"r\")\n",
    "print(\"File name: \", file.name)\n",
    "text = file.readlines()\n",
    "print(\"File content:\\n\", text)\n",
    "file.close()"
   ]
  },
  {
   "cell_type": "code",
   "execution_count": 14,
   "metadata": {},
   "outputs": [
    {
     "name": "stdout",
     "output_type": "stream",
     "text": [
      "('File name: ', 'data/niche_expertise.txt')\n",
      "('File lines:\\n', ['Our niche expertise covers: \\n', '\\xe2\\x80\\xa2 Go-to-Market Roles:  Account Executive  /  Pre-sales Consultant  /  VP Sales  /  Business Development Executive\\n', '\\xe2\\x80\\xa2 Big Data:  Hadoop  /  Spark  /  Cloudera  /   MapR Tech  /  Hortonworks \\n', '\\xe2\\x80\\xa2 Data Science:  R  /  Python  /  Matlab  /  SAS / Cognos\\n', '\\xe2\\x80\\xa2 BI Suite:  MSBI  /  Tableau  /  Sisense  /  Power BI  /  QlikView\\n', '\\xe2\\x80\\xa2 Machine Learning:  Keras  /  Torch  /   Ms Azure  /  AML  /  Tensorflow\\n', '\\xe2\\x80\\xa2 Cloud:  AWS  /  Azure  /  Google Cloud Platform\\n', '\\xe2\\x80\\xa2 Software Engineering: JavaScript (Vue, React, Angular etc)  /  TypeScript  /  Java (Spring, MVC, Struts etc)  /  .NET \\n', '\\xe2\\x80\\xa2 Other Digital Roles: Business Analysis  /   Automated Test Engineering  /  Project Management  /  Scrum Master  /  Platform Engineering'])\n",
      "('Is file closed:', True)\n",
      "('File content:\\n', ['Our niche expertise covers: \\n', '\\xe2\\x80\\xa2 Go-to-Market Roles:  Account Executive  /  Pre-sales Consultant  /  VP Sales  /  Business Development Executive\\n', '\\xe2\\x80\\xa2 Big Data:  Hadoop  /  Spark  /  Cloudera  /   MapR Tech  /  Hortonworks \\n', '\\xe2\\x80\\xa2 Data Science:  R  /  Python  /  Matlab  /  SAS / Cognos\\n', '\\xe2\\x80\\xa2 BI Suite:  MSBI  /  Tableau  /  Sisense  /  Power BI  /  QlikView\\n', '\\xe2\\x80\\xa2 Machine Learning:  Keras  /  Torch  /   Ms Azure  /  AML  /  Tensorflow\\n', '\\xe2\\x80\\xa2 Cloud:  AWS  /  Azure  /  Google Cloud Platform\\n', '\\xe2\\x80\\xa2 Software Engineering: JavaScript (Vue, React, Angular etc)  /  TypeScript  /  Java (Spring, MVC, Struts etc)  /  .NET \\n', '\\xe2\\x80\\xa2 Other Digital Roles: Business Analysis  /   Automated Test Engineering  /  Project Management  /  Scrum Master  /  Platform Engineering'])\n"
     ]
    }
   ],
   "source": [
    "#Working with the with statements, the file gets closed by the end of the indent block\n",
    "with open(\"data/niche_expertise.txt\", \"r\") as my_file:\n",
    "    print(\"File name: \", file.name)\n",
    "    lines = my_file.readlines()\n",
    "    print(\"File lines:\\n\", lines)\n",
    "\n",
    "#We cancheck if the file is closed but we can NOT read its content any more\n",
    "print(\"Is file closed:\", my_file.closed)\n",
    "\n",
    "#The data from within the indent block is still present\n",
    "print(\"File content:\\n\", lines)\n"
   ]
  },
  {
   "cell_type": "code",
   "execution_count": 17,
   "metadata": {},
   "outputs": [
    {
     "name": "stdout",
     "output_type": "stream",
     "text": [
      "('File ', 'data/niche_expertise.txt', ' content: ', 'Our niche expertise covers: \\n\\xe2\\x80\\xa2 Go-to-Market Roles:  Account Executive  /  Pre-sales Consultant  /  VP Sales  /  Business Development Executive\\n\\xe2\\x80\\xa2 Big Data:  Hadoop  /  Spark  /  Cloudera  /   MapR Tech  /  Hortonworks \\n\\xe2\\x80\\xa2 Data Science:  R  /  Python  /  Matlab  /  SAS / Cognos\\n\\xe2\\x80\\xa2 BI Suite:  MSBI  /  Tableau  /  Sisense  /  Power BI  /  QlikView\\n\\xe2\\x80\\xa2 Machine Learning:  Keras  /  Torch  /   Ms Azure  /  AML  /  Tensorflow\\n\\xe2\\x80\\xa2 Cloud:  AWS  /  Azure  /  Google Cloud Platform\\n\\xe2\\x80\\xa2 Software Engineering: JavaScript (Vue, React, Angular etc)  /  TypeScript  /  Java (Spring, MVC, Struts etc)  /  .NET \\n\\xe2\\x80\\xa2 Other Digital Roles: Business Analysis  /   Automated Test Engineering  /  Project Management  /  Scrum Master  /  Platform Engineering')\n"
     ]
    }
   ],
   "source": [
    "#Read the file content not as lines but just with read\n",
    "with open(\"data/niche_expertise.txt\", \"r\") as my_file:\n",
    "    content = my_file.read()\n",
    "\n",
    "print(\"File \", my_file.name, \" content: \", content)\n"
   ]
  },
  {
   "cell_type": "code",
   "execution_count": 23,
   "metadata": {},
   "outputs": [
    {
     "name": "stdout",
     "output_type": "stream",
     "text": [
      "Our niche expertise covers: \n",
      "\n",
      "• Go-to-Market Roles:  Account Executive  /  Pre-sales Consultant  /  VP Sales  /  Business Development Executive\n",
      "\n",
      "• Big Data:  Hadoop  /  Spark  /  Cloudera  /   MapR Tech  /  Hortonworks \n",
      "\n",
      "• Data Science:  R  /  Python  /  Matlab  /  SAS / Cognos\n",
      "\n",
      "• BI Suite:  MSBI  /  Tableau  /  Sisense  /  Power BI  /  QlikView\n",
      "\n",
      "• Machine Learning:  Keras  /  Torch  /   Ms Azure  /  AML  /  Tensorflow\n",
      "\n",
      "• Cloud:  AWS  /  Azure  /  Google Cloud Platform\n",
      "\n",
      "• Software Engineering: JavaScript (Vue, React, Angular etc)  /  TypeScript  /  Java (Spring, MVC, Struts etc)  /  .NET \n",
      "\n",
      "• Other Digital Roles: Business Analysis  /   Automated Test Engineering  /  Project Management  /  Scrum Master  /  Platform Engineering\n",
      "\n"
     ]
    }
   ],
   "source": [
    "#Read file line by line\n",
    "with open(\"data/niche_expertise.txt\", \"r\") as my_file:\n",
    "    line = \"dummy\"\n",
    "    while(line):\n",
    "        line = my_file.readline()\n",
    "        print(line)"
   ]
  },
  {
   "cell_type": "code",
   "execution_count": 26,
   "metadata": {},
   "outputs": [
    {
     "name": "stdout",
     "output_type": "stream",
     "text": [
      "Our niche expertise covers: \n",
      "\n",
      "• Go-to-Market Roles:  Account Executive  /  Pre-sales Consultant  /  VP Sales  /  Business Development Executive\n",
      "\n",
      "• Big Data:  Hadoop  /  Spark  /  Cloudera  /   MapR Tech  /  Hortonworks \n",
      "\n",
      "• Data Science:  R  /  Python  /  Matlab  /  SAS / Cognos\n",
      "\n",
      "• BI Suite:  MSBI  /  Tableau  /  Sisense  /  Power BI  /  QlikView\n",
      "\n",
      "• Machine Learning:  Keras  /  Torch  /   Ms Azure  /  AML  /  Tensorflow\n",
      "\n",
      "• Cloud:  AWS  /  Azure  /  Google Cloud Platform\n",
      "\n",
      "• Software Engineering: JavaScript (Vue, React, Angular etc)  /  TypeScript  /  Java (Spring, MVC, Struts etc)  /  .NET \n",
      "\n",
      "• Other Digital Roles: Business Analysis  /   Automated Test Engineering  /  Project Management  /  Scrum Master  /  Platform Engineering\n"
     ]
    }
   ],
   "source": [
    "#Read file line by line\n",
    "with open(\"data/niche_expertise.txt\", \"r\") as my_file:\n",
    "    while(True):\n",
    "        line = my_file.readline()\n",
    "        if (not line):\n",
    "            break\n",
    "        else:\n",
    "            print(line)"
   ]
  },
  {
   "cell_type": "code",
   "execution_count": 28,
   "metadata": {},
   "outputs": [
    {
     "name": "stdout",
     "output_type": "stream",
     "text": [
      "Our niche expertise covers: \n",
      "\n",
      "• Go-to-Market Roles:  Account Executive  /  Pre-sales Consultant  /  VP Sales  /  Business Development Executive\n",
      "\n",
      "• Big Data:  Hadoop  /  Spark  /  Cloudera  /   MapR Tech  /  Hortonworks \n",
      "\n",
      "• Data Science:  R  /  Python  /  Matlab  /  SAS / Cognos\n",
      "\n",
      "• BI Suite:  MSBI  /  Tableau  /  Sisense  /  Power BI  /  QlikView\n",
      "\n",
      "• Machine Learning:  Keras  /  Torch  /   Ms Azure  /  AML  /  Tensorflow\n",
      "\n",
      "• Cloud:  AWS  /  Azure  /  Google Cloud Platform\n",
      "\n",
      "• Software Engineering: JavaScript (Vue, React, Angular etc)  /  TypeScript  /  Java (Spring, MVC, Struts etc)  /  .NET \n",
      "\n",
      "• Other Digital Roles: Business Analysis  /   Automated Test Engineering  /  Project Management  /  Scrum Master  /  Platform Engineering\n"
     ]
    }
   ],
   "source": [
    "#Read file line by line\n",
    "with open(\"data/niche_expertise.txt\", \"r\") as my_file:\n",
    "    lines = my_file.readlines()\n",
    "    for line in lines:\n",
    "        print(line)"
   ]
  },
  {
   "cell_type": "code",
   "execution_count": 4,
   "metadata": {},
   "outputs": [
    {
     "name": "stdout",
     "output_type": "stream",
     "text": [
      "Our niche \n",
      "expertise covers: \n",
      "�\n",
      "�� Go-to-Market Roles:  Accoun\n"
     ]
    }
   ],
   "source": [
    "#Read by a number of characters\n",
    "with open(\"data/niche_expertise.txt\", \"r\") as my_file:\n",
    "    line = my_file.read(10)\n",
    "    print(line)\n",
    "    line = my_file.read(20)\n",
    "    print(line)\n",
    "    line = my_file.read(30)\n",
    "    print(line)\n",
    " "
   ]
  },
  {
   "cell_type": "code",
   "execution_count": 7,
   "metadata": {},
   "outputs": [
    {
     "name": "stdout",
     "output_type": "stream",
     "text": [
      "Our niche expertise covers: \n",
      "\n",
      "• Go-to-Market Roles:  Account Executive  /  Pre-sales Consultant  /  VP Sales  /  Business Development Executive\n",
      "\n",
      "• Big Data:  Hadoop  /  Spark  /  Cloudera  /   MapR Tech  /  Hortonworks \n",
      "\n",
      "• Data Science:  R  /  Python  /  Matlab  /  SAS / Cognos\n",
      "\n",
      "• BI Suite:  MSBI  /  Tableau  /  Sisense  /  Power BI  /  QlikView\n",
      "\n",
      "• Machine Learning:  Keras  /  Torch  /   Ms Azure  /  AML  /  Tensorflow\n",
      "\n",
      "• Cloud:  AWS  /  Azure  /  Google Cloud Platform\n",
      "\n",
      "• Software Engineering: JavaScript (Vue, React, Angular etc)  /  TypeScript  /  Java (Spring, MVC, Struts etc)  /  .NET \n",
      "\n",
      "• Other Digital Roles: Business Analysis  /   Automated Test Engineering  /  Project Management  /  Scrum Master  /  Platform Engineering\n"
     ]
    }
   ],
   "source": [
    "#Iterate through the lines easily\n",
    "with open(\"data/niche_expertise.txt\", \"r\") as my_file:\n",
    "    for line in my_file:\n",
    "        print(line)"
   ]
  },
  {
   "cell_type": "code",
   "execution_count": 12,
   "metadata": {},
   "outputs": [
    {
     "name": "stdout",
     "output_type": "stream",
     "text": [
      "what are you?\n",
      "\n",
      "I shall prevale!\n",
      "\n"
     ]
    }
   ],
   "source": [
    "# Write into the file\n",
    "file_name = \"data/some_data.txt\"\n",
    "with open(file_name, \"w\") as my_file:\n",
    "    my_file.write(\"what are you?\\n\")\n",
    "    my_file.write(\"I shall prevale!\\n\")\n",
    "\n",
    "with open(file_name, \"r\") as my_file:\n",
    "    for line in my_file:\n",
    "        print(line)"
   ]
  },
  {
   "cell_type": "code",
   "execution_count": 14,
   "metadata": {},
   "outputs": [
    {
     "name": "stdout",
     "output_type": "stream",
     "text": [
      "what are you?\n",
      "\n",
      "I shall prevale!\n",
      "\n",
      "I am not sure\n",
      "\n",
      "There is no purpose\n",
      "\n",
      "I am not sure\n",
      "\n",
      "There is no purpose\n",
      "\n"
     ]
    }
   ],
   "source": [
    "# Append into the file\n",
    "file_name = \"data/some_data.txt\"\n",
    "with open(file_name, \"a\") as my_file:\n",
    "    my_file.write(\"I am not sure\\n\")\n",
    "    my_file.write(\"There is no purpose\\n\")\n",
    "\n",
    "with open(file_name, \"r\") as my_file:\n",
    "    for line in my_file:\n",
    "        print(line)"
   ]
  },
  {
   "cell_type": "code",
   "execution_count": 6,
   "metadata": {},
   "outputs": [
    {
     "name": "stdout",
     "output_type": "stream",
     "text": [
      "Index([u'name', u'genus', u'vore', u'order', u'conservation', u'sleep_total',\n",
      "       u'sleep_rem', u'sleep_cycle', u'awake', u'brainwt', u'bodywt'],\n",
      "      dtype='object')\n"
     ]
    },
    {
     "data": {
      "text/html": [
       "<div>\n",
       "<style scoped>\n",
       "    .dataframe tbody tr th:only-of-type {\n",
       "        vertical-align: middle;\n",
       "    }\n",
       "\n",
       "    .dataframe tbody tr th {\n",
       "        vertical-align: top;\n",
       "    }\n",
       "\n",
       "    .dataframe thead th {\n",
       "        text-align: right;\n",
       "    }\n",
       "</style>\n",
       "<table border=\"1\" class=\"dataframe\">\n",
       "  <thead>\n",
       "    <tr style=\"text-align: right;\">\n",
       "      <th></th>\n",
       "      <th>name</th>\n",
       "      <th>genus</th>\n",
       "      <th>vore</th>\n",
       "      <th>order</th>\n",
       "      <th>conservation</th>\n",
       "      <th>sleep_total</th>\n",
       "      <th>sleep_rem</th>\n",
       "      <th>sleep_cycle</th>\n",
       "      <th>awake</th>\n",
       "      <th>brainwt</th>\n",
       "      <th>bodywt</th>\n",
       "    </tr>\n",
       "  </thead>\n",
       "  <tbody>\n",
       "    <tr>\n",
       "      <th>0</th>\n",
       "      <td>Cheetah</td>\n",
       "      <td>Acinonyx</td>\n",
       "      <td>carni</td>\n",
       "      <td>Carnivora</td>\n",
       "      <td>lc</td>\n",
       "      <td>12.1</td>\n",
       "      <td>NaN</td>\n",
       "      <td>NaN</td>\n",
       "      <td>11.9</td>\n",
       "      <td>NaN</td>\n",
       "      <td>50.000</td>\n",
       "    </tr>\n",
       "    <tr>\n",
       "      <th>1</th>\n",
       "      <td>Owl monkey</td>\n",
       "      <td>Aotus</td>\n",
       "      <td>omni</td>\n",
       "      <td>Primates</td>\n",
       "      <td>NaN</td>\n",
       "      <td>17.0</td>\n",
       "      <td>1.8</td>\n",
       "      <td>NaN</td>\n",
       "      <td>7.0</td>\n",
       "      <td>0.01550</td>\n",
       "      <td>0.480</td>\n",
       "    </tr>\n",
       "    <tr>\n",
       "      <th>2</th>\n",
       "      <td>Mountain beaver</td>\n",
       "      <td>Aplodontia</td>\n",
       "      <td>herbi</td>\n",
       "      <td>Rodentia</td>\n",
       "      <td>nt</td>\n",
       "      <td>14.4</td>\n",
       "      <td>2.4</td>\n",
       "      <td>NaN</td>\n",
       "      <td>9.6</td>\n",
       "      <td>NaN</td>\n",
       "      <td>1.350</td>\n",
       "    </tr>\n",
       "    <tr>\n",
       "      <th>3</th>\n",
       "      <td>Greater short-tailed shrew</td>\n",
       "      <td>Blarina</td>\n",
       "      <td>omni</td>\n",
       "      <td>Soricomorpha</td>\n",
       "      <td>lc</td>\n",
       "      <td>14.9</td>\n",
       "      <td>2.3</td>\n",
       "      <td>0.133333</td>\n",
       "      <td>9.1</td>\n",
       "      <td>0.00029</td>\n",
       "      <td>0.019</td>\n",
       "    </tr>\n",
       "    <tr>\n",
       "      <th>4</th>\n",
       "      <td>Cow</td>\n",
       "      <td>Bos</td>\n",
       "      <td>herbi</td>\n",
       "      <td>Artiodactyla</td>\n",
       "      <td>domesticated</td>\n",
       "      <td>4.0</td>\n",
       "      <td>0.7</td>\n",
       "      <td>0.666667</td>\n",
       "      <td>20.0</td>\n",
       "      <td>0.42300</td>\n",
       "      <td>600.000</td>\n",
       "    </tr>\n",
       "  </tbody>\n",
       "</table>\n",
       "</div>"
      ],
      "text/plain": [
       "                         name       genus   vore         order  conservation  \\\n",
       "0                     Cheetah    Acinonyx  carni     Carnivora            lc   \n",
       "1                  Owl monkey       Aotus   omni      Primates           NaN   \n",
       "2             Mountain beaver  Aplodontia  herbi      Rodentia            nt   \n",
       "3  Greater short-tailed shrew     Blarina   omni  Soricomorpha            lc   \n",
       "4                         Cow         Bos  herbi  Artiodactyla  domesticated   \n",
       "\n",
       "   sleep_total  sleep_rem  sleep_cycle  awake  brainwt   bodywt  \n",
       "0         12.1        NaN          NaN   11.9      NaN   50.000  \n",
       "1         17.0        1.8          NaN    7.0  0.01550    0.480  \n",
       "2         14.4        2.4          NaN    9.6      NaN    1.350  \n",
       "3         14.9        2.3     0.133333    9.1  0.00029    0.019  \n",
       "4          4.0        0.7     0.666667   20.0  0.42300  600.000  "
      ]
     },
     "execution_count": 6,
     "metadata": {},
     "output_type": "execute_result"
    }
   ],
   "source": [
    "#Using pandas to load a csv file into a data frame\n",
    "import pandas as pd\n",
    "\n",
    "file_name = \"data/msleep_ggplot2.csv\"\n",
    "\n",
    "df = pd.read_csv(file_name)\n",
    "\n",
    "print(df.keys())\n",
    "\n",
    "df.head()"
   ]
  },
  {
   "cell_type": "code",
   "execution_count": 2,
   "metadata": {},
   "outputs": [
    {
     "data": {
      "text/html": [
       "<div>\n",
       "<style scoped>\n",
       "    .dataframe tbody tr th:only-of-type {\n",
       "        vertical-align: middle;\n",
       "    }\n",
       "\n",
       "    .dataframe tbody tr th {\n",
       "        vertical-align: top;\n",
       "    }\n",
       "\n",
       "    .dataframe thead th {\n",
       "        text-align: right;\n",
       "    }\n",
       "</style>\n",
       "<table border=\"1\" class=\"dataframe\">\n",
       "  <thead>\n",
       "    <tr style=\"text-align: right;\">\n",
       "      <th></th>\n",
       "      <th>Segment</th>\n",
       "      <th>Country</th>\n",
       "      <th>Product</th>\n",
       "      <th>Discount Band</th>\n",
       "      <th>Units Sold</th>\n",
       "      <th>Manufacturing Price</th>\n",
       "      <th>Sale Price</th>\n",
       "      <th>Gross Sales</th>\n",
       "      <th>Discounts</th>\n",
       "      <th>Sales</th>\n",
       "      <th>COGS</th>\n",
       "      <th>Profit</th>\n",
       "      <th>Date</th>\n",
       "      <th>Month Number</th>\n",
       "      <th>Month Name</th>\n",
       "      <th>Year</th>\n",
       "    </tr>\n",
       "  </thead>\n",
       "  <tbody>\n",
       "    <tr>\n",
       "      <th>0</th>\n",
       "      <td>Government</td>\n",
       "      <td>Canada</td>\n",
       "      <td>Carretera</td>\n",
       "      <td>None</td>\n",
       "      <td>1618.5</td>\n",
       "      <td>3</td>\n",
       "      <td>20</td>\n",
       "      <td>32370.0</td>\n",
       "      <td>0.0</td>\n",
       "      <td>32370.0</td>\n",
       "      <td>16185.0</td>\n",
       "      <td>16185.0</td>\n",
       "      <td>2014-01-01</td>\n",
       "      <td>1</td>\n",
       "      <td>January</td>\n",
       "      <td>2014</td>\n",
       "    </tr>\n",
       "    <tr>\n",
       "      <th>1</th>\n",
       "      <td>Government</td>\n",
       "      <td>Germany</td>\n",
       "      <td>Carretera</td>\n",
       "      <td>None</td>\n",
       "      <td>1321.0</td>\n",
       "      <td>3</td>\n",
       "      <td>20</td>\n",
       "      <td>26420.0</td>\n",
       "      <td>0.0</td>\n",
       "      <td>26420.0</td>\n",
       "      <td>13210.0</td>\n",
       "      <td>13210.0</td>\n",
       "      <td>2014-01-01</td>\n",
       "      <td>1</td>\n",
       "      <td>January</td>\n",
       "      <td>2014</td>\n",
       "    </tr>\n",
       "    <tr>\n",
       "      <th>2</th>\n",
       "      <td>Midmarket</td>\n",
       "      <td>France</td>\n",
       "      <td>Carretera</td>\n",
       "      <td>None</td>\n",
       "      <td>2178.0</td>\n",
       "      <td>3</td>\n",
       "      <td>15</td>\n",
       "      <td>32670.0</td>\n",
       "      <td>0.0</td>\n",
       "      <td>32670.0</td>\n",
       "      <td>21780.0</td>\n",
       "      <td>10890.0</td>\n",
       "      <td>2014-06-01</td>\n",
       "      <td>6</td>\n",
       "      <td>June</td>\n",
       "      <td>2014</td>\n",
       "    </tr>\n",
       "    <tr>\n",
       "      <th>3</th>\n",
       "      <td>Midmarket</td>\n",
       "      <td>Germany</td>\n",
       "      <td>Carretera</td>\n",
       "      <td>None</td>\n",
       "      <td>888.0</td>\n",
       "      <td>3</td>\n",
       "      <td>15</td>\n",
       "      <td>13320.0</td>\n",
       "      <td>0.0</td>\n",
       "      <td>13320.0</td>\n",
       "      <td>8880.0</td>\n",
       "      <td>4440.0</td>\n",
       "      <td>2014-06-01</td>\n",
       "      <td>6</td>\n",
       "      <td>June</td>\n",
       "      <td>2014</td>\n",
       "    </tr>\n",
       "    <tr>\n",
       "      <th>4</th>\n",
       "      <td>Midmarket</td>\n",
       "      <td>Mexico</td>\n",
       "      <td>Carretera</td>\n",
       "      <td>None</td>\n",
       "      <td>2470.0</td>\n",
       "      <td>3</td>\n",
       "      <td>15</td>\n",
       "      <td>37050.0</td>\n",
       "      <td>0.0</td>\n",
       "      <td>37050.0</td>\n",
       "      <td>24700.0</td>\n",
       "      <td>12350.0</td>\n",
       "      <td>2014-06-01</td>\n",
       "      <td>6</td>\n",
       "      <td>June</td>\n",
       "      <td>2014</td>\n",
       "    </tr>\n",
       "  </tbody>\n",
       "</table>\n",
       "</div>"
      ],
      "text/plain": [
       "      Segment  Country    Product Discount Band  Units Sold  \\\n",
       "0  Government   Canada  Carretera          None      1618.5   \n",
       "1  Government  Germany  Carretera          None      1321.0   \n",
       "2   Midmarket   France  Carretera          None      2178.0   \n",
       "3   Midmarket  Germany  Carretera          None       888.0   \n",
       "4   Midmarket   Mexico  Carretera          None      2470.0   \n",
       "\n",
       "   Manufacturing Price  Sale Price  Gross Sales  Discounts    Sales     COGS  \\\n",
       "0                    3          20      32370.0        0.0  32370.0  16185.0   \n",
       "1                    3          20      26420.0        0.0  26420.0  13210.0   \n",
       "2                    3          15      32670.0        0.0  32670.0  21780.0   \n",
       "3                    3          15      13320.0        0.0  13320.0   8880.0   \n",
       "4                    3          15      37050.0        0.0  37050.0  24700.0   \n",
       "\n",
       "    Profit       Date  Month Number Month Name  Year  \n",
       "0  16185.0 2014-01-01             1    January  2014  \n",
       "1  13210.0 2014-01-01             1    January  2014  \n",
       "2  10890.0 2014-06-01             6       June  2014  \n",
       "3   4440.0 2014-06-01             6       June  2014  \n",
       "4  12350.0 2014-06-01             6       June  2014  "
      ]
     },
     "execution_count": 2,
     "metadata": {},
     "output_type": "execute_result"
    }
   ],
   "source": [
    "#Using pandas to load a excel file into a data frame\n",
    "import pandas as pd\n",
    "\n",
    "file_name = \"data/fin_sample.xlsx\"\n",
    "df = pd.read_excel(file_name)\n",
    "\n",
    "df.head()"
   ]
  },
  {
   "cell_type": "code",
   "execution_count": 11,
   "metadata": {},
   "outputs": [
    {
     "data": {
      "text/html": [
       "<div>\n",
       "<style scoped>\n",
       "    .dataframe tbody tr th:only-of-type {\n",
       "        vertical-align: middle;\n",
       "    }\n",
       "\n",
       "    .dataframe tbody tr th {\n",
       "        vertical-align: top;\n",
       "    }\n",
       "\n",
       "    .dataframe thead th {\n",
       "        text-align: right;\n",
       "    }\n",
       "</style>\n",
       "<table border=\"1\" class=\"dataframe\">\n",
       "  <thead>\n",
       "    <tr style=\"text-align: right;\">\n",
       "      <th></th>\n",
       "      <th>Father</th>\n",
       "      <th>Mother</th>\n",
       "      <th>Names</th>\n",
       "      <th>Year</th>\n",
       "    </tr>\n",
       "  </thead>\n",
       "  <tbody>\n",
       "    <tr>\n",
       "      <th>0</th>\n",
       "      <td>Ivan</td>\n",
       "      <td>Galina</td>\n",
       "      <td>Katerina</td>\n",
       "      <td>2011</td>\n",
       "    </tr>\n",
       "    <tr>\n",
       "      <th>1</th>\n",
       "      <td>Ivan</td>\n",
       "      <td>Galina</td>\n",
       "      <td>Georgi</td>\n",
       "      <td>2017</td>\n",
       "    </tr>\n",
       "    <tr>\n",
       "      <th>2</th>\n",
       "      <td>Ivan</td>\n",
       "      <td>Galina</td>\n",
       "      <td>Juri</td>\n",
       "      <td>2017</td>\n",
       "    </tr>\n",
       "    <tr>\n",
       "      <th>3</th>\n",
       "      <td>Ivan</td>\n",
       "      <td>Galina</td>\n",
       "      <td>Denis</td>\n",
       "      <td>2019</td>\n",
       "    </tr>\n",
       "  </tbody>\n",
       "</table>\n",
       "</div>"
      ],
      "text/plain": [
       "  Father  Mother     Names  Year\n",
       "0   Ivan  Galina  Katerina  2011\n",
       "1   Ivan  Galina    Georgi  2017\n",
       "2   Ivan  Galina      Juri  2017\n",
       "3   Ivan  Galina     Denis  2019"
      ]
     },
     "execution_count": 11,
     "metadata": {},
     "output_type": "execute_result"
    }
   ],
   "source": [
    "import pandas as pd\n",
    "\n",
    "#Create a data frame out of a dictionary\n",
    "Kids = {\"Names\":[\"Katerina\",\"Georgi\",\"Juri\",\"Denis\"],\n",
    "        \"Year\":[2011, 2017, 2017, 2019],\n",
    "        \"Mother\": [\"Galina\", \"Galina\", \"Galina\", \"Galina\"],\n",
    "        \"Father\": [\"Ivan\", \"Ivan\", \"Ivan\", \"Ivan\"]}\n",
    "\n",
    "df = pd.DataFrame(Kids)\n",
    "\n",
    "df.head()"
   ]
  },
  {
   "cell_type": "code",
   "execution_count": 14,
   "metadata": {},
   "outputs": [
    {
     "data": {
      "text/html": [
       "<div>\n",
       "<style scoped>\n",
       "    .dataframe tbody tr th:only-of-type {\n",
       "        vertical-align: middle;\n",
       "    }\n",
       "\n",
       "    .dataframe tbody tr th {\n",
       "        vertical-align: top;\n",
       "    }\n",
       "\n",
       "    .dataframe thead th {\n",
       "        text-align: right;\n",
       "    }\n",
       "</style>\n",
       "<table border=\"1\" class=\"dataframe\">\n",
       "  <thead>\n",
       "    <tr style=\"text-align: right;\">\n",
       "      <th></th>\n",
       "      <th>Names</th>\n",
       "      <th>Year</th>\n",
       "    </tr>\n",
       "  </thead>\n",
       "  <tbody>\n",
       "    <tr>\n",
       "      <th>0</th>\n",
       "      <td>Katerina</td>\n",
       "      <td>2011</td>\n",
       "    </tr>\n",
       "    <tr>\n",
       "      <th>1</th>\n",
       "      <td>Georgi</td>\n",
       "      <td>2017</td>\n",
       "    </tr>\n",
       "    <tr>\n",
       "      <th>2</th>\n",
       "      <td>Juri</td>\n",
       "      <td>2017</td>\n",
       "    </tr>\n",
       "    <tr>\n",
       "      <th>3</th>\n",
       "      <td>Denis</td>\n",
       "      <td>2019</td>\n",
       "    </tr>\n",
       "  </tbody>\n",
       "</table>\n",
       "</div>"
      ],
      "text/plain": [
       "      Names  Year\n",
       "0  Katerina  2011\n",
       "1    Georgi  2017\n",
       "2      Juri  2017\n",
       "3     Denis  2019"
      ]
     },
     "execution_count": 14,
     "metadata": {},
     "output_type": "execute_result"
    }
   ],
   "source": [
    "#Sub select some columns - this results in a new data frame\n",
    "df[['Names', 'Year']]"
   ]
  },
  {
   "cell_type": "code",
   "execution_count": 18,
   "metadata": {},
   "outputs": [
    {
     "name": "stdout",
     "output_type": "stream",
     "text": [
      "Ivan\n",
      "Ivan\n",
      "Ivan\n",
      "Ivan\n",
      "2011\n",
      "2017\n",
      "2017\n",
      "2019\n"
     ]
    }
   ],
   "source": [
    "#Access the elements of the data frame by indexes and names\n",
    "print(df.iloc[0,0])\n",
    "print(df.iloc[1,0])\n",
    "print(df.iloc[2,0])\n",
    "print(df.iloc[3,0])\n",
    "print(df.loc[0,'Year'])\n",
    "print(df.loc[1,'Year'])\n",
    "print(df.loc[2,'Year'])\n",
    "print(df.loc[3,'Year'])"
   ]
  },
  {
   "cell_type": "code",
   "execution_count": 22,
   "metadata": {},
   "outputs": [
    {
     "data": {
      "text/html": [
       "<div>\n",
       "<style scoped>\n",
       "    .dataframe tbody tr th:only-of-type {\n",
       "        vertical-align: middle;\n",
       "    }\n",
       "\n",
       "    .dataframe tbody tr th {\n",
       "        vertical-align: top;\n",
       "    }\n",
       "\n",
       "    .dataframe thead th {\n",
       "        text-align: right;\n",
       "    }\n",
       "</style>\n",
       "<table border=\"1\" class=\"dataframe\">\n",
       "  <thead>\n",
       "    <tr style=\"text-align: right;\">\n",
       "      <th></th>\n",
       "      <th>Mother</th>\n",
       "      <th>Names</th>\n",
       "      <th>Year</th>\n",
       "    </tr>\n",
       "  </thead>\n",
       "  <tbody>\n",
       "    <tr>\n",
       "      <th>0</th>\n",
       "      <td>Galina</td>\n",
       "      <td>Katerina</td>\n",
       "      <td>2011</td>\n",
       "    </tr>\n",
       "    <tr>\n",
       "      <th>1</th>\n",
       "      <td>Galina</td>\n",
       "      <td>Georgi</td>\n",
       "      <td>2017</td>\n",
       "    </tr>\n",
       "    <tr>\n",
       "      <th>2</th>\n",
       "      <td>Galina</td>\n",
       "      <td>Juri</td>\n",
       "      <td>2017</td>\n",
       "    </tr>\n",
       "  </tbody>\n",
       "</table>\n",
       "</div>"
      ],
      "text/plain": [
       "   Mother     Names  Year\n",
       "0  Galina  Katerina  2011\n",
       "1  Galina    Georgi  2017\n",
       "2  Galina      Juri  2017"
      ]
     },
     "execution_count": 22,
     "metadata": {},
     "output_type": "execute_result"
    }
   ],
   "source": [
    "#Slice the data frame\n",
    "df_slice = df.loc[0:2, 'Mother':\"Year\"]\n",
    "df_slice.head()"
   ]
  },
  {
   "cell_type": "code",
   "execution_count": 28,
   "metadata": {},
   "outputs": [
    {
     "name": "stdout",
     "output_type": "stream",
     "text": [
      "[1000 2000]\n"
     ]
    }
   ],
   "source": [
    "#Get the unique column values\n",
    "df = pd.DataFrame({\"Name\":[\"Ivan\",\"Galina\",\"Ivan\",\"Galina\"],\n",
    "                   \"Year\":[2019, 2019, 2020, 2020],\n",
    "                   \"Income\":[1000, 2000, 2000, 1000]})\n",
    "\n",
    "print(df['Income'].unique())"
   ]
  },
  {
   "cell_type": "code",
   "execution_count": 31,
   "metadata": {},
   "outputs": [
    {
     "name": "stdout",
     "output_type": "stream",
     "text": [
      "0    False\n",
      "1    False\n",
      "2     True\n",
      "3     True\n",
      "Name: Year, dtype: bool\n"
     ]
    }
   ],
   "source": [
    "# Selectors with pandas data frames\n",
    "print(df['Year'] > 2019)"
   ]
  },
  {
   "cell_type": "code",
   "execution_count": 33,
   "metadata": {},
   "outputs": [
    {
     "name": "stdout",
     "output_type": "stream",
     "text": [
      "   Income    Name  Year\n",
      "2    2000    Ivan  2020\n",
      "3    1000  Galina  2020\n"
     ]
    }
   ],
   "source": [
    "#Get the data using the selectors\n",
    "print(df[df['Year'] > 2019])"
   ]
  },
  {
   "cell_type": "code",
   "execution_count": 37,
   "metadata": {},
   "outputs": [
    {
     "name": "stdout",
     "output_type": "stream",
     "text": [
      ",Income,Name,Year\n",
      "0,1000,Ivan,2019\n",
      "1,2000,Galina,2019\n",
      "2,2000,Ivan,2020\n",
      "3,1000,Galina,2020\n",
      "\n"
     ]
    }
   ],
   "source": [
    "#Safe the resulting data into a csv file\n",
    "df = pd.DataFrame({\"Name\":[\"Ivan\",\"Galina\",\"Ivan\",\"Galina\"],\n",
    "                   \"Year\":[2019, 2019, 2020, 2020],\n",
    "                   \"Income\":[1000, 2000, 2000, 1000]})\n",
    "\n",
    "file_name = \"data/family.csv\"\n",
    "df.to_csv(file_name)\n",
    "\n",
    "with open(file_name, \"r\") as my_file:\n",
    "    print(my_file.read())\n"
   ]
  },
  {
   "cell_type": "code",
   "execution_count": 42,
   "metadata": {},
   "outputs": [
    {
     "name": "stdout",
     "output_type": "stream",
     "text": [
      "0     True\n",
      "1    False\n",
      "2     True\n",
      "Name: a, dtype: bool\n",
      "<class 'pandas.core.series.Series'>\n"
     ]
    }
   ],
   "source": [
    "df = pd.DataFrame({'a':[1,2,1],'b':[1,1,1]})\n",
    "print(df['a'] == 1)\n",
    "\n",
    "res = (df['a'] == 1)\n",
    "print(type(res))\n"
   ]
  }
 ],
 "metadata": {
  "kernelspec": {
   "display_name": "Python 2",
   "language": "python",
   "name": "python2"
  },
  "language_info": {
   "codemirror_mode": {
    "name": "ipython",
    "version": 2
   },
   "file_extension": ".py",
   "mimetype": "text/x-python",
   "name": "python",
   "nbconvert_exporter": "python",
   "pygments_lexer": "ipython2",
   "version": "2.7.16"
  }
 },
 "nbformat": 4,
 "nbformat_minor": 2
}
